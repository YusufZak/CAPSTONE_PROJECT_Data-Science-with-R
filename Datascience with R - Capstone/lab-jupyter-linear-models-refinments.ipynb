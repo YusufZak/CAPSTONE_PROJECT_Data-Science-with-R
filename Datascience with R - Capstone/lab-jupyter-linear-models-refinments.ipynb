{
 "cells": [
  {
   "cell_type": "markdown",
   "metadata": {},
   "source": [
    "<a href=\"https://cognitiveclass.ai/?utm_medium=Exinfluencer&utm_source=Exinfluencer&utm_content=000026UJ&utm_term=10006555&utm_id=NA-SkillsNetwork-Channel-SkillsNetworkCoursesIBMDeveloperSkillsNetworkRP0321ENSkillsNetwork25371262-2021-01-01\">\n",
    "    <img src=\"https://cf-courses-data.s3.us.cloud-object-storage.appdomain.cloud/IBMDeveloperSkillsNetwork-RP0101EN-Coursera/v2/M1_R_Basics/images/IDSNlogo.png\" width=\"200\" align=\"center\">\n",
    "</a>\n"
   ]
  },
  {
   "cell_type": "markdown",
   "metadata": {},
   "source": [
    "<h1>Refine the Baseline Regression Models</h1>\n",
    "\n",
    "Estimated time needed: **120** minutes\n"
   ]
  },
  {
   "cell_type": "markdown",
   "metadata": {},
   "source": [
    "## Lab Overview:\n",
    "\n",
    "Now you have built a baseline regression model with some relatively good RMSE and R-squared reported values. However, we could still improve it by using methods like adding polynomial and interaction terms, regularization, and so on.\n",
    "\n",
    "In this lab, you will be asked to continue using `tidymodels` to improve the performance of baseline model:\n",
    "\n",
    "*   **TASK: Add polynomial terms**\n",
    "*   **TASK: Add interactions terms**\n",
    "*   **TASK: Add regularizations terms**\n",
    "*   **TASK: Experiment to search for improved models**\n",
    "\n",
    "Let's start!\n"
   ]
  },
  {
   "cell_type": "markdown",
   "metadata": {},
   "source": [
    "First install and import necessary libraries\n"
   ]
  },
  {
   "cell_type": "code",
   "execution_count": 1,
   "metadata": {},
   "outputs": [],
   "source": [
    "# Check whether you need to install `rlang` and `tidymodels` libraries\n",
    "# install.packages(\"rlang\")\n",
    "# install.packages(\"tidymodels\")"
   ]
  },
  {
   "cell_type": "code",
   "execution_count": 1,
   "metadata": {},
   "outputs": [
    {
     "name": "stderr",
     "output_type": "stream",
     "text": [
      "Registered S3 method overwritten by 'tune':\n",
      "  method                   from   \n",
      "  required_pkgs.model_spec parsnip\n",
      "\n",
      "-- \u001b[1mAttaching packages\u001b[22m ------------------------------------------------------------------------------ tidymodels 0.1.4 --\n",
      "\n",
      "\u001b[32mv\u001b[39m \u001b[34mbroom       \u001b[39m 0.7.11     \u001b[32mv\u001b[39m \u001b[34mrecipes     \u001b[39m 0.1.17\n",
      "\u001b[32mv\u001b[39m \u001b[34mdials       \u001b[39m 0.0.10     \u001b[32mv\u001b[39m \u001b[34mrsample     \u001b[39m 0.1.1 \n",
      "\u001b[32mv\u001b[39m \u001b[34mdplyr       \u001b[39m 1.0.7      \u001b[32mv\u001b[39m \u001b[34mtibble      \u001b[39m 3.1.6 \n",
      "\u001b[32mv\u001b[39m \u001b[34mggplot2     \u001b[39m 3.3.5      \u001b[32mv\u001b[39m \u001b[34mtidyr       \u001b[39m 1.1.4 \n",
      "\u001b[32mv\u001b[39m \u001b[34minfer       \u001b[39m 1.0.0      \u001b[32mv\u001b[39m \u001b[34mtune        \u001b[39m 0.1.6 \n",
      "\u001b[32mv\u001b[39m \u001b[34mmodeldata   \u001b[39m 0.1.1      \u001b[32mv\u001b[39m \u001b[34mworkflows   \u001b[39m 0.2.4 \n",
      "\u001b[32mv\u001b[39m \u001b[34mparsnip     \u001b[39m 0.1.7      \u001b[32mv\u001b[39m \u001b[34mworkflowsets\u001b[39m 0.1.0 \n",
      "\u001b[32mv\u001b[39m \u001b[34mpurrr       \u001b[39m 0.3.4      \u001b[32mv\u001b[39m \u001b[34myardstick   \u001b[39m 0.0.9 \n",
      "\n",
      "-- \u001b[1mConflicts\u001b[22m --------------------------------------------------------------------------------- tidymodels_conflicts() --\n",
      "\u001b[31mx\u001b[39m \u001b[34mpurrr\u001b[39m::\u001b[32mdiscard()\u001b[39m masks \u001b[34mscales\u001b[39m::discard()\n",
      "\u001b[31mx\u001b[39m \u001b[34mdplyr\u001b[39m::\u001b[32mfilter()\u001b[39m  masks \u001b[34mstats\u001b[39m::filter()\n",
      "\u001b[31mx\u001b[39m \u001b[34mdplyr\u001b[39m::\u001b[32mlag()\u001b[39m     masks \u001b[34mstats\u001b[39m::lag()\n",
      "\u001b[31mx\u001b[39m \u001b[34mrecipes\u001b[39m::\u001b[32mstep()\u001b[39m  masks \u001b[34mstats\u001b[39m::step()\n",
      "\u001b[34m*\u001b[39m Learn how to get started at \u001b[32mhttps://www.tidymodels.org/start/\u001b[39m\n",
      "\n",
      "-- \u001b[1mAttaching packages\u001b[22m ------------------------------------------------------------------------------- tidyverse 1.3.1 --\n",
      "\n",
      "\u001b[32mv\u001b[39m \u001b[34mreadr  \u001b[39m 2.1.1     \u001b[32mv\u001b[39m \u001b[34mforcats\u001b[39m 0.5.1\n",
      "\u001b[32mv\u001b[39m \u001b[34mstringr\u001b[39m 1.4.0     \n",
      "\n",
      "-- \u001b[1mConflicts\u001b[22m ---------------------------------------------------------------------------------- tidyverse_conflicts() --\n",
      "\u001b[31mx\u001b[39m \u001b[34mreadr\u001b[39m::\u001b[32mcol_factor()\u001b[39m masks \u001b[34mscales\u001b[39m::col_factor()\n",
      "\u001b[31mx\u001b[39m \u001b[34mpurrr\u001b[39m::\u001b[32mdiscard()\u001b[39m    masks \u001b[34mscales\u001b[39m::discard()\n",
      "\u001b[31mx\u001b[39m \u001b[34mdplyr\u001b[39m::\u001b[32mfilter()\u001b[39m     masks \u001b[34mstats\u001b[39m::filter()\n",
      "\u001b[31mx\u001b[39m \u001b[34mstringr\u001b[39m::\u001b[32mfixed()\u001b[39m    masks \u001b[34mrecipes\u001b[39m::fixed()\n",
      "\u001b[31mx\u001b[39m \u001b[34mdplyr\u001b[39m::\u001b[32mlag()\u001b[39m        masks \u001b[34mstats\u001b[39m::lag()\n",
      "\u001b[31mx\u001b[39m \u001b[34mreadr\u001b[39m::\u001b[32mspec()\u001b[39m       masks \u001b[34myardstick\u001b[39m::spec()\n",
      "\n"
     ]
    }
   ],
   "source": [
    "library(\"tidymodels\")\n",
    "library(\"tidyverse\")\n",
    "library(\"stringr\")"
   ]
  },
  {
   "cell_type": "markdown",
   "metadata": {},
   "source": [
    "The processed Seoul bike sharing dataset `seoul_bike_sharing_converted_normalized.csv`,  includes the converted indicator variables, and the numerical variables have been normalized.\n",
    "Let's read it as a dataframe first:\n"
   ]
  },
  {
   "cell_type": "code",
   "execution_count": 2,
   "metadata": {},
   "outputs": [
    {
     "name": "stderr",
     "output_type": "stream",
     "text": [
      "\u001b[1mRows: \u001b[22m\u001b[34m8465\u001b[39m \u001b[1mColumns: \u001b[22m\u001b[34m41\u001b[39m\n",
      "\n",
      "\u001b[36m--\u001b[39m \u001b[1mColumn specification\u001b[22m \u001b[36m------------------------------------------------------------------------------------------------\u001b[39m\n",
      "\u001b[1mDelimiter:\u001b[22m \",\"\n",
      "\u001b[31mchr\u001b[39m  (2): DATE, FUNCTIONING_DAY\n",
      "\u001b[32mdbl\u001b[39m (39): RENTED_BIKE_COUNT, TEMPERATURE, HUMIDITY, WIND_SPEED, VISIBILITY, ...\n",
      "\n",
      "\n",
      "\u001b[36mi\u001b[39m Use \u001b[30m\u001b[47m\u001b[30m\u001b[47m`spec()`\u001b[47m\u001b[30m\u001b[49m\u001b[39m to retrieve the full column specification for this data.\n",
      "\u001b[36mi\u001b[39m Specify the column types or set \u001b[30m\u001b[47m\u001b[30m\u001b[47m`show_col_types = FALSE`\u001b[47m\u001b[30m\u001b[49m\u001b[39m to quiet this message.\n",
      "\n"
     ]
    },
    {
     "data": {
      "text/plain": [
       "cols(\n",
       "  DATE = \u001b[31mcol_character()\u001b[39m,\n",
       "  RENTED_BIKE_COUNT = \u001b[32mcol_double()\u001b[39m,\n",
       "  TEMPERATURE = \u001b[32mcol_double()\u001b[39m,\n",
       "  HUMIDITY = \u001b[32mcol_double()\u001b[39m,\n",
       "  WIND_SPEED = \u001b[32mcol_double()\u001b[39m,\n",
       "  VISIBILITY = \u001b[32mcol_double()\u001b[39m,\n",
       "  DEW_POINT_TEMPERATURE = \u001b[32mcol_double()\u001b[39m,\n",
       "  SOLAR_RADIATION = \u001b[32mcol_double()\u001b[39m,\n",
       "  RAINFALL = \u001b[32mcol_double()\u001b[39m,\n",
       "  SNOWFALL = \u001b[32mcol_double()\u001b[39m,\n",
       "  FUNCTIONING_DAY = \u001b[31mcol_character()\u001b[39m,\n",
       "  `0` = \u001b[32mcol_double()\u001b[39m,\n",
       "  `1` = \u001b[32mcol_double()\u001b[39m,\n",
       "  `10` = \u001b[32mcol_double()\u001b[39m,\n",
       "  `11` = \u001b[32mcol_double()\u001b[39m,\n",
       "  `12` = \u001b[32mcol_double()\u001b[39m,\n",
       "  `13` = \u001b[32mcol_double()\u001b[39m,\n",
       "  `14` = \u001b[32mcol_double()\u001b[39m,\n",
       "  `15` = \u001b[32mcol_double()\u001b[39m,\n",
       "  `16` = \u001b[32mcol_double()\u001b[39m,\n",
       "  `17` = \u001b[32mcol_double()\u001b[39m,\n",
       "  `18` = \u001b[32mcol_double()\u001b[39m,\n",
       "  `19` = \u001b[32mcol_double()\u001b[39m,\n",
       "  `2` = \u001b[32mcol_double()\u001b[39m,\n",
       "  `20` = \u001b[32mcol_double()\u001b[39m,\n",
       "  `21` = \u001b[32mcol_double()\u001b[39m,\n",
       "  `22` = \u001b[32mcol_double()\u001b[39m,\n",
       "  `23` = \u001b[32mcol_double()\u001b[39m,\n",
       "  `3` = \u001b[32mcol_double()\u001b[39m,\n",
       "  `4` = \u001b[32mcol_double()\u001b[39m,\n",
       "  `5` = \u001b[32mcol_double()\u001b[39m,\n",
       "  `6` = \u001b[32mcol_double()\u001b[39m,\n",
       "  `7` = \u001b[32mcol_double()\u001b[39m,\n",
       "  `8` = \u001b[32mcol_double()\u001b[39m,\n",
       "  `9` = \u001b[32mcol_double()\u001b[39m,\n",
       "  AUTUMN = \u001b[32mcol_double()\u001b[39m,\n",
       "  SPRING = \u001b[32mcol_double()\u001b[39m,\n",
       "  SUMMER = \u001b[32mcol_double()\u001b[39m,\n",
       "  WINTER = \u001b[32mcol_double()\u001b[39m,\n",
       "  HOLIDAY = \u001b[32mcol_double()\u001b[39m,\n",
       "  NO_HOLIDAY = \u001b[32mcol_double()\u001b[39m\n",
       ")"
      ]
     },
     "metadata": {},
     "output_type": "display_data"
    }
   ],
   "source": [
    "# Dataset URL\n",
    "dataset_url <- \"https://cf-courses-data.s3.us.cloud-object-storage.appdomain.cloud/IBMDeveloperSkillsNetwork-RP0321EN-SkillsNetwork/labs/datasets/seoul_bike_sharing_converted_normalized.csv\"\n",
    "bike_sharing_df <- read_csv(dataset_url)\n",
    "spec(bike_sharing_df)\n",
    "write.csv(bike_sharing_df, file = 'bike_sharing_df_wk4.csv')"
   ]
  },
  {
   "cell_type": "code",
   "execution_count": 3,
   "metadata": {},
   "outputs": [
    {
     "data": {
      "text/html": [
       "<table class=\"dataframe\">\n",
       "<caption>A tibble: 6 × 41</caption>\n",
       "<thead>\n",
       "\t<tr><th scope=col>DATE</th><th scope=col>RENTED_BIKE_COUNT</th><th scope=col>TEMPERATURE</th><th scope=col>HUMIDITY</th><th scope=col>WIND_SPEED</th><th scope=col>VISIBILITY</th><th scope=col>DEW_POINT_TEMPERATURE</th><th scope=col>SOLAR_RADIATION</th><th scope=col>RAINFALL</th><th scope=col>SNOWFALL</th><th scope=col>...</th><th scope=col>6</th><th scope=col>7</th><th scope=col>8</th><th scope=col>9</th><th scope=col>AUTUMN</th><th scope=col>SPRING</th><th scope=col>SUMMER</th><th scope=col>WINTER</th><th scope=col>HOLIDAY</th><th scope=col>NO_HOLIDAY</th></tr>\n",
       "\t<tr><th scope=col>&lt;chr&gt;</th><th scope=col>&lt;dbl&gt;</th><th scope=col>&lt;dbl&gt;</th><th scope=col>&lt;dbl&gt;</th><th scope=col>&lt;dbl&gt;</th><th scope=col>&lt;dbl&gt;</th><th scope=col>&lt;dbl&gt;</th><th scope=col>&lt;dbl&gt;</th><th scope=col>&lt;dbl&gt;</th><th scope=col>&lt;dbl&gt;</th><th scope=col>...</th><th scope=col>&lt;dbl&gt;</th><th scope=col>&lt;dbl&gt;</th><th scope=col>&lt;dbl&gt;</th><th scope=col>&lt;dbl&gt;</th><th scope=col>&lt;dbl&gt;</th><th scope=col>&lt;dbl&gt;</th><th scope=col>&lt;dbl&gt;</th><th scope=col>&lt;dbl&gt;</th><th scope=col>&lt;dbl&gt;</th><th scope=col>&lt;dbl&gt;</th></tr>\n",
       "</thead>\n",
       "<tbody>\n",
       "\t<tr><td>01/12/2017</td><td>254</td><td>0.2202797</td><td>0.3775510</td><td>0.2972973</td><td>1</td><td>0.2249135</td><td>0</td><td>0</td><td>0</td><td>...</td><td>0</td><td>0</td><td>0</td><td>0</td><td>0</td><td>0</td><td>0</td><td>1</td><td>0</td><td>1</td></tr>\n",
       "\t<tr><td>01/12/2017</td><td>204</td><td>0.2150350</td><td>0.3877551</td><td>0.1081081</td><td>1</td><td>0.2249135</td><td>0</td><td>0</td><td>0</td><td>...</td><td>0</td><td>0</td><td>0</td><td>0</td><td>0</td><td>0</td><td>0</td><td>1</td><td>0</td><td>1</td></tr>\n",
       "\t<tr><td>01/12/2017</td><td>173</td><td>0.2062937</td><td>0.3979592</td><td>0.1351351</td><td>1</td><td>0.2231834</td><td>0</td><td>0</td><td>0</td><td>...</td><td>0</td><td>0</td><td>0</td><td>0</td><td>0</td><td>0</td><td>0</td><td>1</td><td>0</td><td>1</td></tr>\n",
       "\t<tr><td>01/12/2017</td><td>107</td><td>0.2027972</td><td>0.4081633</td><td>0.1216216</td><td>1</td><td>0.2249135</td><td>0</td><td>0</td><td>0</td><td>...</td><td>0</td><td>0</td><td>0</td><td>0</td><td>0</td><td>0</td><td>0</td><td>1</td><td>0</td><td>1</td></tr>\n",
       "\t<tr><td>01/12/2017</td><td> 78</td><td>0.2062937</td><td>0.3673469</td><td>0.3108108</td><td>1</td><td>0.2076125</td><td>0</td><td>0</td><td>0</td><td>...</td><td>0</td><td>0</td><td>0</td><td>0</td><td>0</td><td>0</td><td>0</td><td>1</td><td>0</td><td>1</td></tr>\n",
       "\t<tr><td>01/12/2017</td><td>100</td><td>0.1993007</td><td>0.3775510</td><td>0.2027027</td><td>1</td><td>0.2058824</td><td>0</td><td>0</td><td>0</td><td>...</td><td>0</td><td>0</td><td>0</td><td>0</td><td>0</td><td>0</td><td>0</td><td>1</td><td>0</td><td>1</td></tr>\n",
       "</tbody>\n",
       "</table>\n"
      ],
      "text/latex": [
       "A tibble: 6 × 41\n",
       "\\begin{tabular}{lllllllllllllllllllll}\n",
       " DATE & RENTED\\_BIKE\\_COUNT & TEMPERATURE & HUMIDITY & WIND\\_SPEED & VISIBILITY & DEW\\_POINT\\_TEMPERATURE & SOLAR\\_RADIATION & RAINFALL & SNOWFALL & ... & 6 & 7 & 8 & 9 & AUTUMN & SPRING & SUMMER & WINTER & HOLIDAY & NO\\_HOLIDAY\\\\\n",
       " <chr> & <dbl> & <dbl> & <dbl> & <dbl> & <dbl> & <dbl> & <dbl> & <dbl> & <dbl> & ... & <dbl> & <dbl> & <dbl> & <dbl> & <dbl> & <dbl> & <dbl> & <dbl> & <dbl> & <dbl>\\\\\n",
       "\\hline\n",
       "\t 01/12/2017 & 254 & 0.2202797 & 0.3775510 & 0.2972973 & 1 & 0.2249135 & 0 & 0 & 0 & ... & 0 & 0 & 0 & 0 & 0 & 0 & 0 & 1 & 0 & 1\\\\\n",
       "\t 01/12/2017 & 204 & 0.2150350 & 0.3877551 & 0.1081081 & 1 & 0.2249135 & 0 & 0 & 0 & ... & 0 & 0 & 0 & 0 & 0 & 0 & 0 & 1 & 0 & 1\\\\\n",
       "\t 01/12/2017 & 173 & 0.2062937 & 0.3979592 & 0.1351351 & 1 & 0.2231834 & 0 & 0 & 0 & ... & 0 & 0 & 0 & 0 & 0 & 0 & 0 & 1 & 0 & 1\\\\\n",
       "\t 01/12/2017 & 107 & 0.2027972 & 0.4081633 & 0.1216216 & 1 & 0.2249135 & 0 & 0 & 0 & ... & 0 & 0 & 0 & 0 & 0 & 0 & 0 & 1 & 0 & 1\\\\\n",
       "\t 01/12/2017 &  78 & 0.2062937 & 0.3673469 & 0.3108108 & 1 & 0.2076125 & 0 & 0 & 0 & ... & 0 & 0 & 0 & 0 & 0 & 0 & 0 & 1 & 0 & 1\\\\\n",
       "\t 01/12/2017 & 100 & 0.1993007 & 0.3775510 & 0.2027027 & 1 & 0.2058824 & 0 & 0 & 0 & ... & 0 & 0 & 0 & 0 & 0 & 0 & 0 & 1 & 0 & 1\\\\\n",
       "\\end{tabular}\n"
      ],
      "text/markdown": [
       "\n",
       "A tibble: 6 × 41\n",
       "\n",
       "| DATE &lt;chr&gt; | RENTED_BIKE_COUNT &lt;dbl&gt; | TEMPERATURE &lt;dbl&gt; | HUMIDITY &lt;dbl&gt; | WIND_SPEED &lt;dbl&gt; | VISIBILITY &lt;dbl&gt; | DEW_POINT_TEMPERATURE &lt;dbl&gt; | SOLAR_RADIATION &lt;dbl&gt; | RAINFALL &lt;dbl&gt; | SNOWFALL &lt;dbl&gt; | ... ... | 6 &lt;dbl&gt; | 7 &lt;dbl&gt; | 8 &lt;dbl&gt; | 9 &lt;dbl&gt; | AUTUMN &lt;dbl&gt; | SPRING &lt;dbl&gt; | SUMMER &lt;dbl&gt; | WINTER &lt;dbl&gt; | HOLIDAY &lt;dbl&gt; | NO_HOLIDAY &lt;dbl&gt; |\n",
       "|---|---|---|---|---|---|---|---|---|---|---|---|---|---|---|---|---|---|---|---|---|\n",
       "| 01/12/2017 | 254 | 0.2202797 | 0.3775510 | 0.2972973 | 1 | 0.2249135 | 0 | 0 | 0 | ... | 0 | 0 | 0 | 0 | 0 | 0 | 0 | 1 | 0 | 1 |\n",
       "| 01/12/2017 | 204 | 0.2150350 | 0.3877551 | 0.1081081 | 1 | 0.2249135 | 0 | 0 | 0 | ... | 0 | 0 | 0 | 0 | 0 | 0 | 0 | 1 | 0 | 1 |\n",
       "| 01/12/2017 | 173 | 0.2062937 | 0.3979592 | 0.1351351 | 1 | 0.2231834 | 0 | 0 | 0 | ... | 0 | 0 | 0 | 0 | 0 | 0 | 0 | 1 | 0 | 1 |\n",
       "| 01/12/2017 | 107 | 0.2027972 | 0.4081633 | 0.1216216 | 1 | 0.2249135 | 0 | 0 | 0 | ... | 0 | 0 | 0 | 0 | 0 | 0 | 0 | 1 | 0 | 1 |\n",
       "| 01/12/2017 |  78 | 0.2062937 | 0.3673469 | 0.3108108 | 1 | 0.2076125 | 0 | 0 | 0 | ... | 0 | 0 | 0 | 0 | 0 | 0 | 0 | 1 | 0 | 1 |\n",
       "| 01/12/2017 | 100 | 0.1993007 | 0.3775510 | 0.2027027 | 1 | 0.2058824 | 0 | 0 | 0 | ... | 0 | 0 | 0 | 0 | 0 | 0 | 0 | 1 | 0 | 1 |\n",
       "\n"
      ],
      "text/plain": [
       "  DATE       RENTED_BIKE_COUNT TEMPERATURE HUMIDITY  WIND_SPEED VISIBILITY\n",
       "1 01/12/2017 254               0.2202797   0.3775510 0.2972973  1         \n",
       "2 01/12/2017 204               0.2150350   0.3877551 0.1081081  1         \n",
       "3 01/12/2017 173               0.2062937   0.3979592 0.1351351  1         \n",
       "4 01/12/2017 107               0.2027972   0.4081633 0.1216216  1         \n",
       "5 01/12/2017  78               0.2062937   0.3673469 0.3108108  1         \n",
       "6 01/12/2017 100               0.1993007   0.3775510 0.2027027  1         \n",
       "  DEW_POINT_TEMPERATURE SOLAR_RADIATION RAINFALL SNOWFALL ... 6 7 8 9 AUTUMN\n",
       "1 0.2249135             0               0        0        ... 0 0 0 0 0     \n",
       "2 0.2249135             0               0        0        ... 0 0 0 0 0     \n",
       "3 0.2231834             0               0        0        ... 0 0 0 0 0     \n",
       "4 0.2249135             0               0        0        ... 0 0 0 0 0     \n",
       "5 0.2076125             0               0        0        ... 0 0 0 0 0     \n",
       "6 0.2058824             0               0        0        ... 0 0 0 0 0     \n",
       "  SPRING SUMMER WINTER HOLIDAY NO_HOLIDAY\n",
       "1 0      0      1      0       1         \n",
       "2 0      0      1      0       1         \n",
       "3 0      0      1      0       1         \n",
       "4 0      0      1      0       1         \n",
       "5 0      0      1      0       1         \n",
       "6 0      0      1      0       1         "
      ]
     },
     "metadata": {},
     "output_type": "display_data"
    },
    {
     "data": {
      "text/html": [
       "<style>\n",
       ".list-inline {list-style: none; margin:0; padding: 0}\n",
       ".list-inline>li {display: inline-block}\n",
       ".list-inline>li:not(:last-child)::after {content: \"\\00b7\"; padding: 0 .5ex}\n",
       "</style>\n",
       "<ol class=list-inline><li>'DATE'</li><li>'RENTED_BIKE_COUNT'</li><li>'TEMPERATURE'</li><li>'HUMIDITY'</li><li>'WIND_SPEED'</li><li>'VISIBILITY'</li><li>'DEW_POINT_TEMPERATURE'</li><li>'SOLAR_RADIATION'</li><li>'RAINFALL'</li><li>'SNOWFALL'</li><li>'FUNCTIONING_DAY'</li><li>'0'</li><li>'1'</li><li>'10'</li><li>'11'</li><li>'12'</li><li>'13'</li><li>'14'</li><li>'15'</li><li>'16'</li><li>'17'</li><li>'18'</li><li>'19'</li><li>'2'</li><li>'20'</li><li>'21'</li><li>'22'</li><li>'23'</li><li>'3'</li><li>'4'</li><li>'5'</li><li>'6'</li><li>'7'</li><li>'8'</li><li>'9'</li><li>'AUTUMN'</li><li>'SPRING'</li><li>'SUMMER'</li><li>'WINTER'</li><li>'HOLIDAY'</li><li>'NO_HOLIDAY'</li></ol>\n"
      ],
      "text/latex": [
       "\\begin{enumerate*}\n",
       "\\item 'DATE'\n",
       "\\item 'RENTED\\_BIKE\\_COUNT'\n",
       "\\item 'TEMPERATURE'\n",
       "\\item 'HUMIDITY'\n",
       "\\item 'WIND\\_SPEED'\n",
       "\\item 'VISIBILITY'\n",
       "\\item 'DEW\\_POINT\\_TEMPERATURE'\n",
       "\\item 'SOLAR\\_RADIATION'\n",
       "\\item 'RAINFALL'\n",
       "\\item 'SNOWFALL'\n",
       "\\item 'FUNCTIONING\\_DAY'\n",
       "\\item '0'\n",
       "\\item '1'\n",
       "\\item '10'\n",
       "\\item '11'\n",
       "\\item '12'\n",
       "\\item '13'\n",
       "\\item '14'\n",
       "\\item '15'\n",
       "\\item '16'\n",
       "\\item '17'\n",
       "\\item '18'\n",
       "\\item '19'\n",
       "\\item '2'\n",
       "\\item '20'\n",
       "\\item '21'\n",
       "\\item '22'\n",
       "\\item '23'\n",
       "\\item '3'\n",
       "\\item '4'\n",
       "\\item '5'\n",
       "\\item '6'\n",
       "\\item '7'\n",
       "\\item '8'\n",
       "\\item '9'\n",
       "\\item 'AUTUMN'\n",
       "\\item 'SPRING'\n",
       "\\item 'SUMMER'\n",
       "\\item 'WINTER'\n",
       "\\item 'HOLIDAY'\n",
       "\\item 'NO\\_HOLIDAY'\n",
       "\\end{enumerate*}\n"
      ],
      "text/markdown": [
       "1. 'DATE'\n",
       "2. 'RENTED_BIKE_COUNT'\n",
       "3. 'TEMPERATURE'\n",
       "4. 'HUMIDITY'\n",
       "5. 'WIND_SPEED'\n",
       "6. 'VISIBILITY'\n",
       "7. 'DEW_POINT_TEMPERATURE'\n",
       "8. 'SOLAR_RADIATION'\n",
       "9. 'RAINFALL'\n",
       "10. 'SNOWFALL'\n",
       "11. 'FUNCTIONING_DAY'\n",
       "12. '0'\n",
       "13. '1'\n",
       "14. '10'\n",
       "15. '11'\n",
       "16. '12'\n",
       "17. '13'\n",
       "18. '14'\n",
       "19. '15'\n",
       "20. '16'\n",
       "21. '17'\n",
       "22. '18'\n",
       "23. '19'\n",
       "24. '2'\n",
       "25. '20'\n",
       "26. '21'\n",
       "27. '22'\n",
       "28. '23'\n",
       "29. '3'\n",
       "30. '4'\n",
       "31. '5'\n",
       "32. '6'\n",
       "33. '7'\n",
       "34. '8'\n",
       "35. '9'\n",
       "36. 'AUTUMN'\n",
       "37. 'SPRING'\n",
       "38. 'SUMMER'\n",
       "39. 'WINTER'\n",
       "40. 'HOLIDAY'\n",
       "41. 'NO_HOLIDAY'\n",
       "\n",
       "\n"
      ],
      "text/plain": [
       " [1] \"DATE\"                  \"RENTED_BIKE_COUNT\"     \"TEMPERATURE\"          \n",
       " [4] \"HUMIDITY\"              \"WIND_SPEED\"            \"VISIBILITY\"           \n",
       " [7] \"DEW_POINT_TEMPERATURE\" \"SOLAR_RADIATION\"       \"RAINFALL\"             \n",
       "[10] \"SNOWFALL\"              \"FUNCTIONING_DAY\"       \"0\"                    \n",
       "[13] \"1\"                     \"10\"                    \"11\"                   \n",
       "[16] \"12\"                    \"13\"                    \"14\"                   \n",
       "[19] \"15\"                    \"16\"                    \"17\"                   \n",
       "[22] \"18\"                    \"19\"                    \"2\"                    \n",
       "[25] \"20\"                    \"21\"                    \"22\"                   \n",
       "[28] \"23\"                    \"3\"                     \"4\"                    \n",
       "[31] \"5\"                     \"6\"                     \"7\"                    \n",
       "[34] \"8\"                     \"9\"                     \"AUTUMN\"               \n",
       "[37] \"SPRING\"                \"SUMMER\"                \"WINTER\"               \n",
       "[40] \"HOLIDAY\"               \"NO_HOLIDAY\"           "
      ]
     },
     "metadata": {},
     "output_type": "display_data"
    },
    {
     "data": {
      "text/html": [
       "3556"
      ],
      "text/latex": [
       "3556"
      ],
      "text/markdown": [
       "3556"
      ],
      "text/plain": [
       "[1] 3556"
      ]
     },
     "metadata": {},
     "output_type": "display_data"
    }
   ],
   "source": [
    "head(bike_sharing_df)\n",
    "names(bike_sharing_df)\n",
    "max(bike_sharing_df$RENTED_BIKE_COUNT)"
   ]
  },
  {
   "cell_type": "markdown",
   "metadata": {},
   "source": [
    "We won't be using the `DATE` column, because 'as is', it basically acts like an data entry index. (However, given more time, we could use the `DATE` colum to create a 'day of week' or 'isWeekend' column, which we might expect has an affect on preferred bike rental times.) We also do not need the `FUNCTIONAL DAY` column because it only has one distinct value remaining (`YES`) after missing value processing.\n"
   ]
  },
  {
   "cell_type": "code",
   "execution_count": 4,
   "metadata": {},
   "outputs": [],
   "source": [
    "bike_sharing_df <- bike_sharing_df %>% \n",
    "                   select(-DATE, -FUNCTIONING_DAY)"
   ]
  },
  {
   "cell_type": "markdown",
   "metadata": {},
   "source": [
    "Define a linear regression model specification.\n"
   ]
  },
  {
   "cell_type": "code",
   "execution_count": 5,
   "metadata": {},
   "outputs": [],
   "source": [
    "lm_spec <- linear_reg() %>%\n",
    "  set_engine(\"lm\") %>% set_mode(\"regression\")"
   ]
  },
  {
   "cell_type": "markdown",
   "metadata": {},
   "source": [
    "Split the data into training and testing datasets.\n"
   ]
  },
  {
   "cell_type": "code",
   "execution_count": 6,
   "metadata": {},
   "outputs": [],
   "source": [
    "set.seed(1234)\n",
    "data_split <- initial_split(bike_sharing_df, prop = 4/5)\n",
    "train_data <- training(data_split)\n",
    "test_data <- testing(data_split)"
   ]
  },
  {
   "cell_type": "markdown",
   "metadata": {},
   "source": [
    "Now we are ready to refine the previous baseline regression model.\n"
   ]
  },
  {
   "cell_type": "markdown",
   "metadata": {},
   "source": [
    "# TASK: Add polynomial terms\n"
   ]
  },
  {
   "cell_type": "markdown",
   "metadata": {},
   "source": [
    "Linear regression models are the most suitable models to capture the linear correlations among variables. However, in real world data, many relationships may be non-linear.\n"
   ]
  },
  {
   "cell_type": "markdown",
   "metadata": {},
   "source": [
    "For example, the correlation between `RENTED_BIKE_COUNT` and `TEMPERATURE` does not look like linear:\n"
   ]
  },
  {
   "cell_type": "code",
   "execution_count": 7,
   "metadata": {},
   "outputs": [
    {
     "data": {
      "image/png": "[encoded data removed]",
      "text/plain": [
       "plot without title"
      ]
     },
     "metadata": {
      "image/png": {
       "height": 420,
       "width": 420
      }
     },
     "output_type": "display_data"
    }
   ],
   "source": [
    "ggplot(data = train_data, aes(RENTED_BIKE_COUNT, TEMPERATURE)) + \n",
    "    geom_point() "
   ]
  },
  {
   "cell_type": "markdown",
   "metadata": {},
   "source": [
    "One solution to handle such nonlinearity is using polynomial regression by adding polynomial terms. As shown before, higher order polynomials are better than the first order polynomial.  "
   ]
  },
  {
   "cell_type": "code",
   "execution_count": 8,
   "metadata": {},
   "outputs": [
    {
     "data": {
      "image/png": "[encoded data removed]",
      "text/plain": [
       "plot without title"
      ]
     },
     "metadata": {
      "image/png": {
       "height": 420,
       "width": 420
      }
     },
     "output_type": "display_data"
    }
   ],
   "source": [
    "# Plot the higher order polynomial fits\n",
    "ggplot(data=train_data, aes(RENTED_BIKE_COUNT, TEMPERATURE)) + \n",
    "    geom_point() + \n",
    "    geom_smooth(method = \"lm\", formula = y ~ x, color=\"red\") + \n",
    "    geom_smooth(method = \"lm\", formula = y ~ poly(x, 2), color=\"yellow\") + \n",
    "    geom_smooth(method = \"lm\", formula = y ~ poly(x, 4), color=\"green\") + \n",
    "    geom_smooth(method = \"lm\", formula = y ~ poly(x, 6), color=\"blue\")"
   ]
  },
  {
   "cell_type": "markdown",
   "metadata": {},
   "source": [
    "OK, let's add some higher order polynomials of important variables to the regression models\n"
   ]
  },
  {
   "cell_type": "markdown",
   "metadata": {},
   "source": [
    "*TODO:* Fit a linear regression model `lm_poly` with higher order polynomial terms on the important variables (larger coefficients) found in the baseline model\n"
   ]
  },
  {
   "cell_type": "code",
   "execution_count": 9,
   "metadata": {},
   "outputs": [],
   "source": [
    "# Fit a linear model with higher order polynomial on some important variables\n",
    "\n",
    "# #HINT: Use ploy function to build polynomial terms, lm_poly <- RENTED_BIKE_COUNT ~ poly(TEMPERATURE, 6) + poly(HUMIDITY, 4) .....\n",
    "lm_poly <- fit(lm_spec, RENTED_BIKE_COUNT ~ poly(TEMPERATURE, 6) + poly(HUMIDITY, 4) + \n",
    "                              poly(RAINFALL, 6) + poly(DEW_POINT_TEMPERATURE, 6), data = train_data)"
   ]
  },
  {
   "cell_type": "code",
   "execution_count": 10,
   "metadata": {},
   "outputs": [
    {
     "data": {
      "text/html": [
       "<table class=\"dataframe\">\n",
       "<caption>A tibble: 23 × 5</caption>\n",
       "<thead>\n",
       "\t<tr><th scope=col>term</th><th scope=col>estimate</th><th scope=col>std.error</th><th scope=col>statistic</th><th scope=col>p.value</th></tr>\n",
       "\t<tr><th scope=col>&lt;chr&gt;</th><th scope=col>&lt;dbl&gt;</th><th scope=col>&lt;dbl&gt;</th><th scope=col>&lt;dbl&gt;</th><th scope=col>&lt;dbl&gt;</th></tr>\n",
       "</thead>\n",
       "<tbody>\n",
       "\t<tr><td>(Intercept)                    </td><td>   734.8506</td><td>   5.482162</td><td>134.0439412</td><td>0.000000e+00</td></tr>\n",
       "\t<tr><td>poly(TEMPERATURE, 6)1          </td><td> 53946.6724</td><td>5940.897634</td><td>  9.0805592</td><td>1.395137e-19</td></tr>\n",
       "\t<tr><td>poly(TEMPERATURE, 6)2          </td><td>  2377.4759</td><td> 857.743230</td><td>  2.7717805</td><td>5.590339e-03</td></tr>\n",
       "\t<tr><td>poly(TEMPERATURE, 6)3          </td><td>-10046.7085</td><td> 630.538869</td><td>-15.9335276</td><td>3.879539e-56</td></tr>\n",
       "\t<tr><td>poly(TEMPERATURE, 6)4          </td><td> -5774.4634</td><td> 578.266134</td><td> -9.9858232</td><td>2.550830e-23</td></tr>\n",
       "\t<tr><td>poly(TEMPERATURE, 6)5          </td><td>  -671.7640</td><td> 529.450673</td><td> -1.2687942</td><td>2.045582e-01</td></tr>\n",
       "\t<tr><td>poly(TEMPERATURE, 6)6          </td><td>   871.6173</td><td> 501.987041</td><td>  1.7363342</td><td>8.255039e-02</td></tr>\n",
       "\t<tr><td>poly(HUMIDITY, 4)1             </td><td> -4858.9010</td><td>2856.777142</td><td> -1.7008330</td><td>8.902041e-02</td></tr>\n",
       "\t<tr><td>poly(HUMIDITY, 4)2             </td><td> -6568.9643</td><td> 673.639725</td><td> -9.7514503</td><td>2.551844e-22</td></tr>\n",
       "\t<tr><td>poly(HUMIDITY, 4)3             </td><td>   143.1155</td><td> 527.906004</td><td>  0.2711003</td><td>7.863222e-01</td></tr>\n",
       "\t<tr><td>poly(HUMIDITY, 4)4             </td><td>  -513.0741</td><td> 617.117813</td><td> -0.8314039</td><td>4.057749e-01</td></tr>\n",
       "\t<tr><td>poly(RAINFALL, 6)1             </td><td> -3188.9835</td><td> 526.403784</td><td> -6.0580558</td><td>1.451876e-09</td></tr>\n",
       "\t<tr><td>poly(RAINFALL, 6)2             </td><td>  2570.9360</td><td> 489.461648</td><td>  5.2525791</td><td>1.545719e-07</td></tr>\n",
       "\t<tr><td>poly(RAINFALL, 6)3             </td><td> -2160.3178</td><td> 473.671534</td><td> -4.5607929</td><td>5.186083e-06</td></tr>\n",
       "\t<tr><td>poly(RAINFALL, 6)4             </td><td>  1870.3988</td><td> 465.648632</td><td>  4.0167599</td><td>5.964429e-05</td></tr>\n",
       "\t<tr><td>poly(RAINFALL, 6)5             </td><td> -1678.7596</td><td> 459.485792</td><td> -3.6535615</td><td>2.605896e-04</td></tr>\n",
       "\t<tr><td>poly(RAINFALL, 6)6             </td><td>  1635.5330</td><td> 455.948845</td><td>  3.5870975</td><td>3.367467e-04</td></tr>\n",
       "\t<tr><td>poly(DEW_POINT_TEMPERATURE, 6)1</td><td>-25322.2962</td><td>7056.824315</td><td> -3.5883416</td><td>3.351474e-04</td></tr>\n",
       "\t<tr><td>poly(DEW_POINT_TEMPERATURE, 6)2</td><td>-10954.8864</td><td> 899.312355</td><td>-12.1814032</td><td>8.819551e-34</td></tr>\n",
       "\t<tr><td>poly(DEW_POINT_TEMPERATURE, 6)3</td><td> -3132.3182</td><td> 637.707781</td><td> -4.9118394</td><td>9.234982e-07</td></tr>\n",
       "\t<tr><td>poly(DEW_POINT_TEMPERATURE, 6)4</td><td>  1749.8186</td><td> 579.582698</td><td>  3.0191008</td><td>2.544737e-03</td></tr>\n",
       "\t<tr><td>poly(DEW_POINT_TEMPERATURE, 6)5</td><td>  1448.9760</td><td> 514.117822</td><td>  2.8183734</td><td>4.840812e-03</td></tr>\n",
       "\t<tr><td>poly(DEW_POINT_TEMPERATURE, 6)6</td><td>   331.4293</td><td> 465.814985</td><td>  0.7115042</td><td>4.767964e-01</td></tr>\n",
       "</tbody>\n",
       "</table>\n"
      ],
      "text/latex": [
       "A tibble: 23 × 5\n",
       "\\begin{tabular}{lllll}\n",
       " term & estimate & std.error & statistic & p.value\\\\\n",
       " <chr> & <dbl> & <dbl> & <dbl> & <dbl>\\\\\n",
       "\\hline\n",
       "\t (Intercept)                     &    734.8506 &    5.482162 & 134.0439412 & 0.000000e+00\\\\\n",
       "\t poly(TEMPERATURE, 6)1           &  53946.6724 & 5940.897634 &   9.0805592 & 1.395137e-19\\\\\n",
       "\t poly(TEMPERATURE, 6)2           &   2377.4759 &  857.743230 &   2.7717805 & 5.590339e-03\\\\\n",
       "\t poly(TEMPERATURE, 6)3           & -10046.7085 &  630.538869 & -15.9335276 & 3.879539e-56\\\\\n",
       "\t poly(TEMPERATURE, 6)4           &  -5774.4634 &  578.266134 &  -9.9858232 & 2.550830e-23\\\\\n",
       "\t poly(TEMPERATURE, 6)5           &   -671.7640 &  529.450673 &  -1.2687942 & 2.045582e-01\\\\\n",
       "\t poly(TEMPERATURE, 6)6           &    871.6173 &  501.987041 &   1.7363342 & 8.255039e-02\\\\\n",
       "\t poly(HUMIDITY, 4)1              &  -4858.9010 & 2856.777142 &  -1.7008330 & 8.902041e-02\\\\\n",
       "\t poly(HUMIDITY, 4)2              &  -6568.9643 &  673.639725 &  -9.7514503 & 2.551844e-22\\\\\n",
       "\t poly(HUMIDITY, 4)3              &    143.1155 &  527.906004 &   0.2711003 & 7.863222e-01\\\\\n",
       "\t poly(HUMIDITY, 4)4              &   -513.0741 &  617.117813 &  -0.8314039 & 4.057749e-01\\\\\n",
       "\t poly(RAINFALL, 6)1              &  -3188.9835 &  526.403784 &  -6.0580558 & 1.451876e-09\\\\\n",
       "\t poly(RAINFALL, 6)2              &   2570.9360 &  489.461648 &   5.2525791 & 1.545719e-07\\\\\n",
       "\t poly(RAINFALL, 6)3              &  -2160.3178 &  473.671534 &  -4.5607929 & 5.186083e-06\\\\\n",
       "\t poly(RAINFALL, 6)4              &   1870.3988 &  465.648632 &   4.0167599 & 5.964429e-05\\\\\n",
       "\t poly(RAINFALL, 6)5              &  -1678.7596 &  459.485792 &  -3.6535615 & 2.605896e-04\\\\\n",
       "\t poly(RAINFALL, 6)6              &   1635.5330 &  455.948845 &   3.5870975 & 3.367467e-04\\\\\n",
       "\t poly(DEW\\_POINT\\_TEMPERATURE, 6)1 & -25322.2962 & 7056.824315 &  -3.5883416 & 3.351474e-04\\\\\n",
       "\t poly(DEW\\_POINT\\_TEMPERATURE, 6)2 & -10954.8864 &  899.312355 & -12.1814032 & 8.819551e-34\\\\\n",
       "\t poly(DEW\\_POINT\\_TEMPERATURE, 6)3 &  -3132.3182 &  637.707781 &  -4.9118394 & 9.234982e-07\\\\\n",
       "\t poly(DEW\\_POINT\\_TEMPERATURE, 6)4 &   1749.8186 &  579.582698 &   3.0191008 & 2.544737e-03\\\\\n",
       "\t poly(DEW\\_POINT\\_TEMPERATURE, 6)5 &   1448.9760 &  514.117822 &   2.8183734 & 4.840812e-03\\\\\n",
       "\t poly(DEW\\_POINT\\_TEMPERATURE, 6)6 &    331.4293 &  465.814985 &   0.7115042 & 4.767964e-01\\\\\n",
       "\\end{tabular}\n"
      ],
      "text/markdown": [
       "\n",
       "A tibble: 23 × 5\n",
       "\n",
       "| term &lt;chr&gt; | estimate &lt;dbl&gt; | std.error &lt;dbl&gt; | statistic &lt;dbl&gt; | p.value &lt;dbl&gt; |\n",
       "|---|---|---|---|---|\n",
       "| (Intercept)                     |    734.8506 |    5.482162 | 134.0439412 | 0.000000e+00 |\n",
       "| poly(TEMPERATURE, 6)1           |  53946.6724 | 5940.897634 |   9.0805592 | 1.395137e-19 |\n",
       "| poly(TEMPERATURE, 6)2           |   2377.4759 |  857.743230 |   2.7717805 | 5.590339e-03 |\n",
       "| poly(TEMPERATURE, 6)3           | -10046.7085 |  630.538869 | -15.9335276 | 3.879539e-56 |\n",
       "| poly(TEMPERATURE, 6)4           |  -5774.4634 |  578.266134 |  -9.9858232 | 2.550830e-23 |\n",
       "| poly(TEMPERATURE, 6)5           |   -671.7640 |  529.450673 |  -1.2687942 | 2.045582e-01 |\n",
       "| poly(TEMPERATURE, 6)6           |    871.6173 |  501.987041 |   1.7363342 | 8.255039e-02 |\n",
       "| poly(HUMIDITY, 4)1              |  -4858.9010 | 2856.777142 |  -1.7008330 | 8.902041e-02 |\n",
       "| poly(HUMIDITY, 4)2              |  -6568.9643 |  673.639725 |  -9.7514503 | 2.551844e-22 |\n",
       "| poly(HUMIDITY, 4)3              |    143.1155 |  527.906004 |   0.2711003 | 7.863222e-01 |\n",
       "| poly(HUMIDITY, 4)4              |   -513.0741 |  617.117813 |  -0.8314039 | 4.057749e-01 |\n",
       "| poly(RAINFALL, 6)1              |  -3188.9835 |  526.403784 |  -6.0580558 | 1.451876e-09 |\n",
       "| poly(RAINFALL, 6)2              |   2570.9360 |  489.461648 |   5.2525791 | 1.545719e-07 |\n",
       "| poly(RAINFALL, 6)3              |  -2160.3178 |  473.671534 |  -4.5607929 | 5.186083e-06 |\n",
       "| poly(RAINFALL, 6)4              |   1870.3988 |  465.648632 |   4.0167599 | 5.964429e-05 |\n",
       "| poly(RAINFALL, 6)5              |  -1678.7596 |  459.485792 |  -3.6535615 | 2.605896e-04 |\n",
       "| poly(RAINFALL, 6)6              |   1635.5330 |  455.948845 |   3.5870975 | 3.367467e-04 |\n",
       "| poly(DEW_POINT_TEMPERATURE, 6)1 | -25322.2962 | 7056.824315 |  -3.5883416 | 3.351474e-04 |\n",
       "| poly(DEW_POINT_TEMPERATURE, 6)2 | -10954.8864 |  899.312355 | -12.1814032 | 8.819551e-34 |\n",
       "| poly(DEW_POINT_TEMPERATURE, 6)3 |  -3132.3182 |  637.707781 |  -4.9118394 | 9.234982e-07 |\n",
       "| poly(DEW_POINT_TEMPERATURE, 6)4 |   1749.8186 |  579.582698 |   3.0191008 | 2.544737e-03 |\n",
       "| poly(DEW_POINT_TEMPERATURE, 6)5 |   1448.9760 |  514.117822 |   2.8183734 | 4.840812e-03 |\n",
       "| poly(DEW_POINT_TEMPERATURE, 6)6 |    331.4293 |  465.814985 |   0.7115042 | 4.767964e-01 |\n",
       "\n"
      ],
      "text/plain": [
       "   term                            estimate    std.error   statistic  \n",
       "1  (Intercept)                        734.8506    5.482162 134.0439412\n",
       "2  poly(TEMPERATURE, 6)1            53946.6724 5940.897634   9.0805592\n",
       "3  poly(TEMPERATURE, 6)2             2377.4759  857.743230   2.7717805\n",
       "4  poly(TEMPERATURE, 6)3           -10046.7085  630.538869 -15.9335276\n",
       "5  poly(TEMPERATURE, 6)4            -5774.4634  578.266134  -9.9858232\n",
       "6  poly(TEMPERATURE, 6)5             -671.7640  529.450673  -1.2687942\n",
       "7  poly(TEMPERATURE, 6)6              871.6173  501.987041   1.7363342\n",
       "8  poly(HUMIDITY, 4)1               -4858.9010 2856.777142  -1.7008330\n",
       "9  poly(HUMIDITY, 4)2               -6568.9643  673.639725  -9.7514503\n",
       "10 poly(HUMIDITY, 4)3                 143.1155  527.906004   0.2711003\n",
       "11 poly(HUMIDITY, 4)4                -513.0741  617.117813  -0.8314039\n",
       "12 poly(RAINFALL, 6)1               -3188.9835  526.403784  -6.0580558\n",
       "13 poly(RAINFALL, 6)2                2570.9360  489.461648   5.2525791\n",
       "14 poly(RAINFALL, 6)3               -2160.3178  473.671534  -4.5607929\n",
       "15 poly(RAINFALL, 6)4                1870.3988  465.648632   4.0167599\n",
       "16 poly(RAINFALL, 6)5               -1678.7596  459.485792  -3.6535615\n",
       "17 poly(RAINFALL, 6)6                1635.5330  455.948845   3.5870975\n",
       "18 poly(DEW_POINT_TEMPERATURE, 6)1 -25322.2962 7056.824315  -3.5883416\n",
       "19 poly(DEW_POINT_TEMPERATURE, 6)2 -10954.8864  899.312355 -12.1814032\n",
       "20 poly(DEW_POINT_TEMPERATURE, 6)3  -3132.3182  637.707781  -4.9118394\n",
       "21 poly(DEW_POINT_TEMPERATURE, 6)4   1749.8186  579.582698   3.0191008\n",
       "22 poly(DEW_POINT_TEMPERATURE, 6)5   1448.9760  514.117822   2.8183734\n",
       "23 poly(DEW_POINT_TEMPERATURE, 6)6    331.4293  465.814985   0.7115042\n",
       "   p.value     \n",
       "1  0.000000e+00\n",
       "2  1.395137e-19\n",
       "3  5.590339e-03\n",
       "4  3.879539e-56\n",
       "5  2.550830e-23\n",
       "6  2.045582e-01\n",
       "7  8.255039e-02\n",
       "8  8.902041e-02\n",
       "9  2.551844e-22\n",
       "10 7.863222e-01\n",
       "11 4.057749e-01\n",
       "12 1.451876e-09\n",
       "13 1.545719e-07\n",
       "14 5.186083e-06\n",
       "15 5.964429e-05\n",
       "16 2.605896e-04\n",
       "17 3.367467e-04\n",
       "18 3.351474e-04\n",
       "19 8.819551e-34\n",
       "20 9.234982e-07\n",
       "21 2.544737e-03\n",
       "22 4.840812e-03\n",
       "23 4.767964e-01"
      ]
     },
     "metadata": {},
     "output_type": "display_data"
    }
   ],
   "source": [
    "# Print model summary\n",
    "\n",
    "summary(lm_poly$fit) %>% tidy()"
   ]
  },
  {
   "cell_type": "markdown",
   "metadata": {},
   "source": [
    "*TODO:* Make predictions on test dataset using the `lm_poly` models\n"
   ]
  },
  {
   "cell_type": "code",
   "execution_count": 11,
   "metadata": {},
   "outputs": [
    {
     "data": {
      "text/html": [
       "<table class=\"dataframe\">\n",
       "<caption>A tibble: 6 × 2</caption>\n",
       "<thead>\n",
       "\t<tr><th scope=col>.pred</th><th scope=col>truth</th></tr>\n",
       "\t<tr><th scope=col>&lt;dbl&gt;</th><th scope=col>&lt;dbl&gt;</th></tr>\n",
       "</thead>\n",
       "<tbody>\n",
       "\t<tr><td>207.53799</td><td>100</td></tr>\n",
       "\t<tr><td>201.86537</td><td>181</td></tr>\n",
       "\t<tr><td>275.38616</td><td>360</td></tr>\n",
       "\t<tr><td>155.06787</td><td>405</td></tr>\n",
       "\t<tr><td> 54.33823</td><td>328</td></tr>\n",
       "\t<tr><td>502.96541</td><td>479</td></tr>\n",
       "</tbody>\n",
       "</table>\n"
      ],
      "text/latex": [
       "A tibble: 6 × 2\n",
       "\\begin{tabular}{ll}\n",
       " .pred & truth\\\\\n",
       " <dbl> & <dbl>\\\\\n",
       "\\hline\n",
       "\t 207.53799 & 100\\\\\n",
       "\t 201.86537 & 181\\\\\n",
       "\t 275.38616 & 360\\\\\n",
       "\t 155.06787 & 405\\\\\n",
       "\t  54.33823 & 328\\\\\n",
       "\t 502.96541 & 479\\\\\n",
       "\\end{tabular}\n"
      ],
      "text/markdown": [
       "\n",
       "A tibble: 6 × 2\n",
       "\n",
       "| .pred &lt;dbl&gt; | truth &lt;dbl&gt; |\n",
       "|---|---|\n",
       "| 207.53799 | 100 |\n",
       "| 201.86537 | 181 |\n",
       "| 275.38616 | 360 |\n",
       "| 155.06787 | 405 |\n",
       "|  54.33823 | 328 |\n",
       "| 502.96541 | 479 |\n",
       "\n"
      ],
      "text/plain": [
       "  .pred     truth\n",
       "1 207.53799 100  \n",
       "2 201.86537 181  \n",
       "3 275.38616 360  \n",
       "4 155.06787 405  \n",
       "5  54.33823 328  \n",
       "6 502.96541 479  "
      ]
     },
     "metadata": {},
     "output_type": "display_data"
    }
   ],
   "source": [
    "# Use predict() function to generate test results for `lm_poly`\n",
    "lm_poly_results <- predict(lm_poly, new_data = test_data) %>% mutate(truth = test_data$RENTED_BIKE_COUNT)\n",
    "head(lm_poly_results)"
   ]
  },
  {
   "cell_type": "markdown",
   "metadata": {},
   "source": [
    "Another minor improvement we could do here is to convert all negative prediction results to zero, because we can not have negative rented bike counts\n"
   ]
  },
  {
   "cell_type": "code",
   "execution_count": 12,
   "metadata": {},
   "outputs": [],
   "source": [
    "# e.g., test_results[test_results<0] <- 0\n",
    "lm_poly_results[lm_poly_results<0] <- 0"
   ]
  },
  {
   "cell_type": "markdown",
   "metadata": {},
   "source": [
    "Now, calculate R-squared and RMSE for the test results generated by `lm_ploy` model\n"
   ]
  },
  {
   "cell_type": "code",
   "execution_count": 13,
   "metadata": {},
   "outputs": [
    {
     "data": {
      "text/html": [
       "<table class=\"dataframe\">\n",
       "<caption>A tibble: 1 × 3</caption>\n",
       "<thead>\n",
       "\t<tr><th scope=col>.metric</th><th scope=col>.estimator</th><th scope=col>.estimate</th></tr>\n",
       "\t<tr><th scope=col>&lt;chr&gt;</th><th scope=col>&lt;chr&gt;</th><th scope=col>&lt;dbl&gt;</th></tr>\n",
       "</thead>\n",
       "<tbody>\n",
       "\t<tr><td>rsq</td><td>standard</td><td>0.5156957</td></tr>\n",
       "</tbody>\n",
       "</table>\n"
      ],
      "text/latex": [
       "A tibble: 1 × 3\n",
       "\\begin{tabular}{lll}\n",
       " .metric & .estimator & .estimate\\\\\n",
       " <chr> & <chr> & <dbl>\\\\\n",
       "\\hline\n",
       "\t rsq & standard & 0.5156957\\\\\n",
       "\\end{tabular}\n"
      ],
      "text/markdown": [
       "\n",
       "A tibble: 1 × 3\n",
       "\n",
       "| .metric &lt;chr&gt; | .estimator &lt;chr&gt; | .estimate &lt;dbl&gt; |\n",
       "|---|---|---|\n",
       "| rsq | standard | 0.5156957 |\n",
       "\n"
      ],
      "text/plain": [
       "  .metric .estimator .estimate\n",
       "1 rsq     standard   0.5156957"
      ]
     },
     "metadata": {},
     "output_type": "display_data"
    },
    {
     "data": {
      "text/html": [
       "<table class=\"dataframe\">\n",
       "<caption>A tibble: 1 × 3</caption>\n",
       "<thead>\n",
       "\t<tr><th scope=col>.metric</th><th scope=col>.estimator</th><th scope=col>.estimate</th></tr>\n",
       "\t<tr><th scope=col>&lt;chr&gt;</th><th scope=col>&lt;chr&gt;</th><th scope=col>&lt;dbl&gt;</th></tr>\n",
       "</thead>\n",
       "<tbody>\n",
       "\t<tr><td>rmse</td><td>standard</td><td>440.4805</td></tr>\n",
       "</tbody>\n",
       "</table>\n"
      ],
      "text/latex": [
       "A tibble: 1 × 3\n",
       "\\begin{tabular}{lll}\n",
       " .metric & .estimator & .estimate\\\\\n",
       " <chr> & <chr> & <dbl>\\\\\n",
       "\\hline\n",
       "\t rmse & standard & 440.4805\\\\\n",
       "\\end{tabular}\n"
      ],
      "text/markdown": [
       "\n",
       "A tibble: 1 × 3\n",
       "\n",
       "| .metric &lt;chr&gt; | .estimator &lt;chr&gt; | .estimate &lt;dbl&gt; |\n",
       "|---|---|---|\n",
       "| rmse | standard | 440.4805 |\n",
       "\n"
      ],
      "text/plain": [
       "  .metric .estimator .estimate\n",
       "1 rmse    standard   440.4805 "
      ]
     },
     "metadata": {},
     "output_type": "display_data"
    }
   ],
   "source": [
    "# Calculate R-squared and RMSE from the test results\n",
    "rsq_lm_poly <- rsq(lm_poly_results, estimate = .pred, truth = truth)\n",
    "rsq_lm_poly\n",
    "rmse_lm_poly <- rmse(lm_poly_results, estimate = .pred, truth = truth)\n",
    "rmse_lm_poly"
   ]
  },
  {
   "cell_type": "markdown",
   "metadata": {},
   "source": [
    "If you include all variables, and additionally include some of the more important ones as higher order poly terms, then you should notice improved  `R-squared` and `RMSE` values.\n"
   ]
  },
  {
   "cell_type": "markdown",
   "metadata": {},
   "source": [
    "# TASK: Add interaction terms\n"
   ]
  },
  {
   "cell_type": "markdown",
   "metadata": {},
   "source": [
    "In real-world scenarios, in addition to non-linear relationships between response variables and predictor variables, you may also encounter relationships among variables called `interaction effects`.\n",
    "\n",
    "For example, the effect of predictor variable `TEMPERATURE` on `RENTED_BIKE_COUNT` may also depend on other variables such as `HUMIDITY`, `RAINFALL`, or both (they `interact`) and the effect of `SEASON` on `RENTED_BIKE_COUNT` may also depend on `HOLIDAY`, `HOUR`, or both.\n",
    "\n",
    "To capture such interaction effects, we could add some interaction terms such as `RAINFALL*HUMIDITY` to the regression model, similar to what we did with polynominal terms. In this task, you will explore and conduct some experiments to search for interaction terms which will improve the model performance.\n"
   ]
  },
  {
   "cell_type": "markdown",
   "metadata": {},
   "source": [
    "*TODO:* Try adding some interaction terms to the previous polynomial models.\n"
   ]
  },
  {
   "cell_type": "code",
   "execution_count": 14,
   "metadata": {},
   "outputs": [],
   "source": [
    "# Add interaction terms to the poly regression built in previous step\n",
    "######QUESTION: SOME CATEGORICAL VARIABLES NOT FOUND IN INTERACTIVE (NO_HOLIDAY*HOLIDAY WORKS)\n",
    "# HINT: You could use `*` operator to create interaction terms such as HUMIDITY*TEMPERATURE and make the formula look like:\n",
    "# RENTED_BIKE_COUNT ~ RAINFALL*HUMIDITY ...\n",
    "lm_poly2 <- fit(lm_spec, RENTED_BIKE_COUNT ~ poly(TEMPERATURE, 6) + poly(HUMIDITY, 4) + \n",
    "                              poly(RAINFALL, 6) + poly(DEW_POINT_TEMPERATURE, 6) + \n",
    "                (RAINFALL*HUMIDITY*DEW_POINT_TEMPERATURE*SOLAR_RADIATION) + (SNOWFALL*WIND_SPEED*TEMPERATURE*DEW_POINT_TEMPERATURE) + \n",
    "                (TEMPERATURE*HOLIDAY) + (TEMPERATURE*NO_HOLIDAY*SNOWFALL), data = train_data)"
   ]
  },
  {
   "cell_type": "code",
   "execution_count": 15,
   "metadata": {},
   "outputs": [
    {
     "data": {
      "text/plain": [
       "\n",
       "Call:\n",
       "stats::lm(formula = RENTED_BIKE_COUNT ~ poly(TEMPERATURE, 6) + \n",
       "    poly(HUMIDITY, 4) + poly(RAINFALL, 6) + poly(DEW_POINT_TEMPERATURE, \n",
       "    6) + (RAINFALL * HUMIDITY * DEW_POINT_TEMPERATURE * SOLAR_RADIATION) + \n",
       "    (SNOWFALL * WIND_SPEED * TEMPERATURE * DEW_POINT_TEMPERATURE) + \n",
       "    (TEMPERATURE * HOLIDAY) + (TEMPERATURE * NO_HOLIDAY * SNOWFALL), \n",
       "    data = data)\n",
       "\n",
       "Residuals:\n",
       "     Min       1Q   Median       3Q      Max \n",
       "-1583.13  -212.66   -41.93   151.82  2011.40 \n",
       "\n",
       "Coefficients: (6 not defined because of singularities)\n",
       "                                                          Estimate Std. Error\n",
       "(Intercept)                                              5.177e+03  2.045e+03\n",
       "poly(TEMPERATURE, 6)1                                    1.215e+05  3.858e+04\n",
       "poly(TEMPERATURE, 6)2                                    2.692e+04  9.534e+03\n",
       "poly(TEMPERATURE, 6)3                                   -1.033e+04  7.369e+02\n",
       "poly(TEMPERATURE, 6)4                                   -5.692e+03  5.933e+02\n",
       "poly(TEMPERATURE, 6)5                                   -2.360e+02  5.283e+02\n",
       "poly(TEMPERATURE, 6)6                                    1.762e+03  4.877e+02\n",
       "poly(HUMIDITY, 4)1                                       3.160e+02  1.263e+04\n",
       "poly(HUMIDITY, 4)2                                      -9.645e+02  1.350e+03\n",
       "poly(HUMIDITY, 4)3                                       3.753e+03  9.735e+02\n",
       "poly(HUMIDITY, 4)4                                      -4.497e+03  6.770e+02\n",
       "poly(RAINFALL, 6)1                                       1.446e+05  1.378e+05\n",
       "poly(RAINFALL, 6)2                                       2.006e+03  5.786e+02\n",
       "poly(RAINFALL, 6)3                                      -1.658e+03  4.888e+02\n",
       "poly(RAINFALL, 6)4                                       1.568e+03  4.608e+02\n",
       "poly(RAINFALL, 6)5                                      -1.528e+03  4.432e+02\n",
       "poly(RAINFALL, 6)6                                       1.762e+03  4.407e+02\n",
       "poly(DEW_POINT_TEMPERATURE, 6)1                          1.152e+05  6.860e+04\n",
       "poly(DEW_POINT_TEMPERATURE, 6)2                          4.891e+03  1.424e+04\n",
       "poly(DEW_POINT_TEMPERATURE, 6)3                         -3.742e+03  7.851e+02\n",
       "poly(DEW_POINT_TEMPERATURE, 6)4                          1.077e+03  6.598e+02\n",
       "poly(DEW_POINT_TEMPERATURE, 6)5                          1.641e+03  5.721e+02\n",
       "poly(DEW_POINT_TEMPERATURE, 6)6                          3.220e+02  4.866e+02\n",
       "RAINFALL                                                        NA         NA\n",
       "HUMIDITY                                                        NA         NA\n",
       "DEW_POINT_TEMPERATURE                                           NA         NA\n",
       "SOLAR_RADIATION                                          2.865e+02  2.693e+02\n",
       "SNOWFALL                                                 3.486e+03  1.800e+04\n",
       "WIND_SPEED                                              -2.812e+02  2.509e+02\n",
       "TEMPERATURE                                                     NA         NA\n",
       "HOLIDAY                                                 -1.953e+02  7.091e+01\n",
       "NO_HOLIDAY                                                      NA         NA\n",
       "RAINFALL:HUMIDITY                                       -4.781e+04  5.116e+04\n",
       "RAINFALL:DEW_POINT_TEMPERATURE                          -1.238e+05  6.512e+04\n",
       "HUMIDITY:DEW_POINT_TEMPERATURE                          -2.256e+03  1.033e+03\n",
       "RAINFALL:SOLAR_RADIATION                                -1.284e+06  9.007e+05\n",
       "HUMIDITY:SOLAR_RADIATION                                 1.882e+03  6.977e+02\n",
       "DEW_POINT_TEMPERATURE:SOLAR_RADIATION                   -4.554e+03  4.460e+02\n",
       "SNOWFALL:WIND_SPEED                                      1.541e+03  7.688e+03\n",
       "SNOWFALL:TEMPERATURE                                    -1.460e+04  6.015e+04\n",
       "WIND_SPEED:TEMPERATURE                                   2.120e+03  7.398e+02\n",
       "DEW_POINT_TEMPERATURE:SNOWFALL                          -1.109e+03  8.415e+03\n",
       "DEW_POINT_TEMPERATURE:WIND_SPEED                        -1.557e+03  6.410e+02\n",
       "DEW_POINT_TEMPERATURE:TEMPERATURE                       -9.160e+03  5.190e+03\n",
       "TEMPERATURE:HOLIDAY                                      1.109e+02  1.317e+02\n",
       "TEMPERATURE:NO_HOLIDAY                                          NA         NA\n",
       "SNOWFALL:NO_HOLIDAY                                     -3.591e+03  1.757e+04\n",
       "RAINFALL:HUMIDITY:DEW_POINT_TEMPERATURE                  1.186e+05  6.696e+04\n",
       "RAINFALL:HUMIDITY:SOLAR_RADIATION                        1.211e+06  9.442e+05\n",
       "RAINFALL:DEW_POINT_TEMPERATURE:SOLAR_RADIATION           1.689e+06  1.075e+06\n",
       "HUMIDITY:DEW_POINT_TEMPERATURE:SOLAR_RADIATION           3.610e+03  9.884e+02\n",
       "SNOWFALL:WIND_SPEED:TEMPERATURE                         -4.398e+03  3.953e+04\n",
       "DEW_POINT_TEMPERATURE:SNOWFALL:WIND_SPEED                1.203e+04  2.781e+04\n",
       "DEW_POINT_TEMPERATURE:SNOWFALL:TEMPERATURE               1.313e+04  2.953e+04\n",
       "DEW_POINT_TEMPERATURE:WIND_SPEED:TEMPERATURE             1.443e+03  9.275e+02\n",
       "SNOWFALL:TEMPERATURE:NO_HOLIDAY                          9.584e+03  5.696e+04\n",
       "RAINFALL:HUMIDITY:DEW_POINT_TEMPERATURE:SOLAR_RADIATION -1.603e+06  1.126e+06\n",
       "DEW_POINT_TEMPERATURE:SNOWFALL:WIND_SPEED:TEMPERATURE   -3.581e+04  9.095e+04\n",
       "                                                        t value Pr(>|t|)    \n",
       "(Intercept)                                               2.532 0.011362 *  \n",
       "poly(TEMPERATURE, 6)1                                     3.150 0.001642 ** \n",
       "poly(TEMPERATURE, 6)2                                     2.824 0.004763 ** \n",
       "poly(TEMPERATURE, 6)3                                   -14.018  < 2e-16 ***\n",
       "poly(TEMPERATURE, 6)4                                    -9.593  < 2e-16 ***\n",
       "poly(TEMPERATURE, 6)5                                    -0.447 0.655128    \n",
       "poly(TEMPERATURE, 6)6                                     3.613 0.000305 ***\n",
       "poly(HUMIDITY, 4)1                                        0.025 0.980040    \n",
       "poly(HUMIDITY, 4)2                                       -0.715 0.474805    \n",
       "poly(HUMIDITY, 4)3                                        3.855 0.000117 ***\n",
       "poly(HUMIDITY, 4)4                                       -6.643 3.31e-11 ***\n",
       "poly(RAINFALL, 6)1                                        1.050 0.293846    \n",
       "poly(RAINFALL, 6)2                                        3.466 0.000531 ***\n",
       "poly(RAINFALL, 6)3                                       -3.391 0.000701 ***\n",
       "poly(RAINFALL, 6)4                                        3.402 0.000672 ***\n",
       "poly(RAINFALL, 6)5                                       -3.448 0.000567 ***\n",
       "poly(RAINFALL, 6)6                                        3.999 6.42e-05 ***\n",
       "poly(DEW_POINT_TEMPERATURE, 6)1                           1.680 0.093067 .  \n",
       "poly(DEW_POINT_TEMPERATURE, 6)2                           0.344 0.731182    \n",
       "poly(DEW_POINT_TEMPERATURE, 6)3                          -4.766 1.92e-06 ***\n",
       "poly(DEW_POINT_TEMPERATURE, 6)4                           1.632 0.102670    \n",
       "poly(DEW_POINT_TEMPERATURE, 6)5                           2.868 0.004146 ** \n",
       "poly(DEW_POINT_TEMPERATURE, 6)6                           0.662 0.508137    \n",
       "RAINFALL                                                     NA       NA    \n",
       "HUMIDITY                                                     NA       NA    \n",
       "DEW_POINT_TEMPERATURE                                        NA       NA    \n",
       "SOLAR_RADIATION                                           1.064 0.287525    \n",
       "SNOWFALL                                                  0.194 0.846450    \n",
       "WIND_SPEED                                               -1.121 0.262510    \n",
       "TEMPERATURE                                                  NA       NA    \n",
       "HOLIDAY                                                  -2.755 0.005891 ** \n",
       "NO_HOLIDAY                                                   NA       NA    \n",
       "RAINFALL:HUMIDITY                                        -0.935 0.350042    \n",
       "RAINFALL:DEW_POINT_TEMPERATURE                           -1.901 0.057359 .  \n",
       "HUMIDITY:DEW_POINT_TEMPERATURE                           -2.185 0.028956 *  \n",
       "RAINFALL:SOLAR_RADIATION                                 -1.425 0.154146    \n",
       "HUMIDITY:SOLAR_RADIATION                                  2.697 0.007017 ** \n",
       "DEW_POINT_TEMPERATURE:SOLAR_RADIATION                   -10.210  < 2e-16 ***\n",
       "SNOWFALL:WIND_SPEED                                       0.200 0.841099    \n",
       "SNOWFALL:TEMPERATURE                                     -0.243 0.808239    \n",
       "WIND_SPEED:TEMPERATURE                                    2.866 0.004172 ** \n",
       "DEW_POINT_TEMPERATURE:SNOWFALL                           -0.132 0.895177    \n",
       "DEW_POINT_TEMPERATURE:WIND_SPEED                         -2.430 0.015140 *  \n",
       "DEW_POINT_TEMPERATURE:TEMPERATURE                        -1.765 0.077636 .  \n",
       "TEMPERATURE:HOLIDAY                                       0.842 0.399968    \n",
       "TEMPERATURE:NO_HOLIDAY                                       NA       NA    \n",
       "SNOWFALL:NO_HOLIDAY                                      -0.204 0.838042    \n",
       "RAINFALL:HUMIDITY:DEW_POINT_TEMPERATURE                   1.772 0.076479 .  \n",
       "RAINFALL:HUMIDITY:SOLAR_RADIATION                         1.282 0.199806    \n",
       "RAINFALL:DEW_POINT_TEMPERATURE:SOLAR_RADIATION            1.571 0.116236    \n",
       "HUMIDITY:DEW_POINT_TEMPERATURE:SOLAR_RADIATION            3.653 0.000261 ***\n",
       "SNOWFALL:WIND_SPEED:TEMPERATURE                          -0.111 0.911433    \n",
       "DEW_POINT_TEMPERATURE:SNOWFALL:WIND_SPEED                 0.432 0.665427    \n",
       "DEW_POINT_TEMPERATURE:SNOWFALL:TEMPERATURE                0.445 0.656645    \n",
       "DEW_POINT_TEMPERATURE:WIND_SPEED:TEMPERATURE              1.556 0.119829    \n",
       "SNOWFALL:TEMPERATURE:NO_HOLIDAY                           0.168 0.866388    \n",
       "RAINFALL:HUMIDITY:DEW_POINT_TEMPERATURE:SOLAR_RADIATION  -1.423 0.154661    \n",
       "DEW_POINT_TEMPERATURE:SNOWFALL:WIND_SPEED:TEMPERATURE    -0.394 0.693753    \n",
       "---\n",
       "Signif. codes:  0 '***' 0.001 '**' 0.01 '*' 0.05 '.' 0.1 ' ' 1\n",
       "\n",
       "Residual standard error: 423.1 on 6720 degrees of freedom\n",
       "Multiple R-squared:  0.5724,\tAdjusted R-squared:  0.5692 \n",
       "F-statistic: 176.4 on 51 and 6720 DF,  p-value: < 2.2e-16\n"
      ]
     },
     "metadata": {},
     "output_type": "display_data"
    }
   ],
   "source": [
    "# Print model summary\n",
    "summary(lm_poly2$fit)"
   ]
  },
  {
   "cell_type": "code",
   "execution_count": 16,
   "metadata": {},
   "outputs": [
    {
     "name": "stderr",
     "output_type": "stream",
     "text": [
      "Warning message in predict.lm(object = object$fit, newdata = new_data, type = \"response\"):\n",
      "\"prediction from a rank-deficient fit may be misleading\"\n"
     ]
    },
    {
     "data": {
      "text/html": [
       "<table class=\"dataframe\">\n",
       "<caption>A tibble: 1 × 3</caption>\n",
       "<thead>\n",
       "\t<tr><th scope=col>.metric</th><th scope=col>.estimator</th><th scope=col>.estimate</th></tr>\n",
       "\t<tr><th scope=col>&lt;chr&gt;</th><th scope=col>&lt;chr&gt;</th><th scope=col>&lt;dbl&gt;</th></tr>\n",
       "</thead>\n",
       "<tbody>\n",
       "\t<tr><td>rsq</td><td>standard</td><td>0.5642076</td></tr>\n",
       "</tbody>\n",
       "</table>\n"
      ],
      "text/latex": [
       "A tibble: 1 × 3\n",
       "\\begin{tabular}{lll}\n",
       " .metric & .estimator & .estimate\\\\\n",
       " <chr> & <chr> & <dbl>\\\\\n",
       "\\hline\n",
       "\t rsq & standard & 0.5642076\\\\\n",
       "\\end{tabular}\n"
      ],
      "text/markdown": [
       "\n",
       "A tibble: 1 × 3\n",
       "\n",
       "| .metric &lt;chr&gt; | .estimator &lt;chr&gt; | .estimate &lt;dbl&gt; |\n",
       "|---|---|---|\n",
       "| rsq | standard | 0.5642076 |\n",
       "\n"
      ],
      "text/plain": [
       "  .metric .estimator .estimate\n",
       "1 rsq     standard   0.5642076"
      ]
     },
     "metadata": {},
     "output_type": "display_data"
    },
    {
     "data": {
      "text/html": [
       "<table class=\"dataframe\">\n",
       "<caption>A tibble: 1 × 3</caption>\n",
       "<thead>\n",
       "\t<tr><th scope=col>.metric</th><th scope=col>.estimator</th><th scope=col>.estimate</th></tr>\n",
       "\t<tr><th scope=col>&lt;chr&gt;</th><th scope=col>&lt;chr&gt;</th><th scope=col>&lt;dbl&gt;</th></tr>\n",
       "</thead>\n",
       "<tbody>\n",
       "\t<tr><td>rmse</td><td>standard</td><td>417.8259</td></tr>\n",
       "</tbody>\n",
       "</table>\n"
      ],
      "text/latex": [
       "A tibble: 1 × 3\n",
       "\\begin{tabular}{lll}\n",
       " .metric & .estimator & .estimate\\\\\n",
       " <chr> & <chr> & <dbl>\\\\\n",
       "\\hline\n",
       "\t rmse & standard & 417.8259\\\\\n",
       "\\end{tabular}\n"
      ],
      "text/markdown": [
       "\n",
       "A tibble: 1 × 3\n",
       "\n",
       "| .metric &lt;chr&gt; | .estimator &lt;chr&gt; | .estimate &lt;dbl&gt; |\n",
       "|---|---|---|\n",
       "| rmse | standard | 417.8259 |\n",
       "\n"
      ],
      "text/plain": [
       "  .metric .estimator .estimate\n",
       "1 rmse    standard   417.8259 "
      ]
     },
     "metadata": {},
     "output_type": "display_data"
    },
    {
     "data": {
      "text/html": [
       "<table class=\"dataframe\">\n",
       "<caption>A tibble: 6 × 2</caption>\n",
       "<thead>\n",
       "\t<tr><th scope=col>.pred</th><th scope=col>truth</th></tr>\n",
       "\t<tr><th scope=col>&lt;dbl&gt;</th><th scope=col>&lt;dbl&gt;</th></tr>\n",
       "</thead>\n",
       "<tbody>\n",
       "\t<tr><td>210.8902</td><td>100</td></tr>\n",
       "\t<tr><td>210.4953</td><td>181</td></tr>\n",
       "\t<tr><td>271.1789</td><td>360</td></tr>\n",
       "\t<tr><td>245.9657</td><td>405</td></tr>\n",
       "\t<tr><td>207.2855</td><td>328</td></tr>\n",
       "\t<tr><td>494.0317</td><td>479</td></tr>\n",
       "</tbody>\n",
       "</table>\n"
      ],
      "text/latex": [
       "A tibble: 6 × 2\n",
       "\\begin{tabular}{ll}\n",
       " .pred & truth\\\\\n",
       " <dbl> & <dbl>\\\\\n",
       "\\hline\n",
       "\t 210.8902 & 100\\\\\n",
       "\t 210.4953 & 181\\\\\n",
       "\t 271.1789 & 360\\\\\n",
       "\t 245.9657 & 405\\\\\n",
       "\t 207.2855 & 328\\\\\n",
       "\t 494.0317 & 479\\\\\n",
       "\\end{tabular}\n"
      ],
      "text/markdown": [
       "\n",
       "A tibble: 6 × 2\n",
       "\n",
       "| .pred &lt;dbl&gt; | truth &lt;dbl&gt; |\n",
       "|---|---|\n",
       "| 210.8902 | 100 |\n",
       "| 210.4953 | 181 |\n",
       "| 271.1789 | 360 |\n",
       "| 245.9657 | 405 |\n",
       "| 207.2855 | 328 |\n",
       "| 494.0317 | 479 |\n",
       "\n"
      ],
      "text/plain": [
       "  .pred    truth\n",
       "1 210.8902 100  \n",
       "2 210.4953 181  \n",
       "3 271.1789 360  \n",
       "4 245.9657 405  \n",
       "5 207.2855 328  \n",
       "6 494.0317 479  "
      ]
     },
     "metadata": {},
     "output_type": "display_data"
    }
   ],
   "source": [
    "# Calculate R-squared and RMSE for the new model to see if performance has improved\n",
    "poly_fit2_results <- predict(lm_poly2, new_data = test_data) %>% mutate(truth = test_data$RENTED_BIKE_COUNT)\n",
    "#No -ve bike counts\n",
    "poly_fit2_results[poly_fit2_results<0] <- 0\n",
    "rsq_lm_poly2 <- rsq(poly_fit2_results, estimate = .pred, truth = truth)\n",
    "rsq_lm_poly2\n",
    "rmse_lm_poly2 <- rmse(poly_fit2_results, estimate = .pred, truth = truth)\n",
    "rmse_lm_poly2\n",
    "\n",
    "#prediction on model\n",
    " head(poly_fit2_results)"
   ]
  },
  {
   "cell_type": "markdown",
   "metadata": {},
   "source": [
    "# TASK: Add regularization\n"
   ]
  },
  {
   "cell_type": "markdown",
   "metadata": {},
   "source": [
    "In previous tasks, you were asked to add polynominal and interaction terms to the model, aiming to capture nonlinearity and interaction effects between the predictor variables. Hopefully, your updated models have better R-squared and RMSE values.\n",
    "\n",
    "However, adding these terms makes your model more complicated, more difficult to explain, and more likely to suffer from overfitting. To overcome these issues, one solution is to add regularization terms to your models.\n"
   ]
  },
  {
   "cell_type": "markdown",
   "metadata": {},
   "source": [
    "When building the baseline model, we used the basic `lm` engine. In this task, you will use a more advanced and generalized `glmnet` engine. It provides a generalized linear model with Lasso, Ridge, and Elastic Net regularizations.\n",
    "\n",
    "In general, using `glmnet` can enhance your models in the following ways:\n",
    "\n",
    "*   Address overfitting issues by shrinking the coefficients\n",
    "*   Address predictor variable colinearity by selecting only one variable from each group of colinear variables (by shrinking their coefficients to zero)\n",
    "*   Make your models more interpretable due to simplification (fewer variables in the outcome models)\n"
   ]
  },
  {
   "cell_type": "markdown",
   "metadata": {},
   "source": [
    "Now, let's switch our regression engine to `glmnet`\n"
   ]
  },
  {
   "cell_type": "markdown",
   "metadata": {},
   "source": [
    "*TODO:* Define a linear regression model specification `glmnet_spec` using `glmnet` engine\n"
   ]
  },
  {
   "cell_type": "code",
   "execution_count": 17,
   "metadata": {},
   "outputs": [],
   "source": [
    "# HINT: Use linear_reg() function with two parameters: penalty and mixture\n",
    "# - penalty controls the intensity of model regularization\n",
    "# - mixture controls the tradeoff between L1 and L2 regularizations\n",
    "\n",
    "#using fit_resamples\n",
    "bike_sharing_folds <- vfold_cv(train_data, v = 20)\n",
    "bike_recipe <- recipe(RENTED_BIKE_COUNT ~., data = train_data)\n",
    "\n",
    "bike_poly_recipe <- bike_recipe  %>% step_poly(TEMPERATURE, HUMIDITY, WIND_SPEED, VISIBILITY, DEW_POINT_TEMPERATURE, SOLAR_RADIATION, RAINFALL, SNOWFALL, 3) %>% step_interact(~all_predictors():all_predictors())\n",
    "\n",
    "#lm_resamples_results <- fit_resamples(lm_spec,\n",
    "#                                     preprocessor = bike_recipe,\n",
    "#                                     resamples = bike_sharing_folds)\n",
    "#lm_resamples_results %>% collect_metrics()\n",
    "\n",
    "# You could manually try different parameter combinations or use grid search to find optimal combinations\n"
   ]
  },
  {
   "cell_type": "markdown",
   "metadata": {},
   "source": [
    "Fit a glmnet model called  `lm_glmnet` using the `fit()` function. For the formula part, keep the polynominal and interaction terms you used in the previous task.\n"
   ]
  },
  {
   "cell_type": "code",
   "execution_count": 18,
   "metadata": {},
   "outputs": [
    {
     "name": "stderr",
     "output_type": "stream",
     "text": [
      "Loading required package: Matrix\n",
      "\n",
      "\n",
      "Attaching package: 'Matrix'\n",
      "\n",
      "\n",
      "The following objects are masked from 'package:tidyr':\n",
      "\n",
      "    expand, pack, unpack\n",
      "\n",
      "\n",
      "Loaded glmnet 4.1-3\n",
      "\n",
      "\n",
      "Attaching package: 'rlang'\n",
      "\n",
      "\n",
      "The following objects are masked from 'package:purrr':\n",
      "\n",
      "    %@%, as_function, flatten, flatten_chr, flatten_dbl, flatten_int,\n",
      "    flatten_lgl, flatten_raw, invoke, list_along, modify, prepend,\n",
      "    splice\n",
      "\n",
      "\n"
     ]
    }
   ],
   "source": [
    "library('glmnet')\n",
    "library('rlang')"
   ]
  },
  {
   "cell_type": "code",
   "execution_count": 19,
   "metadata": {},
   "outputs": [
    {
     "data": {
      "text/html": [
       "<table class=\"dataframe\">\n",
       "<caption>A tibble: 6 × 2</caption>\n",
       "<thead>\n",
       "\t<tr><th scope=col>.pred</th><th scope=col>truth</th></tr>\n",
       "\t<tr><th scope=col>&lt;dbl&gt;</th><th scope=col>&lt;dbl&gt;</th></tr>\n",
       "</thead>\n",
       "<tbody>\n",
       "\t<tr><td>-159.156532</td><td>100</td></tr>\n",
       "\t<tr><td>  -6.970481</td><td>181</td></tr>\n",
       "\t<tr><td> 242.965109</td><td>360</td></tr>\n",
       "\t<tr><td> 479.071540</td><td>405</td></tr>\n",
       "\t<tr><td> -49.451539</td><td>328</td></tr>\n",
       "\t<tr><td> 304.677203</td><td>479</td></tr>\n",
       "</tbody>\n",
       "</table>\n"
      ],
      "text/latex": [
       "A tibble: 6 × 2\n",
       "\\begin{tabular}{ll}\n",
       " .pred & truth\\\\\n",
       " <dbl> & <dbl>\\\\\n",
       "\\hline\n",
       "\t -159.156532 & 100\\\\\n",
       "\t   -6.970481 & 181\\\\\n",
       "\t  242.965109 & 360\\\\\n",
       "\t  479.071540 & 405\\\\\n",
       "\t  -49.451539 & 328\\\\\n",
       "\t  304.677203 & 479\\\\\n",
       "\\end{tabular}\n"
      ],
      "text/markdown": [
       "\n",
       "A tibble: 6 × 2\n",
       "\n",
       "| .pred &lt;dbl&gt; | truth &lt;dbl&gt; |\n",
       "|---|---|\n",
       "| -159.156532 | 100 |\n",
       "|   -6.970481 | 181 |\n",
       "|  242.965109 | 360 |\n",
       "|  479.071540 | 405 |\n",
       "|  -49.451539 | 328 |\n",
       "|  304.677203 | 479 |\n",
       "\n"
      ],
      "text/plain": [
       "  .pred       truth\n",
       "1 -159.156532 100  \n",
       "2   -6.970481 181  \n",
       "3  242.965109 360  \n",
       "4  479.071540 405  \n",
       "5  -49.451539 328  \n",
       "6  304.677203 479  "
      ]
     },
     "metadata": {},
     "output_type": "display_data"
    }
   ],
   "source": [
    "# Fit a glmnet model using the fit() function\n",
    "ridge_spec <- linear_reg(penalty = 0.2, mixture = 0) %>% set_engine(\"glmnet\") %>% set_mode(\"regression\")                \n",
    "ridge_wk_flow <- workflow() %>% add_recipe(bike_recipe) %>% add_model(ridge_spec)\n",
    "ridge_fit <- ridge_wk_flow %>% fit(data = train_data)\n",
    "#ridge_fit %>%  extract_fit_parsnip() %>% tidy() \n",
    "results_ridge <- predict(ridge_fit, new_data = test_data) %>% mutate(truth = test_data$RENTED_BIKE_COUNT)\n",
    "head(results_ridge)"
   ]
  },
  {
   "cell_type": "code",
   "execution_count": 20,
   "metadata": {},
   "outputs": [
    {
     "name": "stdout",
     "output_type": "stream",
     "text": [
      "[1] \"=====================First ridge rmse and sqr=====================\"\n"
     ]
    },
    {
     "data": {
      "text/html": [
       "<table class=\"dataframe\">\n",
       "<caption>A tibble: 1 × 3</caption>\n",
       "<thead>\n",
       "\t<tr><th scope=col>.metric</th><th scope=col>.estimator</th><th scope=col>.estimate</th></tr>\n",
       "\t<tr><th scope=col>&lt;chr&gt;</th><th scope=col>&lt;chr&gt;</th><th scope=col>&lt;dbl&gt;</th></tr>\n",
       "</thead>\n",
       "<tbody>\n",
       "\t<tr><td>rsq</td><td>standard</td><td>0.6877656</td></tr>\n",
       "</tbody>\n",
       "</table>\n"
      ],
      "text/latex": [
       "A tibble: 1 × 3\n",
       "\\begin{tabular}{lll}\n",
       " .metric & .estimator & .estimate\\\\\n",
       " <chr> & <chr> & <dbl>\\\\\n",
       "\\hline\n",
       "\t rsq & standard & 0.6877656\\\\\n",
       "\\end{tabular}\n"
      ],
      "text/markdown": [
       "\n",
       "A tibble: 1 × 3\n",
       "\n",
       "| .metric &lt;chr&gt; | .estimator &lt;chr&gt; | .estimate &lt;dbl&gt; |\n",
       "|---|---|---|\n",
       "| rsq | standard | 0.6877656 |\n",
       "\n"
      ],
      "text/plain": [
       "  .metric .estimator .estimate\n",
       "1 rsq     standard   0.6877656"
      ]
     },
     "metadata": {},
     "output_type": "display_data"
    },
    {
     "data": {
      "text/html": [
       "<table class=\"dataframe\">\n",
       "<caption>A tibble: 1 × 3</caption>\n",
       "<thead>\n",
       "\t<tr><th scope=col>.metric</th><th scope=col>.estimator</th><th scope=col>.estimate</th></tr>\n",
       "\t<tr><th scope=col>&lt;chr&gt;</th><th scope=col>&lt;chr&gt;</th><th scope=col>&lt;dbl&gt;</th></tr>\n",
       "</thead>\n",
       "<tbody>\n",
       "\t<tr><td>rmse</td><td>standard</td><td>357.7981</td></tr>\n",
       "</tbody>\n",
       "</table>\n"
      ],
      "text/latex": [
       "A tibble: 1 × 3\n",
       "\\begin{tabular}{lll}\n",
       " .metric & .estimator & .estimate\\\\\n",
       " <chr> & <chr> & <dbl>\\\\\n",
       "\\hline\n",
       "\t rmse & standard & 357.7981\\\\\n",
       "\\end{tabular}\n"
      ],
      "text/markdown": [
       "\n",
       "A tibble: 1 × 3\n",
       "\n",
       "| .metric &lt;chr&gt; | .estimator &lt;chr&gt; | .estimate &lt;dbl&gt; |\n",
       "|---|---|---|\n",
       "| rmse | standard | 357.7981 |\n",
       "\n"
      ],
      "text/plain": [
       "  .metric .estimator .estimate\n",
       "1 rmse    standard   357.7981 "
      ]
     },
     "metadata": {},
     "output_type": "display_data"
    },
    {
     "data": {
      "text/html": [
       "<table class=\"dataframe\">\n",
       "<caption>A tibble: 6 × 2</caption>\n",
       "<thead>\n",
       "\t<tr><th scope=col>.pred</th><th scope=col>truth</th></tr>\n",
       "\t<tr><th scope=col>&lt;dbl&gt;</th><th scope=col>&lt;dbl&gt;</th></tr>\n",
       "</thead>\n",
       "<tbody>\n",
       "\t<tr><td>  0.0000</td><td>100</td></tr>\n",
       "\t<tr><td>  0.0000</td><td>181</td></tr>\n",
       "\t<tr><td>242.9651</td><td>360</td></tr>\n",
       "\t<tr><td>479.0715</td><td>405</td></tr>\n",
       "\t<tr><td>  0.0000</td><td>328</td></tr>\n",
       "\t<tr><td>304.6772</td><td>479</td></tr>\n",
       "</tbody>\n",
       "</table>\n"
      ],
      "text/latex": [
       "A tibble: 6 × 2\n",
       "\\begin{tabular}{ll}\n",
       " .pred & truth\\\\\n",
       " <dbl> & <dbl>\\\\\n",
       "\\hline\n",
       "\t   0.0000 & 100\\\\\n",
       "\t   0.0000 & 181\\\\\n",
       "\t 242.9651 & 360\\\\\n",
       "\t 479.0715 & 405\\\\\n",
       "\t   0.0000 & 328\\\\\n",
       "\t 304.6772 & 479\\\\\n",
       "\\end{tabular}\n"
      ],
      "text/markdown": [
       "\n",
       "A tibble: 6 × 2\n",
       "\n",
       "| .pred &lt;dbl&gt; | truth &lt;dbl&gt; |\n",
       "|---|---|\n",
       "|   0.0000 | 100 |\n",
       "|   0.0000 | 181 |\n",
       "| 242.9651 | 360 |\n",
       "| 479.0715 | 405 |\n",
       "|   0.0000 | 328 |\n",
       "| 304.6772 | 479 |\n",
       "\n"
      ],
      "text/plain": [
       "  .pred    truth\n",
       "1   0.0000 100  \n",
       "2   0.0000 181  \n",
       "3 242.9651 360  \n",
       "4 479.0715 405  \n",
       "5   0.0000 328  \n",
       "6 304.6772 479  "
      ]
     },
     "metadata": {},
     "output_type": "display_data"
    },
    {
     "name": "stdout",
     "output_type": "stream",
     "text": [
      "[1] \"=====================First lasso rmse and sqr=====================\"\n"
     ]
    },
    {
     "data": {
      "text/html": [
       "<table class=\"dataframe\">\n",
       "<caption>A tibble: 6 × 2</caption>\n",
       "<thead>\n",
       "\t<tr><th scope=col>.pred</th><th scope=col>truth</th></tr>\n",
       "\t<tr><th scope=col>&lt;dbl&gt;</th><th scope=col>&lt;dbl&gt;</th></tr>\n",
       "</thead>\n",
       "<tbody>\n",
       "\t<tr><td>  0.0000</td><td>100</td></tr>\n",
       "\t<tr><td>  0.0000</td><td>181</td></tr>\n",
       "\t<tr><td>233.4524</td><td>360</td></tr>\n",
       "\t<tr><td>468.1995</td><td>405</td></tr>\n",
       "\t<tr><td>  0.0000</td><td>328</td></tr>\n",
       "\t<tr><td>291.1765</td><td>479</td></tr>\n",
       "</tbody>\n",
       "</table>\n"
      ],
      "text/latex": [
       "A tibble: 6 × 2\n",
       "\\begin{tabular}{ll}\n",
       " .pred & truth\\\\\n",
       " <dbl> & <dbl>\\\\\n",
       "\\hline\n",
       "\t   0.0000 & 100\\\\\n",
       "\t   0.0000 & 181\\\\\n",
       "\t 233.4524 & 360\\\\\n",
       "\t 468.1995 & 405\\\\\n",
       "\t   0.0000 & 328\\\\\n",
       "\t 291.1765 & 479\\\\\n",
       "\\end{tabular}\n"
      ],
      "text/markdown": [
       "\n",
       "A tibble: 6 × 2\n",
       "\n",
       "| .pred &lt;dbl&gt; | truth &lt;dbl&gt; |\n",
       "|---|---|\n",
       "|   0.0000 | 100 |\n",
       "|   0.0000 | 181 |\n",
       "| 233.4524 | 360 |\n",
       "| 468.1995 | 405 |\n",
       "|   0.0000 | 328 |\n",
       "| 291.1765 | 479 |\n",
       "\n"
      ],
      "text/plain": [
       "  .pred    truth\n",
       "1   0.0000 100  \n",
       "2   0.0000 181  \n",
       "3 233.4524 360  \n",
       "4 468.1995 405  \n",
       "5   0.0000 328  \n",
       "6 291.1765 479  "
      ]
     },
     "metadata": {},
     "output_type": "display_data"
    },
    {
     "data": {
      "text/html": [
       "<table class=\"dataframe\">\n",
       "<caption>A tibble: 1 × 3</caption>\n",
       "<thead>\n",
       "\t<tr><th scope=col>.metric</th><th scope=col>.estimator</th><th scope=col>.estimate</th></tr>\n",
       "\t<tr><th scope=col>&lt;chr&gt;</th><th scope=col>&lt;chr&gt;</th><th scope=col>&lt;dbl&gt;</th></tr>\n",
       "</thead>\n",
       "<tbody>\n",
       "\t<tr><td>rmse</td><td>standard</td><td>355.2204</td></tr>\n",
       "</tbody>\n",
       "</table>\n"
      ],
      "text/latex": [
       "A tibble: 1 × 3\n",
       "\\begin{tabular}{lll}\n",
       " .metric & .estimator & .estimate\\\\\n",
       " <chr> & <chr> & <dbl>\\\\\n",
       "\\hline\n",
       "\t rmse & standard & 355.2204\\\\\n",
       "\\end{tabular}\n"
      ],
      "text/markdown": [
       "\n",
       "A tibble: 1 × 3\n",
       "\n",
       "| .metric &lt;chr&gt; | .estimator &lt;chr&gt; | .estimate &lt;dbl&gt; |\n",
       "|---|---|---|\n",
       "| rmse | standard | 355.2204 |\n",
       "\n"
      ],
      "text/plain": [
       "  .metric .estimator .estimate\n",
       "1 rmse    standard   355.2204 "
      ]
     },
     "metadata": {},
     "output_type": "display_data"
    },
    {
     "data": {
      "text/html": [
       "<table class=\"dataframe\">\n",
       "<caption>A tibble: 1 × 3</caption>\n",
       "<thead>\n",
       "\t<tr><th scope=col>.metric</th><th scope=col>.estimator</th><th scope=col>.estimate</th></tr>\n",
       "\t<tr><th scope=col>&lt;chr&gt;</th><th scope=col>&lt;chr&gt;</th><th scope=col>&lt;dbl&gt;</th></tr>\n",
       "</thead>\n",
       "<tbody>\n",
       "\t<tr><td>rsq</td><td>standard</td><td>0.6893515</td></tr>\n",
       "</tbody>\n",
       "</table>\n"
      ],
      "text/latex": [
       "A tibble: 1 × 3\n",
       "\\begin{tabular}{lll}\n",
       " .metric & .estimator & .estimate\\\\\n",
       " <chr> & <chr> & <dbl>\\\\\n",
       "\\hline\n",
       "\t rsq & standard & 0.6893515\\\\\n",
       "\\end{tabular}\n"
      ],
      "text/markdown": [
       "\n",
       "A tibble: 1 × 3\n",
       "\n",
       "| .metric &lt;chr&gt; | .estimator &lt;chr&gt; | .estimate &lt;dbl&gt; |\n",
       "|---|---|---|\n",
       "| rsq | standard | 0.6893515 |\n",
       "\n"
      ],
      "text/plain": [
       "  .metric .estimator .estimate\n",
       "1 rsq     standard   0.6893515"
      ]
     },
     "metadata": {},
     "output_type": "display_data"
    }
   ],
   "source": [
    "# Report rsq and rmse of the `lm_glmnet` model\n",
    "\n",
    "print(\"=====================First ridge rmse and sqr=====================\")\n",
    "results_ridge[results_ridge<0] <- 0\n",
    "ridge_rsq <- rsq(results_ridge, estimate = .pred, truth = truth)\n",
    "ridge_rsq\n",
    "ridge_rmse <- rmse(results_ridge, estimate = .pred, truth = truth)\n",
    "ridge_rmse\n",
    "head(results_ridge)\n",
    "\n",
    "#LASSO\n",
    "print(\"=====================First lasso rmse and sqr=====================\")\n",
    "lasso_spec <- linear_reg(penalty = 0.1, mixture = 1) %>% \n",
    "            set_engine(\"glmnet\") %>% set_mode(\"regression\")\n",
    "lasso_wk_flow <- workflow() %>% add_recipe(bike_recipe) %>% add_model(lasso_spec)\n",
    "lasso_fit <- fit(lasso_wk_flow, data = train_data)\n",
    "lasso_bike_results <- predict(lasso_fit, new_data = test_data) %>% mutate(truth = test_data$RENTED_BIKE_COUNT)\n",
    "# Save their rmse and rsq values\n",
    "lasso_bike_results[lasso_bike_results<0] <- 0\n",
    "lasso_rmse <- rmse(lasso_bike_results, estimate = .pred, truth = truth )\n",
    "lasso_rsq <- rsq(lasso_bike_results, estimate = .pred, truth = truth)\n",
    "head(lasso_bike_results)\n",
    "lasso_rmse\n",
    "lasso_rsq"
   ]
  },
  {
   "cell_type": "markdown",
   "metadata": {},
   "source": [
    "# TASK: Experiment to search for improved models\n"
   ]
  },
  {
   "cell_type": "markdown",
   "metadata": {},
   "source": [
    "Now you understand some of the methods that you can use to try to improve your models.\n"
   ]
  },
  {
   "cell_type": "markdown",
   "metadata": {},
   "source": [
    "*TODO:* Experiment by building and testing at least five different models. For each of your experiments, include polynomial terms, interaction terms, and one of the three regularizations we introduced.\n"
   ]
  },
  {
   "cell_type": "code",
   "execution_count": 21,
   "metadata": {},
   "outputs": [],
   "source": [
    "# Build at least five different models using polynomial terms, interaction terms, and regularizations.\n",
    "\n",
    "# controlled resampling for tune_fit() to enable collect_predictions() \n",
    "ctrl <- control_resamples(save_pred = TRUE)\n"
   ]
  },
  {
   "cell_type": "code",
   "execution_count": 22,
   "metadata": {},
   "outputs": [
    {
     "name": "stdout",
     "output_type": "stream",
     "text": [
      "[1] \"====================#1 ELASTIC NET PENALTY= 0.2, MIXTURE = 0.1========================\"\n"
     ]
    },
    {
     "data": {
      "text/html": [
       "<table class=\"dataframe\">\n",
       "<caption>A tibble: 1 × 3</caption>\n",
       "<thead>\n",
       "\t<tr><th scope=col>.metric</th><th scope=col>.estimator</th><th scope=col>.estimate</th></tr>\n",
       "\t<tr><th scope=col>&lt;chr&gt;</th><th scope=col>&lt;chr&gt;</th><th scope=col>&lt;dbl&gt;</th></tr>\n",
       "</thead>\n",
       "<tbody>\n",
       "\t<tr><td>rmse</td><td>standard</td><td>355.2939</td></tr>\n",
       "</tbody>\n",
       "</table>\n"
      ],
      "text/latex": [
       "A tibble: 1 × 3\n",
       "\\begin{tabular}{lll}\n",
       " .metric & .estimator & .estimate\\\\\n",
       " <chr> & <chr> & <dbl>\\\\\n",
       "\\hline\n",
       "\t rmse & standard & 355.2939\\\\\n",
       "\\end{tabular}\n"
      ],
      "text/markdown": [
       "\n",
       "A tibble: 1 × 3\n",
       "\n",
       "| .metric &lt;chr&gt; | .estimator &lt;chr&gt; | .estimate &lt;dbl&gt; |\n",
       "|---|---|---|\n",
       "| rmse | standard | 355.2939 |\n",
       "\n"
      ],
      "text/plain": [
       "  .metric .estimator .estimate\n",
       "1 rmse    standard   355.2939 "
      ]
     },
     "metadata": {},
     "output_type": "display_data"
    },
    {
     "data": {
      "text/html": [
       "<table class=\"dataframe\">\n",
       "<caption>A tibble: 1 × 3</caption>\n",
       "<thead>\n",
       "\t<tr><th scope=col>.metric</th><th scope=col>.estimator</th><th scope=col>.estimate</th></tr>\n",
       "\t<tr><th scope=col>&lt;chr&gt;</th><th scope=col>&lt;chr&gt;</th><th scope=col>&lt;dbl&gt;</th></tr>\n",
       "</thead>\n",
       "<tbody>\n",
       "\t<tr><td>rsq</td><td>standard</td><td>0.6893919</td></tr>\n",
       "</tbody>\n",
       "</table>\n"
      ],
      "text/latex": [
       "A tibble: 1 × 3\n",
       "\\begin{tabular}{lll}\n",
       " .metric & .estimator & .estimate\\\\\n",
       " <chr> & <chr> & <dbl>\\\\\n",
       "\\hline\n",
       "\t rsq & standard & 0.6893919\\\\\n",
       "\\end{tabular}\n"
      ],
      "text/markdown": [
       "\n",
       "A tibble: 1 × 3\n",
       "\n",
       "| .metric &lt;chr&gt; | .estimator &lt;chr&gt; | .estimate &lt;dbl&gt; |\n",
       "|---|---|---|\n",
       "| rsq | standard | 0.6893919 |\n",
       "\n"
      ],
      "text/plain": [
       "  .metric .estimator .estimate\n",
       "1 rsq     standard   0.6893919"
      ]
     },
     "metadata": {},
     "output_type": "display_data"
    }
   ],
   "source": [
    "#1. ELASTIC NET\n",
    "\n",
    "print(\"====================#1 ELASTIC NET PENALTY= 0.2, MIXTURE = 0.1========================\")\n",
    "\n",
    "enet_spec <- linear_reg(penalty = 0.2, mixture = 0.1) %>% set_engine(\"glmnet\") %>% set_mode(\"regression\")\n",
    "enet_wk_flow <- workflow() %>% add_recipe(bike_recipe) %>% add_model(enet_spec)\n",
    "\n",
    "enet_fit <- enet_wk_flow %>% fit(data = train_data)\n",
    "enet_fit_results <- predict(enet_fit, new_data = test_data) %>% mutate(truth = test_data$RENTED_BIKE_COUNT)\n",
    "#head(enet_fit_results)\n",
    "# Save their rmse and rsq values\n",
    "#enet_fit_results$.pred[enet_fit_results$.pred<0] <- 0   ##Or below code:\n",
    "enet_fit_results[enet_fit_results<0] <- 0\n",
    "#head(enet_fit_results)\n",
    "enet_fit_rmse <- rmse(enet_fit_results, estimate = .pred, truth = truth )\n",
    "enet_fit_rsq <- rsq(enet_fit_results, estimate = .pred, truth = truth)\n",
    "enet_fit_rmse\n",
    "enet_fit_rsq"
   ]
  },
  {
   "cell_type": "code",
   "execution_count": 23,
   "metadata": {},
   "outputs": [
    {
     "name": "stdout",
     "output_type": "stream",
     "text": [
      "[1] \"====================#2 LAST_FIT SLR========================\"\n"
     ]
    },
    {
     "name": "stderr",
     "output_type": "stream",
     "text": [
      "\u001b[33m!\u001b[39m \u001b[33mtrain/test split: preprocessor 1/1, model 1/1 (predictions): prediction from a rank-defici...\u001b[39m\n",
      "\n"
     ]
    },
    {
     "data": {
      "text/html": [
       "<table class=\"dataframe\">\n",
       "<caption>A tibble: 2 × 4</caption>\n",
       "<thead>\n",
       "\t<tr><th scope=col>.metric</th><th scope=col>.estimator</th><th scope=col>.estimate</th><th scope=col>.config</th></tr>\n",
       "\t<tr><th scope=col>&lt;chr&gt;</th><th scope=col>&lt;chr&gt;</th><th scope=col>&lt;dbl&gt;</th><th scope=col>&lt;chr&gt;</th></tr>\n",
       "</thead>\n",
       "<tbody>\n",
       "\t<tr><td>rmse</td><td>standard</td><td>363.7368771</td><td>Preprocessor1_Model1</td></tr>\n",
       "\t<tr><td>rsq </td><td>standard</td><td>  0.6697276</td><td>Preprocessor1_Model1</td></tr>\n",
       "</tbody>\n",
       "</table>\n"
      ],
      "text/latex": [
       "A tibble: 2 × 4\n",
       "\\begin{tabular}{llll}\n",
       " .metric & .estimator & .estimate & .config\\\\\n",
       " <chr> & <chr> & <dbl> & <chr>\\\\\n",
       "\\hline\n",
       "\t rmse & standard & 363.7368771 & Preprocessor1\\_Model1\\\\\n",
       "\t rsq  & standard &   0.6697276 & Preprocessor1\\_Model1\\\\\n",
       "\\end{tabular}\n"
      ],
      "text/markdown": [
       "\n",
       "A tibble: 2 × 4\n",
       "\n",
       "| .metric &lt;chr&gt; | .estimator &lt;chr&gt; | .estimate &lt;dbl&gt; | .config &lt;chr&gt; |\n",
       "|---|---|---|---|\n",
       "| rmse | standard | 363.7368771 | Preprocessor1_Model1 |\n",
       "| rsq  | standard |   0.6697276 | Preprocessor1_Model1 |\n",
       "\n"
      ],
      "text/plain": [
       "  .metric .estimator .estimate   .config             \n",
       "1 rmse    standard   363.7368771 Preprocessor1_Model1\n",
       "2 rsq     standard     0.6697276 Preprocessor1_Model1"
      ]
     },
     "metadata": {},
     "output_type": "display_data"
    }
   ],
   "source": [
    "print(\"====================#2 LAST_FIT SLR========================\")\n",
    "\n",
    "##2. LAST_FIT and lm_spec - simple linear model\n",
    "ls_fit <- last_fit(lm_spec,\n",
    "                  preprocessor = bike_recipe,\n",
    "                  split = data_split)\n",
    "\n",
    "ls_fit %>% collect_metrics()"
   ]
  },
  {
   "cell_type": "code",
   "execution_count": 24,
   "metadata": {},
   "outputs": [
    {
     "name": "stdout",
     "output_type": "stream",
     "text": [
      "[1] \"====================#3 LASSO TUNED========================\"\n"
     ]
    },
    {
     "data": {
      "text/html": [
       "<table class=\"dataframe\">\n",
       "<caption>A tibble: 5 × 7</caption>\n",
       "<thead>\n",
       "\t<tr><th scope=col>penalty</th><th scope=col>.metric</th><th scope=col>.estimator</th><th scope=col>mean</th><th scope=col>n</th><th scope=col>std_err</th><th scope=col>.config</th></tr>\n",
       "\t<tr><th scope=col>&lt;dbl&gt;</th><th scope=col>&lt;chr&gt;</th><th scope=col>&lt;chr&gt;</th><th scope=col>&lt;dbl&gt;</th><th scope=col>&lt;int&gt;</th><th scope=col>&lt;dbl&gt;</th><th scope=col>&lt;chr&gt;</th></tr>\n",
       "</thead>\n",
       "<tbody>\n",
       "\t<tr><td>0.419833339</td><td>rmse</td><td>standard</td><td>377.5560</td><td>20</td><td>4.987556</td><td>Preprocessor1_Model32</td></tr>\n",
       "\t<tr><td>0.345510729</td><td>rmse</td><td>standard</td><td>377.5567</td><td>20</td><td>4.989452</td><td>Preprocessor1_Model31</td></tr>\n",
       "\t<tr><td>0.510143442</td><td>rmse</td><td>standard</td><td>377.5576</td><td>20</td><td>4.985329</td><td>Preprocessor1_Model33</td></tr>\n",
       "\t<tr><td>0.001000000</td><td>rmse</td><td>standard</td><td>377.5605</td><td>20</td><td>4.989914</td><td>Preprocessor1_Model01</td></tr>\n",
       "\t<tr><td>0.001215109</td><td>rmse</td><td>standard</td><td>377.5605</td><td>20</td><td>4.989914</td><td>Preprocessor1_Model02</td></tr>\n",
       "</tbody>\n",
       "</table>\n"
      ],
      "text/latex": [
       "A tibble: 5 × 7\n",
       "\\begin{tabular}{lllllll}\n",
       " penalty & .metric & .estimator & mean & n & std\\_err & .config\\\\\n",
       " <dbl> & <chr> & <chr> & <dbl> & <int> & <dbl> & <chr>\\\\\n",
       "\\hline\n",
       "\t 0.419833339 & rmse & standard & 377.5560 & 20 & 4.987556 & Preprocessor1\\_Model32\\\\\n",
       "\t 0.345510729 & rmse & standard & 377.5567 & 20 & 4.989452 & Preprocessor1\\_Model31\\\\\n",
       "\t 0.510143442 & rmse & standard & 377.5576 & 20 & 4.985329 & Preprocessor1\\_Model33\\\\\n",
       "\t 0.001000000 & rmse & standard & 377.5605 & 20 & 4.989914 & Preprocessor1\\_Model01\\\\\n",
       "\t 0.001215109 & rmse & standard & 377.5605 & 20 & 4.989914 & Preprocessor1\\_Model02\\\\\n",
       "\\end{tabular}\n"
      ],
      "text/markdown": [
       "\n",
       "A tibble: 5 × 7\n",
       "\n",
       "| penalty &lt;dbl&gt; | .metric &lt;chr&gt; | .estimator &lt;chr&gt; | mean &lt;dbl&gt; | n &lt;int&gt; | std_err &lt;dbl&gt; | .config &lt;chr&gt; |\n",
       "|---|---|---|---|---|---|---|\n",
       "| 0.419833339 | rmse | standard | 377.5560 | 20 | 4.987556 | Preprocessor1_Model32 |\n",
       "| 0.345510729 | rmse | standard | 377.5567 | 20 | 4.989452 | Preprocessor1_Model31 |\n",
       "| 0.510143442 | rmse | standard | 377.5576 | 20 | 4.985329 | Preprocessor1_Model33 |\n",
       "| 0.001000000 | rmse | standard | 377.5605 | 20 | 4.989914 | Preprocessor1_Model01 |\n",
       "| 0.001215109 | rmse | standard | 377.5605 | 20 | 4.989914 | Preprocessor1_Model02 |\n",
       "\n"
      ],
      "text/plain": [
       "  penalty     .metric .estimator mean     n  std_err  .config              \n",
       "1 0.419833339 rmse    standard   377.5560 20 4.987556 Preprocessor1_Model32\n",
       "2 0.345510729 rmse    standard   377.5567 20 4.989452 Preprocessor1_Model31\n",
       "3 0.510143442 rmse    standard   377.5576 20 4.985329 Preprocessor1_Model33\n",
       "4 0.001000000 rmse    standard   377.5605 20 4.989914 Preprocessor1_Model01\n",
       "5 0.001215109 rmse    standard   377.5605 20 4.989914 Preprocessor1_Model02"
      ]
     },
     "metadata": {},
     "output_type": "display_data"
    }
   ],
   "source": [
    "##3. GRID penalty TUNING a. Lasso\n",
    "print(\"====================#3 LASSO TUNED========================\")\n",
    "lasso_tune_spec <- linear_reg(penalty = tune(), mixture = 1) %>% set_engine(\"glmnet\") %>% set_mode(\"regression\")\n",
    "lambda_grid1 <- grid_regular(levels = 40, penalty(range = c(-3, 0.3)))\n",
    "lasso_tune_fit <- tune_grid(lasso_tune_spec,\n",
    "                               preprocessor = bike_recipe,\n",
    "                              grid = lambda_grid1,\n",
    "                              resamples = bike_sharing_folds,\n",
    "                              control = ctrl)\n",
    "\n",
    "lasso_tune_fit %>% show_best(metric = 'rmse')"
   ]
  },
  {
   "cell_type": "code",
   "execution_count": 25,
   "metadata": {},
   "outputs": [
    {
     "name": "stdout",
     "output_type": "stream",
     "text": [
      "[1] \"====================#4 GRID TUNED========================\"\n"
     ]
    },
    {
     "data": {
      "text/html": [
       "<table class=\"dataframe\">\n",
       "<caption>A tibble: 5 × 7</caption>\n",
       "<thead>\n",
       "\t<tr><th scope=col>penalty</th><th scope=col>.metric</th><th scope=col>.estimator</th><th scope=col>mean</th><th scope=col>n</th><th scope=col>std_err</th><th scope=col>.config</th></tr>\n",
       "\t<tr><th scope=col>&lt;dbl&gt;</th><th scope=col>&lt;chr&gt;</th><th scope=col>&lt;chr&gt;</th><th scope=col>&lt;dbl&gt;</th><th scope=col>&lt;int&gt;</th><th scope=col>&lt;dbl&gt;</th><th scope=col>&lt;chr&gt;</th></tr>\n",
       "</thead>\n",
       "<tbody>\n",
       "\t<tr><td>0.001000000</td><td>rmse</td><td>standard</td><td>378.2619</td><td>20</td><td>5.025171</td><td>Preprocessor1_Model01</td></tr>\n",
       "\t<tr><td>0.001215109</td><td>rmse</td><td>standard</td><td>378.2619</td><td>20</td><td>5.025171</td><td>Preprocessor1_Model02</td></tr>\n",
       "\t<tr><td>0.001476491</td><td>rmse</td><td>standard</td><td>378.2619</td><td>20</td><td>5.025171</td><td>Preprocessor1_Model03</td></tr>\n",
       "\t<tr><td>0.001794098</td><td>rmse</td><td>standard</td><td>378.2619</td><td>20</td><td>5.025171</td><td>Preprocessor1_Model04</td></tr>\n",
       "\t<tr><td>0.002180025</td><td>rmse</td><td>standard</td><td>378.2619</td><td>20</td><td>5.025171</td><td>Preprocessor1_Model05</td></tr>\n",
       "</tbody>\n",
       "</table>\n"
      ],
      "text/latex": [
       "A tibble: 5 × 7\n",
       "\\begin{tabular}{lllllll}\n",
       " penalty & .metric & .estimator & mean & n & std\\_err & .config\\\\\n",
       " <dbl> & <chr> & <chr> & <dbl> & <int> & <dbl> & <chr>\\\\\n",
       "\\hline\n",
       "\t 0.001000000 & rmse & standard & 378.2619 & 20 & 5.025171 & Preprocessor1\\_Model01\\\\\n",
       "\t 0.001215109 & rmse & standard & 378.2619 & 20 & 5.025171 & Preprocessor1\\_Model02\\\\\n",
       "\t 0.001476491 & rmse & standard & 378.2619 & 20 & 5.025171 & Preprocessor1\\_Model03\\\\\n",
       "\t 0.001794098 & rmse & standard & 378.2619 & 20 & 5.025171 & Preprocessor1\\_Model04\\\\\n",
       "\t 0.002180025 & rmse & standard & 378.2619 & 20 & 5.025171 & Preprocessor1\\_Model05\\\\\n",
       "\\end{tabular}\n"
      ],
      "text/markdown": [
       "\n",
       "A tibble: 5 × 7\n",
       "\n",
       "| penalty &lt;dbl&gt; | .metric &lt;chr&gt; | .estimator &lt;chr&gt; | mean &lt;dbl&gt; | n &lt;int&gt; | std_err &lt;dbl&gt; | .config &lt;chr&gt; |\n",
       "|---|---|---|---|---|---|---|\n",
       "| 0.001000000 | rmse | standard | 378.2619 | 20 | 5.025171 | Preprocessor1_Model01 |\n",
       "| 0.001215109 | rmse | standard | 378.2619 | 20 | 5.025171 | Preprocessor1_Model02 |\n",
       "| 0.001476491 | rmse | standard | 378.2619 | 20 | 5.025171 | Preprocessor1_Model03 |\n",
       "| 0.001794098 | rmse | standard | 378.2619 | 20 | 5.025171 | Preprocessor1_Model04 |\n",
       "| 0.002180025 | rmse | standard | 378.2619 | 20 | 5.025171 | Preprocessor1_Model05 |\n",
       "\n"
      ],
      "text/plain": [
       "  penalty     .metric .estimator mean     n  std_err  .config              \n",
       "1 0.001000000 rmse    standard   378.2619 20 5.025171 Preprocessor1_Model01\n",
       "2 0.001215109 rmse    standard   378.2619 20 5.025171 Preprocessor1_Model02\n",
       "3 0.001476491 rmse    standard   378.2619 20 5.025171 Preprocessor1_Model03\n",
       "4 0.001794098 rmse    standard   378.2619 20 5.025171 Preprocessor1_Model04\n",
       "5 0.002180025 rmse    standard   378.2619 20 5.025171 Preprocessor1_Model05"
      ]
     },
     "metadata": {},
     "output_type": "display_data"
    }
   ],
   "source": [
    "##4. GRID penalty TUNING b. ridge\n",
    "print(\"====================#4 GRID TUNED========================\")\n",
    "\n",
    "ridge_tune_spec <- linear_reg(penalty = tune(), mixture = 0) %>% set_engine(\"glmnet\") %>% set_mode(\"regression\")\n",
    "lambda_grid2 <- grid_regular(levels = 40, penalty(range = c(-3, 0.3)))\n",
    "ridge_tune_fit <- tune_grid(ridge_tune_spec,\n",
    "                           preprocessor = bike_recipe,\n",
    "                          grid = lambda_grid2,\n",
    "                          resamples = bike_sharing_folds,\n",
    "                           control = ctrl)\n",
    "\n",
    "ridge_tune_fit %>% show_best(metric = 'rmse')"
   ]
  },
  {
   "cell_type": "code",
   "execution_count": 26,
   "metadata": {},
   "outputs": [
    {
     "name": "stdout",
     "output_type": "stream",
     "text": [
      "[1] \"====================#5 ELASTIC NET========================\"\n"
     ]
    }
   ],
   "source": [
    "##5. GRID tune, tune both mixture and penalty AND CONTROL_RESAMPLES\n",
    "print(\"====================#5 ELASTIC NET========================\")\n",
    "\n",
    "enet_tune_spec <- linear_reg(penalty = tune(), mixture = tune()) %>% set_engine(\"glmnet\") %>% set_mode(\"regression\")\n",
    "\n",
    "lamda_grid_expand <- expand_grid(penalty = seq(0, 100, by = 10), \n",
    "                            mixture = seq(0, 1, by = 0.2))\n",
    "\n",
    "enet_tune_fit <- tune_grid(enet_tune_spec,\n",
    "                          preprocessor = bike_poly_recipe,\n",
    "                          grid = lamda_grid_expand,\n",
    "                          resamples = bike_sharing_folds,\n",
    "                          control = ctrl)"
   ]
  },
  {
   "cell_type": "code",
   "execution_count": 27,
   "metadata": {},
   "outputs": [
    {
     "name": "stdout",
     "output_type": "stream",
     "text": [
      "[1] \"====================#6 ENET RESULTS PENALTY= 0.2, MIXTURE = 0.1=======================\"\n"
     ]
    },
    {
     "data": {
      "text/html": [
       "<table class=\"dataframe\">\n",
       "<caption>A tibble: 1 × 3</caption>\n",
       "<thead>\n",
       "\t<tr><th scope=col>.metric</th><th scope=col>.estimator</th><th scope=col>.estimate</th></tr>\n",
       "\t<tr><th scope=col>&lt;chr&gt;</th><th scope=col>&lt;chr&gt;</th><th scope=col>&lt;dbl&gt;</th></tr>\n",
       "</thead>\n",
       "<tbody>\n",
       "\t<tr><td>rmse</td><td>standard</td><td>364.0183</td></tr>\n",
       "</tbody>\n",
       "</table>\n"
      ],
      "text/latex": [
       "A tibble: 1 × 3\n",
       "\\begin{tabular}{lll}\n",
       " .metric & .estimator & .estimate\\\\\n",
       " <chr> & <chr> & <dbl>\\\\\n",
       "\\hline\n",
       "\t rmse & standard & 364.0183\\\\\n",
       "\\end{tabular}\n"
      ],
      "text/markdown": [
       "\n",
       "A tibble: 1 × 3\n",
       "\n",
       "| .metric &lt;chr&gt; | .estimator &lt;chr&gt; | .estimate &lt;dbl&gt; |\n",
       "|---|---|---|\n",
       "| rmse | standard | 364.0183 |\n",
       "\n"
      ],
      "text/plain": [
       "  .metric .estimator .estimate\n",
       "1 rmse    standard   364.0183 "
      ]
     },
     "metadata": {},
     "output_type": "display_data"
    },
    {
     "data": {
      "text/html": [
       "<table class=\"dataframe\">\n",
       "<caption>A tibble: 1 × 3</caption>\n",
       "<thead>\n",
       "\t<tr><th scope=col>.metric</th><th scope=col>.estimator</th><th scope=col>.estimate</th></tr>\n",
       "\t<tr><th scope=col>&lt;chr&gt;</th><th scope=col>&lt;chr&gt;</th><th scope=col>&lt;dbl&gt;</th></tr>\n",
       "</thead>\n",
       "<tbody>\n",
       "\t<tr><td>rsq</td><td>standard</td><td>0.66927</td></tr>\n",
       "</tbody>\n",
       "</table>\n"
      ],
      "text/latex": [
       "A tibble: 1 × 3\n",
       "\\begin{tabular}{lll}\n",
       " .metric & .estimator & .estimate\\\\\n",
       " <chr> & <chr> & <dbl>\\\\\n",
       "\\hline\n",
       "\t rsq & standard & 0.66927\\\\\n",
       "\\end{tabular}\n"
      ],
      "text/markdown": [
       "\n",
       "A tibble: 1 × 3\n",
       "\n",
       "| .metric &lt;chr&gt; | .estimator &lt;chr&gt; | .estimate &lt;dbl&gt; |\n",
       "|---|---|---|\n",
       "| rsq | standard | 0.66927 |\n",
       "\n"
      ],
      "text/plain": [
       "  .metric .estimator .estimate\n",
       "1 rsq     standard   0.66927  "
      ]
     },
     "metadata": {},
     "output_type": "display_data"
    },
    {
     "data": {
      "text/html": [
       "<table class=\"dataframe\">\n",
       "<caption>A tibble: 5 × 8</caption>\n",
       "<thead>\n",
       "\t<tr><th scope=col>penalty</th><th scope=col>mixture</th><th scope=col>.metric</th><th scope=col>.estimator</th><th scope=col>mean</th><th scope=col>n</th><th scope=col>std_err</th><th scope=col>.config</th></tr>\n",
       "\t<tr><th scope=col>&lt;dbl&gt;</th><th scope=col>&lt;dbl&gt;</th><th scope=col>&lt;chr&gt;</th><th scope=col>&lt;chr&gt;</th><th scope=col>&lt;dbl&gt;</th><th scope=col>&lt;int&gt;</th><th scope=col>&lt;dbl&gt;</th><th scope=col>&lt;chr&gt;</th></tr>\n",
       "</thead>\n",
       "<tbody>\n",
       "\t<tr><td> 10</td><td>0.2</td><td>rsq</td><td>standard</td><td>0.8397926</td><td>20</td><td>0.006458795</td><td>Preprocessor1_Model13</td></tr>\n",
       "\t<tr><td> 10</td><td>0.4</td><td>rsq</td><td>standard</td><td>0.8355800</td><td>20</td><td>0.006054257</td><td>Preprocessor1_Model24</td></tr>\n",
       "\t<tr><td> 20</td><td>0.2</td><td>rsq</td><td>standard</td><td>0.8348379</td><td>20</td><td>0.006133350</td><td>Preprocessor1_Model14</td></tr>\n",
       "\t<tr><td>100</td><td>0.0</td><td>rsq</td><td>standard</td><td>0.8342157</td><td>20</td><td>0.008584827</td><td>Preprocessor1_Model11</td></tr>\n",
       "\t<tr><td> 90</td><td>0.0</td><td>rsq</td><td>standard</td><td>0.8338636</td><td>20</td><td>0.008963158</td><td>Preprocessor1_Model10</td></tr>\n",
       "</tbody>\n",
       "</table>\n"
      ],
      "text/latex": [
       "A tibble: 5 × 8\n",
       "\\begin{tabular}{llllllll}\n",
       " penalty & mixture & .metric & .estimator & mean & n & std\\_err & .config\\\\\n",
       " <dbl> & <dbl> & <chr> & <chr> & <dbl> & <int> & <dbl> & <chr>\\\\\n",
       "\\hline\n",
       "\t  10 & 0.2 & rsq & standard & 0.8397926 & 20 & 0.006458795 & Preprocessor1\\_Model13\\\\\n",
       "\t  10 & 0.4 & rsq & standard & 0.8355800 & 20 & 0.006054257 & Preprocessor1\\_Model24\\\\\n",
       "\t  20 & 0.2 & rsq & standard & 0.8348379 & 20 & 0.006133350 & Preprocessor1\\_Model14\\\\\n",
       "\t 100 & 0.0 & rsq & standard & 0.8342157 & 20 & 0.008584827 & Preprocessor1\\_Model11\\\\\n",
       "\t  90 & 0.0 & rsq & standard & 0.8338636 & 20 & 0.008963158 & Preprocessor1\\_Model10\\\\\n",
       "\\end{tabular}\n"
      ],
      "text/markdown": [
       "\n",
       "A tibble: 5 × 8\n",
       "\n",
       "| penalty &lt;dbl&gt; | mixture &lt;dbl&gt; | .metric &lt;chr&gt; | .estimator &lt;chr&gt; | mean &lt;dbl&gt; | n &lt;int&gt; | std_err &lt;dbl&gt; | .config &lt;chr&gt; |\n",
       "|---|---|---|---|---|---|---|---|\n",
       "|  10 | 0.2 | rsq | standard | 0.8397926 | 20 | 0.006458795 | Preprocessor1_Model13 |\n",
       "|  10 | 0.4 | rsq | standard | 0.8355800 | 20 | 0.006054257 | Preprocessor1_Model24 |\n",
       "|  20 | 0.2 | rsq | standard | 0.8348379 | 20 | 0.006133350 | Preprocessor1_Model14 |\n",
       "| 100 | 0.0 | rsq | standard | 0.8342157 | 20 | 0.008584827 | Preprocessor1_Model11 |\n",
       "|  90 | 0.0 | rsq | standard | 0.8338636 | 20 | 0.008963158 | Preprocessor1_Model10 |\n",
       "\n"
      ],
      "text/plain": [
       "  penalty mixture .metric .estimator mean      n  std_err    \n",
       "1  10     0.2     rsq     standard   0.8397926 20 0.006458795\n",
       "2  10     0.4     rsq     standard   0.8355800 20 0.006054257\n",
       "3  20     0.2     rsq     standard   0.8348379 20 0.006133350\n",
       "4 100     0.0     rsq     standard   0.8342157 20 0.008584827\n",
       "5  90     0.0     rsq     standard   0.8338636 20 0.008963158\n",
       "  .config              \n",
       "1 Preprocessor1_Model13\n",
       "2 Preprocessor1_Model24\n",
       "3 Preprocessor1_Model14\n",
       "4 Preprocessor1_Model11\n",
       "5 Preprocessor1_Model10"
      ]
     },
     "metadata": {},
     "output_type": "display_data"
    },
    {
     "data": {
      "text/html": [
       "<table class=\"dataframe\">\n",
       "<caption>A tibble: 5 × 8</caption>\n",
       "<thead>\n",
       "\t<tr><th scope=col>penalty</th><th scope=col>mixture</th><th scope=col>.metric</th><th scope=col>.estimator</th><th scope=col>mean</th><th scope=col>n</th><th scope=col>std_err</th><th scope=col>.config</th></tr>\n",
       "\t<tr><th scope=col>&lt;dbl&gt;</th><th scope=col>&lt;dbl&gt;</th><th scope=col>&lt;chr&gt;</th><th scope=col>&lt;chr&gt;</th><th scope=col>&lt;dbl&gt;</th><th scope=col>&lt;int&gt;</th><th scope=col>&lt;dbl&gt;</th><th scope=col>&lt;chr&gt;</th></tr>\n",
       "</thead>\n",
       "<tbody>\n",
       "\t<tr><td> 10</td><td>0.2</td><td>rmse</td><td>standard</td><td>257.4155</td><td>20</td><td>4.358168</td><td>Preprocessor1_Model13</td></tr>\n",
       "\t<tr><td> 10</td><td>0.4</td><td>rmse</td><td>standard</td><td>261.4385</td><td>20</td><td>3.971628</td><td>Preprocessor1_Model24</td></tr>\n",
       "\t<tr><td>100</td><td>0.0</td><td>rmse</td><td>standard</td><td>261.7702</td><td>20</td><td>5.594296</td><td>Preprocessor1_Model11</td></tr>\n",
       "\t<tr><td> 90</td><td>0.0</td><td>rmse</td><td>standard</td><td>261.9884</td><td>20</td><td>5.903759</td><td>Preprocessor1_Model10</td></tr>\n",
       "\t<tr><td> 20</td><td>0.2</td><td>rmse</td><td>standard</td><td>262.2180</td><td>20</td><td>4.022189</td><td>Preprocessor1_Model14</td></tr>\n",
       "</tbody>\n",
       "</table>\n"
      ],
      "text/latex": [
       "A tibble: 5 × 8\n",
       "\\begin{tabular}{llllllll}\n",
       " penalty & mixture & .metric & .estimator & mean & n & std\\_err & .config\\\\\n",
       " <dbl> & <dbl> & <chr> & <chr> & <dbl> & <int> & <dbl> & <chr>\\\\\n",
       "\\hline\n",
       "\t  10 & 0.2 & rmse & standard & 257.4155 & 20 & 4.358168 & Preprocessor1\\_Model13\\\\\n",
       "\t  10 & 0.4 & rmse & standard & 261.4385 & 20 & 3.971628 & Preprocessor1\\_Model24\\\\\n",
       "\t 100 & 0.0 & rmse & standard & 261.7702 & 20 & 5.594296 & Preprocessor1\\_Model11\\\\\n",
       "\t  90 & 0.0 & rmse & standard & 261.9884 & 20 & 5.903759 & Preprocessor1\\_Model10\\\\\n",
       "\t  20 & 0.2 & rmse & standard & 262.2180 & 20 & 4.022189 & Preprocessor1\\_Model14\\\\\n",
       "\\end{tabular}\n"
      ],
      "text/markdown": [
       "\n",
       "A tibble: 5 × 8\n",
       "\n",
       "| penalty &lt;dbl&gt; | mixture &lt;dbl&gt; | .metric &lt;chr&gt; | .estimator &lt;chr&gt; | mean &lt;dbl&gt; | n &lt;int&gt; | std_err &lt;dbl&gt; | .config &lt;chr&gt; |\n",
       "|---|---|---|---|---|---|---|---|\n",
       "|  10 | 0.2 | rmse | standard | 257.4155 | 20 | 4.358168 | Preprocessor1_Model13 |\n",
       "|  10 | 0.4 | rmse | standard | 261.4385 | 20 | 3.971628 | Preprocessor1_Model24 |\n",
       "| 100 | 0.0 | rmse | standard | 261.7702 | 20 | 5.594296 | Preprocessor1_Model11 |\n",
       "|  90 | 0.0 | rmse | standard | 261.9884 | 20 | 5.903759 | Preprocessor1_Model10 |\n",
       "|  20 | 0.2 | rmse | standard | 262.2180 | 20 | 4.022189 | Preprocessor1_Model14 |\n",
       "\n"
      ],
      "text/plain": [
       "  penalty mixture .metric .estimator mean     n  std_err  .config              \n",
       "1  10     0.2     rmse    standard   257.4155 20 4.358168 Preprocessor1_Model13\n",
       "2  10     0.4     rmse    standard   261.4385 20 3.971628 Preprocessor1_Model24\n",
       "3 100     0.0     rmse    standard   261.7702 20 5.594296 Preprocessor1_Model11\n",
       "4  90     0.0     rmse    standard   261.9884 20 5.903759 Preprocessor1_Model10\n",
       "5  20     0.2     rmse    standard   262.2180 20 4.022189 Preprocessor1_Model14"
      ]
     },
     "metadata": {},
     "output_type": "display_data"
    }
   ],
   "source": [
    "print(\"====================#6 ENET RESULTS PENALTY= 0.2, MIXTURE = 0.1=======================\")\n",
    "enet_results <- predict(enet_fit, new_data = test_data) %>% mutate(truth = test_data$RENTED_BIKE_COUNT)\n",
    "enet_rmse <- rmse(enet_results, estimate = .pred, truth = truth)\n",
    "enet_rmse\n",
    "\n",
    "enet_rsq <- rsq(enet_results, estimate = .pred, truth = truth)\n",
    "enet_rsq\n",
    "\n",
    "enet_tune_fit %>% show_best('rsq')\n",
    "enet_tune_fit %>% show_best('rmse')"
   ]
  },
  {
   "cell_type": "code",
   "execution_count": 28,
   "metadata": {},
   "outputs": [
    {
     "name": "stdout",
     "output_type": "stream",
     "text": [
      "[1] \"==========Best model RMSE===============\"\n"
     ]
    },
    {
     "data": {
      "text/html": [
       "<table class=\"dataframe\">\n",
       "<caption>A tibble: 1 × 8</caption>\n",
       "<thead>\n",
       "\t<tr><th scope=col>penalty</th><th scope=col>mixture</th><th scope=col>.metric</th><th scope=col>.estimator</th><th scope=col>mean</th><th scope=col>n</th><th scope=col>std_err</th><th scope=col>.config</th></tr>\n",
       "\t<tr><th scope=col>&lt;dbl&gt;</th><th scope=col>&lt;dbl&gt;</th><th scope=col>&lt;chr&gt;</th><th scope=col>&lt;chr&gt;</th><th scope=col>&lt;dbl&gt;</th><th scope=col>&lt;int&gt;</th><th scope=col>&lt;dbl&gt;</th><th scope=col>&lt;chr&gt;</th></tr>\n",
       "</thead>\n",
       "<tbody>\n",
       "\t<tr><td>10</td><td>0.2</td><td>rmse</td><td>standard</td><td>257.4155</td><td>20</td><td>4.358168</td><td>Preprocessor1_Model13</td></tr>\n",
       "</tbody>\n",
       "</table>\n"
      ],
      "text/latex": [
       "A tibble: 1 × 8\n",
       "\\begin{tabular}{llllllll}\n",
       " penalty & mixture & .metric & .estimator & mean & n & std\\_err & .config\\\\\n",
       " <dbl> & <dbl> & <chr> & <chr> & <dbl> & <int> & <dbl> & <chr>\\\\\n",
       "\\hline\n",
       "\t 10 & 0.2 & rmse & standard & 257.4155 & 20 & 4.358168 & Preprocessor1\\_Model13\\\\\n",
       "\\end{tabular}\n"
      ],
      "text/markdown": [
       "\n",
       "A tibble: 1 × 8\n",
       "\n",
       "| penalty &lt;dbl&gt; | mixture &lt;dbl&gt; | .metric &lt;chr&gt; | .estimator &lt;chr&gt; | mean &lt;dbl&gt; | n &lt;int&gt; | std_err &lt;dbl&gt; | .config &lt;chr&gt; |\n",
       "|---|---|---|---|---|---|---|---|\n",
       "| 10 | 0.2 | rmse | standard | 257.4155 | 20 | 4.358168 | Preprocessor1_Model13 |\n",
       "\n"
      ],
      "text/plain": [
       "  penalty mixture .metric .estimator mean     n  std_err  .config              \n",
       "1 10      0.2     rmse    standard   257.4155 20 4.358168 Preprocessor1_Model13"
      ]
     },
     "metadata": {},
     "output_type": "display_data"
    },
    {
     "name": "stdout",
     "output_type": "stream",
     "text": [
      "[1] \"==========Best model RSQ===============\"\n"
     ]
    },
    {
     "data": {
      "text/html": [
       "<table class=\"dataframe\">\n",
       "<caption>A tibble: 1 × 8</caption>\n",
       "<thead>\n",
       "\t<tr><th scope=col>penalty</th><th scope=col>mixture</th><th scope=col>.metric</th><th scope=col>.estimator</th><th scope=col>mean</th><th scope=col>n</th><th scope=col>std_err</th><th scope=col>.config</th></tr>\n",
       "\t<tr><th scope=col>&lt;dbl&gt;</th><th scope=col>&lt;dbl&gt;</th><th scope=col>&lt;chr&gt;</th><th scope=col>&lt;chr&gt;</th><th scope=col>&lt;dbl&gt;</th><th scope=col>&lt;int&gt;</th><th scope=col>&lt;dbl&gt;</th><th scope=col>&lt;chr&gt;</th></tr>\n",
       "</thead>\n",
       "<tbody>\n",
       "\t<tr><td>10</td><td>0.2</td><td>rsq</td><td>standard</td><td>0.8397926</td><td>20</td><td>0.006458795</td><td>Preprocessor1_Model13</td></tr>\n",
       "</tbody>\n",
       "</table>\n"
      ],
      "text/latex": [
       "A tibble: 1 × 8\n",
       "\\begin{tabular}{llllllll}\n",
       " penalty & mixture & .metric & .estimator & mean & n & std\\_err & .config\\\\\n",
       " <dbl> & <dbl> & <chr> & <chr> & <dbl> & <int> & <dbl> & <chr>\\\\\n",
       "\\hline\n",
       "\t 10 & 0.2 & rsq & standard & 0.8397926 & 20 & 0.006458795 & Preprocessor1\\_Model13\\\\\n",
       "\\end{tabular}\n"
      ],
      "text/markdown": [
       "\n",
       "A tibble: 1 × 8\n",
       "\n",
       "| penalty &lt;dbl&gt; | mixture &lt;dbl&gt; | .metric &lt;chr&gt; | .estimator &lt;chr&gt; | mean &lt;dbl&gt; | n &lt;int&gt; | std_err &lt;dbl&gt; | .config &lt;chr&gt; |\n",
       "|---|---|---|---|---|---|---|---|\n",
       "| 10 | 0.2 | rsq | standard | 0.8397926 | 20 | 0.006458795 | Preprocessor1_Model13 |\n",
       "\n"
      ],
      "text/plain": [
       "  penalty mixture .metric .estimator mean      n  std_err    \n",
       "1 10      0.2     rsq     standard   0.8397926 20 0.006458795\n",
       "  .config              \n",
       "1 Preprocessor1_Model13"
      ]
     },
     "metadata": {},
     "output_type": "display_data"
    }
   ],
   "source": [
    "# Report the best performed model in terms of rmse and rsq\n",
    "print(\"==========Best model RMSE===============\")\n",
    "best_rmse <-enet_tune_fit %>% show_best(\"rmse\", n = 1)\n",
    "best_rmse\n",
    "\n",
    "print(\"==========Best model RSQ===============\")\n",
    "best_rsq <-enet_tune_fit %>% show_best(\"rsq\", n = 1)\n",
    "best_rsq"
   ]
  },
  {
   "cell_type": "markdown",
   "metadata": {},
   "source": [
    "Here are the performance requirements for your best model:\n",
    "\n",
    "*   The RMSE should be less than 330 (rougly 10% of the max value in test dataset)\n",
    "*   R-squared should be greater than 0.72\n"
   ]
  },
  {
   "cell_type": "markdown",
   "metadata": {},
   "source": [
    "*TODO:* Visualize the saved RMSE and R-squared values using a grouped barchart\n"
   ]
  },
  {
   "cell_type": "code",
   "execution_count": 31,
   "metadata": {},
   "outputs": [
    {
     "data": {
      "image/png": "[encoded data removed]",
      "text/plain": [
       "plot without title"
      ]
     },
     "metadata": {
      "image/png": {
       "height": 420,
       "width": 420
      }
     },
     "output_type": "display_data"
    },
    {
     "data": {
      "image/png": "[encoded data removed]",
      "text/plain": [
       "plot without title"
      ]
     },
     "metadata": {
      "image/png": {
       "height": 420,
       "width": 420
      }
     },
     "output_type": "display_data"
    }
   ],
   "source": [
    "# HINT: Use ggplot() + geom_bar()\n",
    "enet_tune_fit %>% show_best(\"rmse\") %>% ggplot(aes(x = penalty, y = mean, fill = factor(mixture))) + geom_bar(stat = \"identity\", position = \"dodge\") +\n",
    "            labs(title = \"RMSE against Penalty\", y = \"RMSE\")\n",
    "\n",
    "enet_tune_fit %>% show_best(\"rsq\") %>% ggplot(aes(x = penalty, y = mean, fill = factor(mixture))) + geom_bar(stat = \"identity\", position = \"dodge\") +\n",
    "            labs(title = \"R-Squared against Penalty\", y = \"R-Squared\")\n"
   ]
  },
  {
   "cell_type": "markdown",
   "metadata": {},
   "source": [
    "*TODO:* Create a Q-Q plot by plotting the distribution difference between the predictions generated by your best model and the true values on the test dataset."
   ]
  },
  {
   "cell_type": "code",
   "execution_count": 32,
   "metadata": {},
   "outputs": [
    {
     "data": {
      "image/png": "[encoded data removed]",
      "text/plain": [
       "plot without title"
      ]
     },
     "metadata": {
      "image/png": {
       "height": 420,
       "width": 420
      }
     },
     "output_type": "display_data"
    }
   ],
   "source": [
    "# HINT: Use ggplot() +\n",
    "    # stat_qq(aes(sample=truth), color='green') +\n",
    "    # stat_qq(aes(sample=prediction), color='red')\n",
    "\n",
    "bike_pred_truth <- enet_tune_fit %>% collect_predictions() %>% filter(!.pred < 0)\n",
    "\n",
    "bike_pred_truth %>% ggplot() +\n",
    "     stat_qq(aes(sample=RENTED_BIKE_COUNT), color='green') +\n",
    "     stat_qq(aes(sample=.pred), color='red')"
   ]
  },
  {
   "cell_type": "code",
   "execution_count": 33,
   "metadata": {},
   "outputs": [
    {
     "name": "stdout",
     "output_type": "stream",
     "text": [
      "[1] \"====================BEST METRICS FROM last_fit() REFINEMENT BEST TUNING PARAMETERS========================\"\n"
     ]
    },
    {
     "data": {
      "text/html": [
       "<table class=\"dataframe\">\n",
       "<caption>A tibble: 2 × 4</caption>\n",
       "<thead>\n",
       "\t<tr><th scope=col>.metric</th><th scope=col>.estimator</th><th scope=col>.estimate</th><th scope=col>.config</th></tr>\n",
       "\t<tr><th scope=col>&lt;chr&gt;</th><th scope=col>&lt;chr&gt;</th><th scope=col>&lt;dbl&gt;</th><th scope=col>&lt;chr&gt;</th></tr>\n",
       "</thead>\n",
       "<tbody>\n",
       "\t<tr><td>rmse</td><td>standard</td><td>243.2363577</td><td>Preprocessor1_Model1</td></tr>\n",
       "\t<tr><td>rsq </td><td>standard</td><td>  0.8534239</td><td>Preprocessor1_Model1</td></tr>\n",
       "</tbody>\n",
       "</table>\n"
      ],
      "text/latex": [
       "A tibble: 2 × 4\n",
       "\\begin{tabular}{llll}\n",
       " .metric & .estimator & .estimate & .config\\\\\n",
       " <chr> & <chr> & <dbl> & <chr>\\\\\n",
       "\\hline\n",
       "\t rmse & standard & 243.2363577 & Preprocessor1\\_Model1\\\\\n",
       "\t rsq  & standard &   0.8534239 & Preprocessor1\\_Model1\\\\\n",
       "\\end{tabular}\n"
      ],
      "text/markdown": [
       "\n",
       "A tibble: 2 × 4\n",
       "\n",
       "| .metric &lt;chr&gt; | .estimator &lt;chr&gt; | .estimate &lt;dbl&gt; | .config &lt;chr&gt; |\n",
       "|---|---|---|---|\n",
       "| rmse | standard | 243.2363577 | Preprocessor1_Model1 |\n",
       "| rsq  | standard |   0.8534239 | Preprocessor1_Model1 |\n",
       "\n"
      ],
      "text/plain": [
       "  .metric .estimator .estimate   .config             \n",
       "1 rmse    standard   243.2363577 Preprocessor1_Model1\n",
       "2 rsq     standard     0.8534239 Preprocessor1_Model1"
      ]
     },
     "metadata": {},
     "output_type": "display_data"
    },
    {
     "data": {
      "text/html": [
       "<table class=\"dataframe\">\n",
       "<caption>A tibble: 6 × 5</caption>\n",
       "<thead>\n",
       "\t<tr><th scope=col>id</th><th scope=col>.pred</th><th scope=col>.row</th><th scope=col>RENTED_BIKE_COUNT</th><th scope=col>.config</th></tr>\n",
       "\t<tr><th scope=col>&lt;chr&gt;</th><th scope=col>&lt;dbl&gt;</th><th scope=col>&lt;int&gt;</th><th scope=col>&lt;dbl&gt;</th><th scope=col>&lt;chr&gt;</th></tr>\n",
       "</thead>\n",
       "<tbody>\n",
       "\t<tr><td>train/test split</td><td> 34.52178</td><td> 6</td><td>100</td><td>Preprocessor1_Model1</td></tr>\n",
       "\t<tr><td>train/test split</td><td>145.02060</td><td> 7</td><td>181</td><td>Preprocessor1_Model1</td></tr>\n",
       "\t<tr><td>train/test split</td><td>251.42612</td><td>12</td><td>360</td><td>Preprocessor1_Model1</td></tr>\n",
       "\t<tr><td>train/test split</td><td>211.79466</td><td>22</td><td>405</td><td>Preprocessor1_Model1</td></tr>\n",
       "\t<tr><td>train/test split</td><td>206.29025</td><td>25</td><td>328</td><td>Preprocessor1_Model1</td></tr>\n",
       "\t<tr><td>train/test split</td><td>384.48977</td><td>37</td><td>479</td><td>Preprocessor1_Model1</td></tr>\n",
       "</tbody>\n",
       "</table>\n"
      ],
      "text/latex": [
       "A tibble: 6 × 5\n",
       "\\begin{tabular}{lllll}\n",
       " id & .pred & .row & RENTED\\_BIKE\\_COUNT & .config\\\\\n",
       " <chr> & <dbl> & <int> & <dbl> & <chr>\\\\\n",
       "\\hline\n",
       "\t train/test split &  34.52178 &  6 & 100 & Preprocessor1\\_Model1\\\\\n",
       "\t train/test split & 145.02060 &  7 & 181 & Preprocessor1\\_Model1\\\\\n",
       "\t train/test split & 251.42612 & 12 & 360 & Preprocessor1\\_Model1\\\\\n",
       "\t train/test split & 211.79466 & 22 & 405 & Preprocessor1\\_Model1\\\\\n",
       "\t train/test split & 206.29025 & 25 & 328 & Preprocessor1\\_Model1\\\\\n",
       "\t train/test split & 384.48977 & 37 & 479 & Preprocessor1\\_Model1\\\\\n",
       "\\end{tabular}\n"
      ],
      "text/markdown": [
       "\n",
       "A tibble: 6 × 5\n",
       "\n",
       "| id &lt;chr&gt; | .pred &lt;dbl&gt; | .row &lt;int&gt; | RENTED_BIKE_COUNT &lt;dbl&gt; | .config &lt;chr&gt; |\n",
       "|---|---|---|---|---|\n",
       "| train/test split |  34.52178 |  6 | 100 | Preprocessor1_Model1 |\n",
       "| train/test split | 145.02060 |  7 | 181 | Preprocessor1_Model1 |\n",
       "| train/test split | 251.42612 | 12 | 360 | Preprocessor1_Model1 |\n",
       "| train/test split | 211.79466 | 22 | 405 | Preprocessor1_Model1 |\n",
       "| train/test split | 206.29025 | 25 | 328 | Preprocessor1_Model1 |\n",
       "| train/test split | 384.48977 | 37 | 479 | Preprocessor1_Model1 |\n",
       "\n"
      ],
      "text/plain": [
       "  id               .pred     .row RENTED_BIKE_COUNT .config             \n",
       "1 train/test split  34.52178  6   100               Preprocessor1_Model1\n",
       "2 train/test split 145.02060  7   181               Preprocessor1_Model1\n",
       "3 train/test split 251.42612 12   360               Preprocessor1_Model1\n",
       "4 train/test split 211.79466 22   405               Preprocessor1_Model1\n",
       "5 train/test split 206.29025 25   328               Preprocessor1_Model1\n",
       "6 train/test split 384.48977 37   479               Preprocessor1_Model1"
      ]
     },
     "metadata": {},
     "output_type": "display_data"
    }
   ],
   "source": [
    "best_spec <- linear_reg(penalty = 10, mixture = 0.2) %>% set_engine(\"glmnet\") %>% set_mode(\"regression\")\n",
    "\n",
    "last_model <- last_fit(best_spec,\n",
    "                      preprocessor = bike_poly_recipe,\n",
    "                      split = data_split)\n",
    "\n",
    "best_metric <- last_model %>% collect_metrics()\n",
    "print(\"====================BEST METRICS FROM last_fit() REFINEMENT BEST TUNING PARAMETERS========================\")\n",
    "best_metric\n",
    "\n",
    "last_model_pred <- last_model %>% collect_predictions()\n",
    "#Check for negative predictions\n",
    "#count(last_model_pred)\n",
    "#last_model_pred$.pred[last_model_pred$.pred<0] <- 0\n",
    "#count(last_model_pred )\n",
    "head(last_model_pred)"
   ]
  },
  {
   "cell_type": "code",
   "execution_count": 34,
   "metadata": {},
   "outputs": [
    {
     "data": {
      "image/png": "[encoded data removed]",
      "text/plain": [
       "plot without title"
      ]
     },
     "metadata": {
      "image/png": {
       "height": 420,
       "width": 420
      }
     },
     "output_type": "display_data"
    }
   ],
   "source": [
    "bike_pred_plot <- last_model_pred %>% filter(!.pred < 0) %>%\n",
    "                                            ggplot() +\n",
    "                                             stat_qq(aes(sample=RENTED_BIKE_COUNT), color='green') +\n",
    "                                             stat_qq(aes(sample=.pred), color='red')\n",
    "bike_pred_plot"
   ]
  },
  {
   "cell_type": "markdown",
   "metadata": {},
   "source": [
    "One example of such Q-Q plot may look like this:\n"
   ]
  },
  {
   "cell_type": "markdown",
   "metadata": {},
   "source": [
    "<a href=\"https://cognitiveclass.ai/?utm_medium=Exinfluencer&utm_source=Exinfluencer&utm_content=000026UJ&utm_term=10006555&utm_id=NA-SkillsNetwork-Channel-SkillsNetworkCoursesIBMDeveloperSkillsNetworkRP0321ENSkillsNetwork25371262-2021-01-01\">\n",
    "    <img src=\"https://cf-courses-data.s3.us.cloud-object-storage.appdomain.cloud/IBMDeveloperSkillsNetwork-RP0321EN-SkillsNetwork/labs/module_4/images/example_qq_plot.png\" width=\"600\" align=\"center\">\n",
    "</a>\n"
   ]
  },
  {
   "cell_type": "markdown",
   "metadata": {},
   "source": [
    "# More model improvment methods beyond this course\n"
   ]
  },
  {
   "cell_type": "markdown",
   "metadata": {},
   "source": [
    "In addition to the methods mentioned in this lab and previous data analysis courses, you could also explore to try the following methods yourself to see if they could improve model performance:\n",
    "\n",
    "*   Remove potential redundant variables. If two variables have extremly high correlated, it is possible that they are redundant and could be removed from the model to improve the performance.\n",
    "*   Remove some outliers. Linear regression models are very sensitive to outliers, you could try to remove some outliers to see if it would improve performance\n",
    "*   Apply logarithm transformation. In case variable distributions are not normal distribution such as log-normal distribution, you could apply logaritm transformation on the variable to make them more look like normal distribution. In addition, logarithm transformation helps capture the non-linear relationships.\n",
    "\n",
    "If you have time, you could research and try more methods by searching related research papers/articles, discussion forums, etc. If you know how to use other machine learning models with `Tidymodels` such as Neural Networks, Tree models, or Boosting models, you can also try and compare them with the linear regression models.\n"
   ]
  },
  {
   "cell_type": "markdown",
   "metadata": {},
   "source": [
    "# Next Steps:\n"
   ]
  },
  {
   "cell_type": "markdown",
   "metadata": {},
   "source": [
    "Great! You have improved your baseline model using polynomial terms, interaction terms, and regularizations, and have found your best model.\n",
    "\n",
    "Now it's time to build an interactive dashboard to provide more interactive user-interactions.\n"
   ]
  },
  {
   "cell_type": "markdown",
   "metadata": {},
   "source": [
    "## Authors\n",
    "\n",
    "<a href=\"https://www.linkedin.com/in/yan-luo-96288783/?utm_medium=Exinfluencer&utm_source=Exinfluencer&utm_content=000026UJ&utm_term=10006555&utm_id=NA-SkillsNetwork-Channel-SkillsNetworkCoursesIBMDeveloperSkillsNetworkRP0321ENSkillsNetwork25371262-2021-01-01\" target=\"_blank\">Yan Luo</a>\n"
   ]
  },
  {
   "cell_type": "markdown",
   "metadata": {},
   "source": [
    "### Other Contributors\n",
    "\n",
    "Jeff Grossman\n"
   ]
  },
  {
   "cell_type": "markdown",
   "metadata": {
    "jp-MarkdownHeadingCollapsed": true,
    "tags": []
   },
   "source": [
    "## Change Log\n",
    "\n",
    "| Date (YYYY-MM-DD) | Version | Changed By | Change Description      |\n",
    "| ----------------- | ------- | ---------- | ----------------------- |\n",
    "| 2021-04-08        | 1.0     | Yan        | Initial version created |\n",
    "|                   |         |            |                         |\n",
    "|                   |         |            |                         |\n",
    "\n",
    "## <h3 align=\"center\"> © IBM Corporation 2021. All rights reserved. <h3/>\n"
   ]
  },
  {
   "cell_type": "code",
   "execution_count": null,
   "metadata": {},
   "outputs": [],
   "source": []
  }
 ],
 "metadata": {
  "kernelspec": {
   "display_name": "R 4.1.2",
   "language": "R",
   "name": "r412"
  },
  "language_info": {
   "codemirror_mode": "r",
   "file_extension": ".r",
   "mimetype": "text/x-r-source",
   "name": "R",
   "pygments_lexer": "r",
   "version": "4.1.2"
  }
 },
 "nbformat": 4,
 "nbformat_minor": 4
}
