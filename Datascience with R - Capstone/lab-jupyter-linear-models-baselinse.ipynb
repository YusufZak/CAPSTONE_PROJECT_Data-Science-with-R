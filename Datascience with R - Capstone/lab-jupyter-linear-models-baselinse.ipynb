{
 "cells": [
  {
   "cell_type": "markdown",
   "metadata": {},
   "source": [
    "<a href=\"https://cognitiveclass.ai/?utm_medium=Exinfluencer&utm_source=Exinfluencer&utm_content=000026UJ&utm_term=10006555&utm_id=NA-SkillsNetwork-Channel-SkillsNetworkCoursesIBMDeveloperSkillsNetworkRP0321ENSkillsNetwork25371262-2021-01-01\">\n",
    "    <img src=\"https://cf-courses-data.s3.us.cloud-object-storage.appdomain.cloud/IBMDeveloperSkillsNetwork-RP0101EN-Coursera/v2/M1_R_Basics/images/IDSNlogo.png\" width=\"200\" align=\"center\">\n",
    "</a>\n"
   ]
  },
  {
   "cell_type": "markdown",
   "metadata": {},
   "source": [
    "<h1>Predict Hourly Rented Bike Count using Basic Linear Regression Models</h1>\n",
    "\n",
    "Estimated time needed: **90** minutes\n"
   ]
  },
  {
   "cell_type": "markdown",
   "metadata": {},
   "source": [
    "## Lab Overview:\n",
    "\n",
    "Now that you have performed exploratory analysis on the bike sharing demand dataset and obtained some insights on the attributes, it's time to build predictive models to predict the hourly rented bike count using related weather and date information.\n",
    "\n",
    "In this lab, you will be asked to use `tidymodels` to build some baseline linear regression models:\n",
    "\n",
    "*   **TASK: Split data into training and testing datasets**\n",
    "*   **TASK: Build a linear regression model using only the weather variables**\n",
    "*   **TASK: Build a linear regression model using both weather and date variables**\n",
    "*   **TASK: Evaluate the models and identify important variables**\n",
    "\n",
    "Let's start!\n"
   ]
  },
  {
   "cell_type": "markdown",
   "metadata": {},
   "source": [
    "First install and import the necessary libraries\n"
   ]
  },
  {
   "cell_type": "code",
   "execution_count": null,
   "metadata": {},
   "outputs": [],
   "source": [
    "# It may take several minutes to install those libraries in Watson Studio\n",
    "# install.packages(\"rlang\")\n",
    "# install.packages(\"tidymodels\")"
   ]
  },
  {
   "cell_type": "code",
   "execution_count": 1,
   "metadata": {},
   "outputs": [
    {
     "name": "stderr",
     "output_type": "stream",
     "text": [
      "Registered S3 method overwritten by 'tune':\n",
      "  method                   from   \n",
      "  required_pkgs.model_spec parsnip\n",
      "\n",
      "-- \u001b[1mAttaching packages\u001b[22m ------------------------------------------------------------------------------ tidymodels 0.1.4 --\n",
      "\n",
      "\u001b[32mv\u001b[39m \u001b[34mbroom       \u001b[39m 0.7.11     \u001b[32mv\u001b[39m \u001b[34mrecipes     \u001b[39m 0.1.17\n",
      "\u001b[32mv\u001b[39m \u001b[34mdials       \u001b[39m 0.0.10     \u001b[32mv\u001b[39m \u001b[34mrsample     \u001b[39m 0.1.1 \n",
      "\u001b[32mv\u001b[39m \u001b[34mdplyr       \u001b[39m 1.0.7      \u001b[32mv\u001b[39m \u001b[34mtibble      \u001b[39m 3.1.6 \n",
      "\u001b[32mv\u001b[39m \u001b[34mggplot2     \u001b[39m 3.3.5      \u001b[32mv\u001b[39m \u001b[34mtidyr       \u001b[39m 1.1.4 \n",
      "\u001b[32mv\u001b[39m \u001b[34minfer       \u001b[39m 1.0.0      \u001b[32mv\u001b[39m \u001b[34mtune        \u001b[39m 0.1.6 \n",
      "\u001b[32mv\u001b[39m \u001b[34mmodeldata   \u001b[39m 0.1.1      \u001b[32mv\u001b[39m \u001b[34mworkflows   \u001b[39m 0.2.4 \n",
      "\u001b[32mv\u001b[39m \u001b[34mparsnip     \u001b[39m 0.1.7      \u001b[32mv\u001b[39m \u001b[34mworkflowsets\u001b[39m 0.1.0 \n",
      "\u001b[32mv\u001b[39m \u001b[34mpurrr       \u001b[39m 0.3.4      \u001b[32mv\u001b[39m \u001b[34myardstick   \u001b[39m 0.0.9 \n",
      "\n",
      "-- \u001b[1mConflicts\u001b[22m --------------------------------------------------------------------------------- tidymodels_conflicts() --\n",
      "\u001b[31mx\u001b[39m \u001b[34mpurrr\u001b[39m::\u001b[32mdiscard()\u001b[39m masks \u001b[34mscales\u001b[39m::discard()\n",
      "\u001b[31mx\u001b[39m \u001b[34mdplyr\u001b[39m::\u001b[32mfilter()\u001b[39m  masks \u001b[34mstats\u001b[39m::filter()\n",
      "\u001b[31mx\u001b[39m \u001b[34mdplyr\u001b[39m::\u001b[32mlag()\u001b[39m     masks \u001b[34mstats\u001b[39m::lag()\n",
      "\u001b[31mx\u001b[39m \u001b[34mrecipes\u001b[39m::\u001b[32mstep()\u001b[39m  masks \u001b[34mstats\u001b[39m::step()\n",
      "\u001b[34m*\u001b[39m Use suppressPackageStartupMessages() to eliminate package startup messages\n",
      "\n",
      "-- \u001b[1mAttaching packages\u001b[22m ------------------------------------------------------------------------------- tidyverse 1.3.1 --\n",
      "\n",
      "\u001b[32mv\u001b[39m \u001b[34mreadr  \u001b[39m 2.1.1     \u001b[32mv\u001b[39m \u001b[34mforcats\u001b[39m 0.5.1\n",
      "\u001b[32mv\u001b[39m \u001b[34mstringr\u001b[39m 1.4.0     \n",
      "\n",
      "-- \u001b[1mConflicts\u001b[22m ---------------------------------------------------------------------------------- tidyverse_conflicts() --\n",
      "\u001b[31mx\u001b[39m \u001b[34mreadr\u001b[39m::\u001b[32mcol_factor()\u001b[39m masks \u001b[34mscales\u001b[39m::col_factor()\n",
      "\u001b[31mx\u001b[39m \u001b[34mpurrr\u001b[39m::\u001b[32mdiscard()\u001b[39m    masks \u001b[34mscales\u001b[39m::discard()\n",
      "\u001b[31mx\u001b[39m \u001b[34mdplyr\u001b[39m::\u001b[32mfilter()\u001b[39m     masks \u001b[34mstats\u001b[39m::filter()\n",
      "\u001b[31mx\u001b[39m \u001b[34mstringr\u001b[39m::\u001b[32mfixed()\u001b[39m    masks \u001b[34mrecipes\u001b[39m::fixed()\n",
      "\u001b[31mx\u001b[39m \u001b[34mdplyr\u001b[39m::\u001b[32mlag()\u001b[39m        masks \u001b[34mstats\u001b[39m::lag()\n",
      "\u001b[31mx\u001b[39m \u001b[34mreadr\u001b[39m::\u001b[32mspec()\u001b[39m       masks \u001b[34myardstick\u001b[39m::spec()\n",
      "\n"
     ]
    }
   ],
   "source": [
    "library(\"tidymodels\")\n",
    "library(\"tidyverse\")\n",
    "library(\"stringr\")"
   ]
  },
  {
   "cell_type": "markdown",
   "metadata": {},
   "source": [
    "The `seoul_bike_sharing_converted_normalized.csv` will be our main dataset which has following variables:\n",
    "\n",
    "The response variable:\n",
    "\n",
    "*   `RENTED BIKE COUNT`- Count of bikes rented at each hour\n",
    "\n",
    "Weather predictor variables:\n",
    "\n",
    "*   `TEMPERATURE` - Temperature in Celsius\n",
    "*   `HUMIDITY` - Unit is `%`\n",
    "*   `WIND_SPEED` - Unit is `m/s`\n",
    "*   `VISIBILITY` - Multiplied by 10m\n",
    "*   `DEW_POINT_TEMPERATURE` - The temperature to which the air would have to cool down in order to reach saturation, unit is Celsius\n",
    "*   `SOLAR_RADIATION` - MJ/m2\n",
    "*   `RAINFALL` - mm\n",
    "*   `SNOWFALL` - cm\n",
    "\n",
    "Date/time predictor variables:\n",
    "\n",
    "*   `DATE` - Year-month-day\n",
    "*   `HOUR`- Hour of he day\n",
    "*   `FUNCTIONAL DAY` - NoFunc(Non Functional Hours), Fun(Functional hours)\n",
    "*   `HOLIDAY` - Holiday/No holiday\n",
    "*   `SEASONS` - Winter, Spring, Summer, Autumn\n"
   ]
  },
  {
   "cell_type": "markdown",
   "metadata": {},
   "source": [
    "Let's read the dataset as a dataframe first:\n"
   ]
  },
  {
   "cell_type": "code",
   "execution_count": 2,
   "metadata": {},
   "outputs": [
    {
     "name": "stderr",
     "output_type": "stream",
     "text": [
      "\u001b[1mRows: \u001b[22m\u001b[34m8465\u001b[39m \u001b[1mColumns: \u001b[22m\u001b[34m41\u001b[39m\n",
      "\n",
      "\u001b[36m--\u001b[39m \u001b[1mColumn specification\u001b[22m \u001b[36m------------------------------------------------------------------------------------------------\u001b[39m\n",
      "\u001b[1mDelimiter:\u001b[22m \",\"\n",
      "\u001b[31mchr\u001b[39m  (2): DATE, FUNCTIONING_DAY\n",
      "\u001b[32mdbl\u001b[39m (39): RENTED_BIKE_COUNT, TEMPERATURE, HUMIDITY, WIND_SPEED, VISIBILITY, ...\n",
      "\n",
      "\n",
      "\u001b[36mi\u001b[39m Use \u001b[30m\u001b[47m\u001b[30m\u001b[47m`spec()`\u001b[47m\u001b[30m\u001b[49m\u001b[39m to retrieve the full column specification for this data.\n",
      "\u001b[36mi\u001b[39m Specify the column types or set \u001b[30m\u001b[47m\u001b[30m\u001b[47m`show_col_types = FALSE`\u001b[47m\u001b[30m\u001b[49m\u001b[39m to quiet this message.\n",
      "\n"
     ]
    },
    {
     "data": {
      "text/plain": [
       "cols(\n",
       "  DATE = \u001b[31mcol_character()\u001b[39m,\n",
       "  RENTED_BIKE_COUNT = \u001b[32mcol_double()\u001b[39m,\n",
       "  TEMPERATURE = \u001b[32mcol_double()\u001b[39m,\n",
       "  HUMIDITY = \u001b[32mcol_double()\u001b[39m,\n",
       "  WIND_SPEED = \u001b[32mcol_double()\u001b[39m,\n",
       "  VISIBILITY = \u001b[32mcol_double()\u001b[39m,\n",
       "  DEW_POINT_TEMPERATURE = \u001b[32mcol_double()\u001b[39m,\n",
       "  SOLAR_RADIATION = \u001b[32mcol_double()\u001b[39m,\n",
       "  RAINFALL = \u001b[32mcol_double()\u001b[39m,\n",
       "  SNOWFALL = \u001b[32mcol_double()\u001b[39m,\n",
       "  FUNCTIONING_DAY = \u001b[31mcol_character()\u001b[39m,\n",
       "  `0` = \u001b[32mcol_double()\u001b[39m,\n",
       "  `1` = \u001b[32mcol_double()\u001b[39m,\n",
       "  `10` = \u001b[32mcol_double()\u001b[39m,\n",
       "  `11` = \u001b[32mcol_double()\u001b[39m,\n",
       "  `12` = \u001b[32mcol_double()\u001b[39m,\n",
       "  `13` = \u001b[32mcol_double()\u001b[39m,\n",
       "  `14` = \u001b[32mcol_double()\u001b[39m,\n",
       "  `15` = \u001b[32mcol_double()\u001b[39m,\n",
       "  `16` = \u001b[32mcol_double()\u001b[39m,\n",
       "  `17` = \u001b[32mcol_double()\u001b[39m,\n",
       "  `18` = \u001b[32mcol_double()\u001b[39m,\n",
       "  `19` = \u001b[32mcol_double()\u001b[39m,\n",
       "  `2` = \u001b[32mcol_double()\u001b[39m,\n",
       "  `20` = \u001b[32mcol_double()\u001b[39m,\n",
       "  `21` = \u001b[32mcol_double()\u001b[39m,\n",
       "  `22` = \u001b[32mcol_double()\u001b[39m,\n",
       "  `23` = \u001b[32mcol_double()\u001b[39m,\n",
       "  `3` = \u001b[32mcol_double()\u001b[39m,\n",
       "  `4` = \u001b[32mcol_double()\u001b[39m,\n",
       "  `5` = \u001b[32mcol_double()\u001b[39m,\n",
       "  `6` = \u001b[32mcol_double()\u001b[39m,\n",
       "  `7` = \u001b[32mcol_double()\u001b[39m,\n",
       "  `8` = \u001b[32mcol_double()\u001b[39m,\n",
       "  `9` = \u001b[32mcol_double()\u001b[39m,\n",
       "  AUTUMN = \u001b[32mcol_double()\u001b[39m,\n",
       "  SPRING = \u001b[32mcol_double()\u001b[39m,\n",
       "  SUMMER = \u001b[32mcol_double()\u001b[39m,\n",
       "  WINTER = \u001b[32mcol_double()\u001b[39m,\n",
       "  HOLIDAY = \u001b[32mcol_double()\u001b[39m,\n",
       "  NO_HOLIDAY = \u001b[32mcol_double()\u001b[39m\n",
       ")"
      ]
     },
     "metadata": {},
     "output_type": "display_data"
    },
    {
     "data": {
      "text/html": [
       "<table class=\"dataframe\">\n",
       "<caption>A tibble: 6 × 41</caption>\n",
       "<thead>\n",
       "\t<tr><th scope=col>DATE</th><th scope=col>RENTED_BIKE_COUNT</th><th scope=col>TEMPERATURE</th><th scope=col>HUMIDITY</th><th scope=col>WIND_SPEED</th><th scope=col>VISIBILITY</th><th scope=col>DEW_POINT_TEMPERATURE</th><th scope=col>SOLAR_RADIATION</th><th scope=col>RAINFALL</th><th scope=col>SNOWFALL</th><th scope=col>...</th><th scope=col>6</th><th scope=col>7</th><th scope=col>8</th><th scope=col>9</th><th scope=col>AUTUMN</th><th scope=col>SPRING</th><th scope=col>SUMMER</th><th scope=col>WINTER</th><th scope=col>HOLIDAY</th><th scope=col>NO_HOLIDAY</th></tr>\n",
       "\t<tr><th scope=col>&lt;chr&gt;</th><th scope=col>&lt;dbl&gt;</th><th scope=col>&lt;dbl&gt;</th><th scope=col>&lt;dbl&gt;</th><th scope=col>&lt;dbl&gt;</th><th scope=col>&lt;dbl&gt;</th><th scope=col>&lt;dbl&gt;</th><th scope=col>&lt;dbl&gt;</th><th scope=col>&lt;dbl&gt;</th><th scope=col>&lt;dbl&gt;</th><th scope=col>...</th><th scope=col>&lt;dbl&gt;</th><th scope=col>&lt;dbl&gt;</th><th scope=col>&lt;dbl&gt;</th><th scope=col>&lt;dbl&gt;</th><th scope=col>&lt;dbl&gt;</th><th scope=col>&lt;dbl&gt;</th><th scope=col>&lt;dbl&gt;</th><th scope=col>&lt;dbl&gt;</th><th scope=col>&lt;dbl&gt;</th><th scope=col>&lt;dbl&gt;</th></tr>\n",
       "</thead>\n",
       "<tbody>\n",
       "\t<tr><td>01/12/2017</td><td>254</td><td>0.2202797</td><td>0.3775510</td><td>0.2972973</td><td>1</td><td>0.2249135</td><td>0</td><td>0</td><td>0</td><td>...</td><td>0</td><td>0</td><td>0</td><td>0</td><td>0</td><td>0</td><td>0</td><td>1</td><td>0</td><td>1</td></tr>\n",
       "\t<tr><td>01/12/2017</td><td>204</td><td>0.2150350</td><td>0.3877551</td><td>0.1081081</td><td>1</td><td>0.2249135</td><td>0</td><td>0</td><td>0</td><td>...</td><td>0</td><td>0</td><td>0</td><td>0</td><td>0</td><td>0</td><td>0</td><td>1</td><td>0</td><td>1</td></tr>\n",
       "\t<tr><td>01/12/2017</td><td>173</td><td>0.2062937</td><td>0.3979592</td><td>0.1351351</td><td>1</td><td>0.2231834</td><td>0</td><td>0</td><td>0</td><td>...</td><td>0</td><td>0</td><td>0</td><td>0</td><td>0</td><td>0</td><td>0</td><td>1</td><td>0</td><td>1</td></tr>\n",
       "\t<tr><td>01/12/2017</td><td>107</td><td>0.2027972</td><td>0.4081633</td><td>0.1216216</td><td>1</td><td>0.2249135</td><td>0</td><td>0</td><td>0</td><td>...</td><td>0</td><td>0</td><td>0</td><td>0</td><td>0</td><td>0</td><td>0</td><td>1</td><td>0</td><td>1</td></tr>\n",
       "\t<tr><td>01/12/2017</td><td> 78</td><td>0.2062937</td><td>0.3673469</td><td>0.3108108</td><td>1</td><td>0.2076125</td><td>0</td><td>0</td><td>0</td><td>...</td><td>0</td><td>0</td><td>0</td><td>0</td><td>0</td><td>0</td><td>0</td><td>1</td><td>0</td><td>1</td></tr>\n",
       "\t<tr><td>01/12/2017</td><td>100</td><td>0.1993007</td><td>0.3775510</td><td>0.2027027</td><td>1</td><td>0.2058824</td><td>0</td><td>0</td><td>0</td><td>...</td><td>0</td><td>0</td><td>0</td><td>0</td><td>0</td><td>0</td><td>0</td><td>1</td><td>0</td><td>1</td></tr>\n",
       "</tbody>\n",
       "</table>\n"
      ],
      "text/latex": [
       "A tibble: 6 × 41\n",
       "\\begin{tabular}{lllllllllllllllllllll}\n",
       " DATE & RENTED\\_BIKE\\_COUNT & TEMPERATURE & HUMIDITY & WIND\\_SPEED & VISIBILITY & DEW\\_POINT\\_TEMPERATURE & SOLAR\\_RADIATION & RAINFALL & SNOWFALL & ... & 6 & 7 & 8 & 9 & AUTUMN & SPRING & SUMMER & WINTER & HOLIDAY & NO\\_HOLIDAY\\\\\n",
       " <chr> & <dbl> & <dbl> & <dbl> & <dbl> & <dbl> & <dbl> & <dbl> & <dbl> & <dbl> & ... & <dbl> & <dbl> & <dbl> & <dbl> & <dbl> & <dbl> & <dbl> & <dbl> & <dbl> & <dbl>\\\\\n",
       "\\hline\n",
       "\t 01/12/2017 & 254 & 0.2202797 & 0.3775510 & 0.2972973 & 1 & 0.2249135 & 0 & 0 & 0 & ... & 0 & 0 & 0 & 0 & 0 & 0 & 0 & 1 & 0 & 1\\\\\n",
       "\t 01/12/2017 & 204 & 0.2150350 & 0.3877551 & 0.1081081 & 1 & 0.2249135 & 0 & 0 & 0 & ... & 0 & 0 & 0 & 0 & 0 & 0 & 0 & 1 & 0 & 1\\\\\n",
       "\t 01/12/2017 & 173 & 0.2062937 & 0.3979592 & 0.1351351 & 1 & 0.2231834 & 0 & 0 & 0 & ... & 0 & 0 & 0 & 0 & 0 & 0 & 0 & 1 & 0 & 1\\\\\n",
       "\t 01/12/2017 & 107 & 0.2027972 & 0.4081633 & 0.1216216 & 1 & 0.2249135 & 0 & 0 & 0 & ... & 0 & 0 & 0 & 0 & 0 & 0 & 0 & 1 & 0 & 1\\\\\n",
       "\t 01/12/2017 &  78 & 0.2062937 & 0.3673469 & 0.3108108 & 1 & 0.2076125 & 0 & 0 & 0 & ... & 0 & 0 & 0 & 0 & 0 & 0 & 0 & 1 & 0 & 1\\\\\n",
       "\t 01/12/2017 & 100 & 0.1993007 & 0.3775510 & 0.2027027 & 1 & 0.2058824 & 0 & 0 & 0 & ... & 0 & 0 & 0 & 0 & 0 & 0 & 0 & 1 & 0 & 1\\\\\n",
       "\\end{tabular}\n"
      ],
      "text/markdown": [
       "\n",
       "A tibble: 6 × 41\n",
       "\n",
       "| DATE &lt;chr&gt; | RENTED_BIKE_COUNT &lt;dbl&gt; | TEMPERATURE &lt;dbl&gt; | HUMIDITY &lt;dbl&gt; | WIND_SPEED &lt;dbl&gt; | VISIBILITY &lt;dbl&gt; | DEW_POINT_TEMPERATURE &lt;dbl&gt; | SOLAR_RADIATION &lt;dbl&gt; | RAINFALL &lt;dbl&gt; | SNOWFALL &lt;dbl&gt; | ... ... | 6 &lt;dbl&gt; | 7 &lt;dbl&gt; | 8 &lt;dbl&gt; | 9 &lt;dbl&gt; | AUTUMN &lt;dbl&gt; | SPRING &lt;dbl&gt; | SUMMER &lt;dbl&gt; | WINTER &lt;dbl&gt; | HOLIDAY &lt;dbl&gt; | NO_HOLIDAY &lt;dbl&gt; |\n",
       "|---|---|---|---|---|---|---|---|---|---|---|---|---|---|---|---|---|---|---|---|---|\n",
       "| 01/12/2017 | 254 | 0.2202797 | 0.3775510 | 0.2972973 | 1 | 0.2249135 | 0 | 0 | 0 | ... | 0 | 0 | 0 | 0 | 0 | 0 | 0 | 1 | 0 | 1 |\n",
       "| 01/12/2017 | 204 | 0.2150350 | 0.3877551 | 0.1081081 | 1 | 0.2249135 | 0 | 0 | 0 | ... | 0 | 0 | 0 | 0 | 0 | 0 | 0 | 1 | 0 | 1 |\n",
       "| 01/12/2017 | 173 | 0.2062937 | 0.3979592 | 0.1351351 | 1 | 0.2231834 | 0 | 0 | 0 | ... | 0 | 0 | 0 | 0 | 0 | 0 | 0 | 1 | 0 | 1 |\n",
       "| 01/12/2017 | 107 | 0.2027972 | 0.4081633 | 0.1216216 | 1 | 0.2249135 | 0 | 0 | 0 | ... | 0 | 0 | 0 | 0 | 0 | 0 | 0 | 1 | 0 | 1 |\n",
       "| 01/12/2017 |  78 | 0.2062937 | 0.3673469 | 0.3108108 | 1 | 0.2076125 | 0 | 0 | 0 | ... | 0 | 0 | 0 | 0 | 0 | 0 | 0 | 1 | 0 | 1 |\n",
       "| 01/12/2017 | 100 | 0.1993007 | 0.3775510 | 0.2027027 | 1 | 0.2058824 | 0 | 0 | 0 | ... | 0 | 0 | 0 | 0 | 0 | 0 | 0 | 1 | 0 | 1 |\n",
       "\n"
      ],
      "text/plain": [
       "  DATE       RENTED_BIKE_COUNT TEMPERATURE HUMIDITY  WIND_SPEED VISIBILITY\n",
       "1 01/12/2017 254               0.2202797   0.3775510 0.2972973  1         \n",
       "2 01/12/2017 204               0.2150350   0.3877551 0.1081081  1         \n",
       "3 01/12/2017 173               0.2062937   0.3979592 0.1351351  1         \n",
       "4 01/12/2017 107               0.2027972   0.4081633 0.1216216  1         \n",
       "5 01/12/2017  78               0.2062937   0.3673469 0.3108108  1         \n",
       "6 01/12/2017 100               0.1993007   0.3775510 0.2027027  1         \n",
       "  DEW_POINT_TEMPERATURE SOLAR_RADIATION RAINFALL SNOWFALL ... 6 7 8 9 AUTUMN\n",
       "1 0.2249135             0               0        0        ... 0 0 0 0 0     \n",
       "2 0.2249135             0               0        0        ... 0 0 0 0 0     \n",
       "3 0.2231834             0               0        0        ... 0 0 0 0 0     \n",
       "4 0.2249135             0               0        0        ... 0 0 0 0 0     \n",
       "5 0.2076125             0               0        0        ... 0 0 0 0 0     \n",
       "6 0.2058824             0               0        0        ... 0 0 0 0 0     \n",
       "  SPRING SUMMER WINTER HOLIDAY NO_HOLIDAY\n",
       "1 0      0      1      0       1         \n",
       "2 0      0      1      0       1         \n",
       "3 0      0      1      0       1         \n",
       "4 0      0      1      0       1         \n",
       "5 0      0      1      0       1         \n",
       "6 0      0      1      0       1         "
      ]
     },
     "metadata": {},
     "output_type": "display_data"
    }
   ],
   "source": [
    "# Dataset URL\n",
    "dataset_url <- \"https://cf-courses-data.s3.us.cloud-object-storage.appdomain.cloud/IBMDeveloperSkillsNetwork-RP0321EN-SkillsNetwork/labs/datasets/seoul_bike_sharing_converted_normalized.csv\"\n",
    "bike_sharing_df <- read_csv(dataset_url)\n",
    "spec(bike_sharing_df)\n",
    "head(bike_sharing_df)"
   ]
  },
  {
   "cell_type": "markdown",
   "metadata": {},
   "source": [
    "We won't be using the `DATE` column, because 'as is', it basically acts like an data entry index. (However, given more time, we could use the `DATE` colum to create a 'day of week' or 'isWeekend' column, which we might expect has an affect on preferred bike rental times.) We also do not need the `FUNCTIONAL DAY` column because it only has one distinct value remaining (`YES`) after missing value processing.\n"
   ]
  },
  {
   "cell_type": "code",
   "execution_count": 3,
   "metadata": {},
   "outputs": [],
   "source": [
    "bike_sharing_df <- bike_sharing_df %>% \n",
    "                   select(-DATE, -FUNCTIONING_DAY)"
   ]
  },
  {
   "cell_type": "markdown",
   "metadata": {},
   "source": [
    "# TASK: Split training and testing data\n"
   ]
  },
  {
   "cell_type": "markdown",
   "metadata": {},
   "source": [
    "First, we need to split the full dataset into training and testing datasets.\n",
    "\n",
    "The training dataset will be used for fitting regression models, and the testing dataset will be used to evaluate the trained models.\n"
   ]
  },
  {
   "cell_type": "markdown",
   "metadata": {},
   "source": [
    "*TODO:* Use the `initial_split()`, `training()`, and `testing()` functions to generate a training dataset consisting of 75% of the original dataset, and a testing dataset using the remaining 25%.\n"
   ]
  },
  {
   "cell_type": "code",
   "execution_count": 4,
   "metadata": {},
   "outputs": [],
   "source": [
    "# Use the `initial_split()`, `training()`, and `testing()` functions to split the dataset\n",
    "# With seed 1234\n",
    "set.seed(1234)\n",
    "# prop = 3/4\n",
    "split <- bike_sharing_df %>% initial_split(prop = 3/4)\n",
    "# train_data\n",
    "train_data <- training(split)\n",
    "# test_data\n",
    "test_data <- testing(split)"
   ]
  },
  {
   "cell_type": "markdown",
   "metadata": {},
   "source": [
    "# TASK: Build a linear regression model using weather variables only\n"
   ]
  },
  {
   "cell_type": "markdown",
   "metadata": {},
   "source": [
    "As you could imagine, weather conditions may affect people's bike renting decisions. For example, on a cold and rainy day, you may choose alternate transportation such as a bus or taxi.  While on a nice sunny day, you may want to rent a bike for a short-distance travel.\n"
   ]
  },
  {
   "cell_type": "markdown",
   "metadata": {},
   "source": [
    "Thus, can we predict a city's bike-sharing demand based on its local weather information? Let's try to build a regression model to do that.\n"
   ]
  },
  {
   "cell_type": "markdown",
   "metadata": {},
   "source": [
    "*TODO:* Build a linear regression model called `lm_model_weather` using the following variables:\n",
    "\n",
    "*   `TEMPERATURE` - Temperature in Celsius\n",
    "*   `HUMIDITY` - Unit is `%`\n",
    "*   `WIND_SPEED` - Unit is `m/s`\n",
    "*   `VISIBILITY` - Multiplied by 10m\n",
    "*   `DEW_POINT_TEMPERATURE` - The temperature to which the air would have to cool down in order to reach saturation, unit is Celsius\n",
    "*   `SOLAR_RADIATION` - MJ/m2\n",
    "*   `RAINFALL` - mm\n",
    "*   `SNOWFALL` - cm\n"
   ]
  },
  {
   "cell_type": "markdown",
   "metadata": {},
   "source": [
    "Define a linear regression model specification.\n"
   ]
  },
  {
   "cell_type": "code",
   "execution_count": 5,
   "metadata": {},
   "outputs": [],
   "source": [
    "# Use `linear_reg()` with engine `lm` and mode `regression`\n",
    "lm_spec <- linear_reg() %>% set_engine(\"lm\") %>% set_mode(\"regression\")"
   ]
  },
  {
   "cell_type": "markdown",
   "metadata": {},
   "source": [
    "Fit a model with the response variable `RENTED_BIKE_COUNT` and predictor variables `TEMPERATURE + HUMIDITY + WIND_SPEED + VISIBILITY + DEW_POINT_TEMPERATURE + SOLAR_RADIATION + RAINFALL + SNOWFALL`\n"
   ]
  },
  {
   "cell_type": "code",
   "execution_count": 6,
   "metadata": {},
   "outputs": [],
   "source": [
    "# Fit the model called `lm_model_weather`\n",
    "# RENTED_BIKE_COUNT ~ TEMPERATURE + HUMIDITY + WIND_SPEED + VISIBILITY + DEW_POINT_TEMPERATURE + SOLAR_RADIATION + RAINFALL + SNOWFALL,  with the training data\n",
    "lm_model_weather <- fit(lm_spec, RENTED_BIKE_COUNT ~ TEMPERATURE + HUMIDITY + WIND_SPEED +\n",
    "                        VISIBILITY + DEW_POINT_TEMPERATURE + SOLAR_RADIATION + RAINFALL + SNOWFALL, data = train_data)"
   ]
  },
  {
   "cell_type": "markdown",
   "metadata": {},
   "source": [
    "Print the fit summary for the `lm_model_weather` model.\n"
   ]
  },
  {
   "cell_type": "code",
   "execution_count": 7,
   "metadata": {},
   "outputs": [
    {
     "name": "stdout",
     "output_type": "stream",
     "text": [
      "\n",
      "Call:\n",
      "stats::lm(formula = RENTED_BIKE_COUNT ~ TEMPERATURE + HUMIDITY + \n",
      "    WIND_SPEED + VISIBILITY + DEW_POINT_TEMPERATURE + SOLAR_RADIATION + \n",
      "    RAINFALL + SNOWFALL, data = data)\n",
      "\n",
      "Coefficients:\n",
      "          (Intercept)            TEMPERATURE               HUMIDITY  \n",
      "               156.71                2399.74                -918.38  \n",
      "           WIND_SPEED             VISIBILITY  DEW_POINT_TEMPERATURE  \n",
      "               404.47                  12.56                -316.92  \n",
      "      SOLAR_RADIATION               RAINFALL               SNOWFALL  \n",
      "              -444.85               -1764.01                 317.78  \n",
      "\n"
     ]
    }
   ],
   "source": [
    "# print(lm_model_weather$fit)\n",
    "print(lm_model_weather$fit)"
   ]
  },
  {
   "cell_type": "markdown",
   "metadata": {},
   "source": [
    "You should see the model details such as formula, residuals, and coefficients.\n"
   ]
  },
  {
   "cell_type": "markdown",
   "metadata": {},
   "source": [
    "# TASK: Build a linear regression model using all variables\n"
   ]
  },
  {
   "cell_type": "markdown",
   "metadata": {},
   "source": [
    "In addition to weather, there could be other factors that may affect bike rental demand, such as the time of a day or if today is a holiday or not.\n"
   ]
  },
  {
   "cell_type": "markdown",
   "metadata": {},
   "source": [
    "Next, let's build a linear regression model using all variables (weather + date/time) in this task.\n"
   ]
  },
  {
   "cell_type": "markdown",
   "metadata": {},
   "source": [
    "*TODO:* Build a linear regression model called `lm_model_all` using all variables `RENTED_BIKE_COUNT ~ .`\n"
   ]
  },
  {
   "cell_type": "code",
   "execution_count": 8,
   "metadata": {},
   "outputs": [],
   "source": [
    "# Fit the model called `lm_model_all`\n",
    "# `RENTED_BIKE_COUNT ~ .` means use all other variables except for the response variable\n",
    "lm_model_all <- train_data %>% fit(lm_spec, RENTED_BIKE_COUNT ~ ., data = .)"
   ]
  },
  {
   "cell_type": "markdown",
   "metadata": {},
   "source": [
    "Print the fit summary for `lm_model_all`.\n"
   ]
  },
  {
   "cell_type": "code",
   "execution_count": 9,
   "metadata": {},
   "outputs": [
    {
     "data": {
      "text/plain": [
       "\n",
       "Call:\n",
       "stats::lm(formula = RENTED_BIKE_COUNT ~ ., data = data)\n",
       "\n",
       "Residuals:\n",
       "     Min       1Q   Median       3Q      Max \n",
       "-1401.45  -218.96    -7.31   199.53  1780.67 \n",
       "\n",
       "Coefficients: (3 not defined because of singularities)\n",
       "                      Estimate Std. Error t value Pr(>|t|)    \n",
       "(Intercept)             212.20      51.04   4.158 3.26e-05 ***\n",
       "TEMPERATURE             782.66     212.13   3.690 0.000227 ***\n",
       "HUMIDITY               -886.73      99.49  -8.913  < 2e-16 ***\n",
       "WIND_SPEED               31.91      40.27   0.792 0.428169    \n",
       "VISIBILITY               21.87      20.26   1.079 0.280439    \n",
       "DEW_POINT_TEMPERATURE   598.39     221.37   2.703 0.006888 ** \n",
       "SOLAR_RADIATION         276.88      41.47   6.677 2.64e-11 ***\n",
       "RAINFALL              -2064.64     143.28 -14.410  < 2e-16 ***\n",
       "SNOWFALL                260.97     103.50   2.522 0.011709 *  \n",
       "`0`                     -29.30      34.26  -0.855 0.392515    \n",
       "`1`                    -116.85      33.72  -3.465 0.000533 ***\n",
       "`10`                   -237.52      32.74  -7.255 4.48e-13 ***\n",
       "`11`                   -247.38      33.85  -7.309 3.02e-13 ***\n",
       "`12`                   -208.34      34.39  -6.059 1.45e-09 ***\n",
       "`13`                   -191.35      35.04  -5.461 4.90e-08 ***\n",
       "`14`                   -192.44      34.44  -5.588 2.39e-08 ***\n",
       "`15`                   -109.73      34.40  -3.190 0.001429 ** \n",
       "`16`                     23.13      34.00   0.680 0.496431    \n",
       "`17`                    305.55      34.15   8.946  < 2e-16 ***\n",
       "`18`                    794.80      34.02  23.364  < 2e-16 ***\n",
       "`19`                    522.99      34.25  15.268  < 2e-16 ***\n",
       "`2`                    -237.21      33.74  -7.030 2.28e-12 ***\n",
       "`20`                    432.00      34.13  12.657  < 2e-16 ***\n",
       "`21`                    446.58      34.09  13.100  < 2e-16 ***\n",
       "`22`                    342.64      33.85  10.123  < 2e-16 ***\n",
       "`23`                    103.81      33.85   3.066 0.002175 ** \n",
       "`3`                    -319.87      34.23  -9.346  < 2e-16 ***\n",
       "`4`                    -386.29      34.00 -11.361  < 2e-16 ***\n",
       "`5`                    -362.72      33.48 -10.834  < 2e-16 ***\n",
       "`6`                    -204.12      33.59  -6.076 1.30e-09 ***\n",
       "`7`                     106.76      33.58   3.179 0.001486 ** \n",
       "`8`                     450.98      32.62  13.823  < 2e-16 ***\n",
       "`9`                         NA         NA      NA       NA    \n",
       "AUTUMN                  359.00      20.29  17.694  < 2e-16 ***\n",
       "SPRING                  191.37      19.36   9.884  < 2e-16 ***\n",
       "SUMMER                  198.14      29.19   6.789 1.24e-11 ***\n",
       "WINTER                      NA         NA      NA       NA    \n",
       "HOLIDAY                -124.42      22.95  -5.422 6.11e-08 ***\n",
       "NO_HOLIDAY                  NA         NA      NA       NA    \n",
       "---\n",
       "Signif. codes:  0 '***' 0.001 '**' 0.01 '*' 0.05 '.' 0.1 ' ' 1\n",
       "\n",
       "Residual standard error: 377.9 on 6312 degrees of freedom\n",
       "Multiple R-squared:  0.6589,\tAdjusted R-squared:  0.657 \n",
       "F-statistic: 348.4 on 35 and 6312 DF,  p-value: < 2.2e-16\n"
      ]
     },
     "metadata": {},
     "output_type": "display_data"
    }
   ],
   "source": [
    "# summary(lm_model_all$fit)\n",
    "summary(lm_model_all$fit)"
   ]
  },
  {
   "cell_type": "markdown",
   "metadata": {},
   "source": [
    "Now you have built two basic linear regression models with different predictor variables, let's evaluate which model has better performance,\n"
   ]
  },
  {
   "cell_type": "markdown",
   "metadata": {},
   "source": [
    "# TASK: Model evaluation and identification of important variables\n"
   ]
  },
  {
   "cell_type": "markdown",
   "metadata": {},
   "source": [
    "Now that you have built two regression models, `lm_model_weather` and `lm_model_all`, with different predictor variables, you need to compare their performance to see which one is better.\n"
   ]
  },
  {
   "cell_type": "markdown",
   "metadata": {},
   "source": [
    "In this project, you will be asked to use very important metrics that are often used in Statistics to determine the performance of a model:\n",
    "\n",
    "1.  R^2 / R-squared\n",
    "2.  Root Mean Squared Error (RMSE)\n",
    "\n",
    "**R-squared**\n",
    "\n",
    "<p>R squared, also known as the coefficient of determination, is a measure to indicate how close the data is to the fitted regression line. The value of R-squared is the percentage of variation of the response variable (y) that is explained by a linear model.</p>\n",
    "\n",
    "**Root Mean Squared Error (RMSE)**\n",
    "$$\n",
    "RMSE = \\sqrt{MSE}\n",
    "$$\n",
    "\n",
    "As you know, the Mean Squared Error measures the average of the squares of errors, where 'error' is the difference between the actual value ($y$) and the estimated value ($ŷ$).\n",
    "Another metric that is related to MSE is **Root Mean Squared Error (RMSE)** and is simply the square root of MSE.\n"
   ]
  },
  {
   "cell_type": "markdown",
   "metadata": {},
   "source": [
    "We first need to test the `lm_model_weather` and `lm_model_all` models against the test dataset `test_data`, and generate `RENTED_BIKE_COUNT` prediction results.\n"
   ]
  },
  {
   "cell_type": "markdown",
   "metadata": {},
   "source": [
    "*TODO:* Make predictions on the testing dataset using both `lm_model_weather` and `lm_model_all` models\n"
   ]
  },
  {
   "cell_type": "code",
   "execution_count": 10,
   "metadata": {},
   "outputs": [
    {
     "name": "stderr",
     "output_type": "stream",
     "text": [
      "Warning message in predict.lm(object = object$fit, newdata = new_data, type = \"response\"):\n",
      "\"prediction from a rank-deficient fit may be misleading\"\n"
     ]
    },
    {
     "data": {
      "text/html": [
       "<table class=\"dataframe\">\n",
       "<caption>A tibble: 6 × 2</caption>\n",
       "<thead>\n",
       "\t<tr><th scope=col>.pred</th><th scope=col>truth</th></tr>\n",
       "\t<tr><th scope=col>&lt;dbl&gt;</th><th scope=col>&lt;dbl&gt;</th></tr>\n",
       "</thead>\n",
       "<tbody>\n",
       "\t<tr><td>317.54078</td><td>100</td></tr>\n",
       "\t<tr><td>321.34748</td><td>181</td></tr>\n",
       "\t<tr><td>593.09567</td><td>360</td></tr>\n",
       "\t<tr><td>351.27184</td><td>555</td></tr>\n",
       "\t<tr><td>138.78247</td><td>600</td></tr>\n",
       "\t<tr><td> 17.09947</td><td>405</td></tr>\n",
       "</tbody>\n",
       "</table>\n"
      ],
      "text/latex": [
       "A tibble: 6 × 2\n",
       "\\begin{tabular}{ll}\n",
       " .pred & truth\\\\\n",
       " <dbl> & <dbl>\\\\\n",
       "\\hline\n",
       "\t 317.54078 & 100\\\\\n",
       "\t 321.34748 & 181\\\\\n",
       "\t 593.09567 & 360\\\\\n",
       "\t 351.27184 & 555\\\\\n",
       "\t 138.78247 & 600\\\\\n",
       "\t  17.09947 & 405\\\\\n",
       "\\end{tabular}\n"
      ],
      "text/markdown": [
       "\n",
       "A tibble: 6 × 2\n",
       "\n",
       "| .pred &lt;dbl&gt; | truth &lt;dbl&gt; |\n",
       "|---|---|\n",
       "| 317.54078 | 100 |\n",
       "| 321.34748 | 181 |\n",
       "| 593.09567 | 360 |\n",
       "| 351.27184 | 555 |\n",
       "| 138.78247 | 600 |\n",
       "|  17.09947 | 405 |\n",
       "\n"
      ],
      "text/plain": [
       "  .pred     truth\n",
       "1 317.54078 100  \n",
       "2 321.34748 181  \n",
       "3 593.09567 360  \n",
       "4 351.27184 555  \n",
       "5 138.78247 600  \n",
       "6  17.09947 405  "
      ]
     },
     "metadata": {},
     "output_type": "display_data"
    },
    {
     "data": {
      "text/html": [
       "<table class=\"dataframe\">\n",
       "<caption>A tibble: 6 × 2</caption>\n",
       "<thead>\n",
       "\t<tr><th scope=col>.pred</th><th scope=col>truth</th></tr>\n",
       "\t<tr><th scope=col>&lt;dbl&gt;</th><th scope=col>&lt;dbl&gt;</th></tr>\n",
       "</thead>\n",
       "<tbody>\n",
       "\t<tr><td>-177.78433</td><td>100</td></tr>\n",
       "\t<tr><td> -12.96778</td><td>181</td></tr>\n",
       "\t<tr><td> 219.89217</td><td>360</td></tr>\n",
       "\t<tr><td> 532.01325</td><td>555</td></tr>\n",
       "\t<tr><td> 591.78714</td><td>600</td></tr>\n",
       "\t<tr><td> 459.85379</td><td>405</td></tr>\n",
       "</tbody>\n",
       "</table>\n"
      ],
      "text/latex": [
       "A tibble: 6 × 2\n",
       "\\begin{tabular}{ll}\n",
       " .pred & truth\\\\\n",
       " <dbl> & <dbl>\\\\\n",
       "\\hline\n",
       "\t -177.78433 & 100\\\\\n",
       "\t  -12.96778 & 181\\\\\n",
       "\t  219.89217 & 360\\\\\n",
       "\t  532.01325 & 555\\\\\n",
       "\t  591.78714 & 600\\\\\n",
       "\t  459.85379 & 405\\\\\n",
       "\\end{tabular}\n"
      ],
      "text/markdown": [
       "\n",
       "A tibble: 6 × 2\n",
       "\n",
       "| .pred &lt;dbl&gt; | truth &lt;dbl&gt; |\n",
       "|---|---|\n",
       "| -177.78433 | 100 |\n",
       "|  -12.96778 | 181 |\n",
       "|  219.89217 | 360 |\n",
       "|  532.01325 | 555 |\n",
       "|  591.78714 | 600 |\n",
       "|  459.85379 | 405 |\n",
       "\n"
      ],
      "text/plain": [
       "  .pred      truth\n",
       "1 -177.78433 100  \n",
       "2  -12.96778 181  \n",
       "3  219.89217 360  \n",
       "4  532.01325 555  \n",
       "5  591.78714 600  \n",
       "6  459.85379 405  "
      ]
     },
     "metadata": {},
     "output_type": "display_data"
    }
   ],
   "source": [
    "# Use predict() function to generate test results for `lm_model_weather` and `lm_model_all`\n",
    "result_model_weather <- lm_model_weather %>% predict(new_data = test_data) %>% mutate(truth = test_data$RENTED_BIKE_COUNT)\n",
    "result_model_all <- lm_model_all %>% predict(new_data = test_data) %>% mutate(truth = test_data$RENTED_BIKE_COUNT)\n",
    "# and generate two test results dataframe with a truth column:\n",
    "\n",
    "# test_results_weather for lm_model_weather model\n",
    "head(result_model_weather)\n",
    "# test_results_all for lm_model_all\n",
    "head(result_model_all)"
   ]
  },
  {
   "cell_type": "markdown",
   "metadata": {},
   "source": [
    "NOTE: if you happen to see a warning like : `prediction from a rank-deficient fit may be misleading`, it may be casued by collinearity in the predictor variables. Collinearity means that one predictor variable can be predicted from other predictor variables to some degree. For example, `RAINFALL` could be predicted by `HUMIDITY`.\n",
    "\n",
    "But dont worry, you will address `glmnet` models (Lasso and Elastic-Net Regularized Generalized Linear Models) instead of regular `regression` models to solve this issue and futher improve the model performance.\n"
   ]
  },
  {
   "cell_type": "markdown",
   "metadata": {},
   "source": [
    "Next, let's calculate and print the R-squared and RMSE for the two test results\n"
   ]
  },
  {
   "cell_type": "markdown",
   "metadata": {},
   "source": [
    "*TODO:* Use `rsq()` and `rmse()` functions to calculate R-squared and RMSE metrics for the two test results\n"
   ]
  },
  {
   "cell_type": "code",
   "execution_count": 11,
   "metadata": {},
   "outputs": [
    {
     "data": {
      "text/html": [
       "<table class=\"dataframe\">\n",
       "<caption>A tibble: 1 × 3</caption>\n",
       "<thead>\n",
       "\t<tr><th scope=col>rsq_weather</th><th scope=col>.estimator</th><th scope=col>.estimate</th></tr>\n",
       "\t<tr><th scope=col>&lt;chr&gt;</th><th scope=col>&lt;chr&gt;</th><th scope=col>&lt;dbl&gt;</th></tr>\n",
       "</thead>\n",
       "<tbody>\n",
       "\t<tr><td>rsq</td><td>standard</td><td>0.438866</td></tr>\n",
       "</tbody>\n",
       "</table>\n"
      ],
      "text/latex": [
       "A tibble: 1 × 3\n",
       "\\begin{tabular}{lll}\n",
       " rsq\\_weather & .estimator & .estimate\\\\\n",
       " <chr> & <chr> & <dbl>\\\\\n",
       "\\hline\n",
       "\t rsq & standard & 0.438866\\\\\n",
       "\\end{tabular}\n"
      ],
      "text/markdown": [
       "\n",
       "A tibble: 1 × 3\n",
       "\n",
       "| rsq_weather &lt;chr&gt; | .estimator &lt;chr&gt; | .estimate &lt;dbl&gt; |\n",
       "|---|---|---|\n",
       "| rsq | standard | 0.438866 |\n",
       "\n"
      ],
      "text/plain": [
       "  rsq_weather .estimator .estimate\n",
       "1 rsq         standard   0.438866 "
      ]
     },
     "metadata": {},
     "output_type": "display_data"
    },
    {
     "data": {
      "text/html": [
       "<table class=\"dataframe\">\n",
       "<caption>A tibble: 1 × 3</caption>\n",
       "<thead>\n",
       "\t<tr><th scope=col>rsq_all</th><th scope=col>.estimator</th><th scope=col>.estimate</th></tr>\n",
       "\t<tr><th scope=col>&lt;chr&gt;</th><th scope=col>&lt;chr&gt;</th><th scope=col>&lt;dbl&gt;</th></tr>\n",
       "</thead>\n",
       "<tbody>\n",
       "\t<tr><td>rsq</td><td>standard</td><td>0.6690204</td></tr>\n",
       "</tbody>\n",
       "</table>\n"
      ],
      "text/latex": [
       "A tibble: 1 × 3\n",
       "\\begin{tabular}{lll}\n",
       " rsq\\_all & .estimator & .estimate\\\\\n",
       " <chr> & <chr> & <dbl>\\\\\n",
       "\\hline\n",
       "\t rsq & standard & 0.6690204\\\\\n",
       "\\end{tabular}\n"
      ],
      "text/markdown": [
       "\n",
       "A tibble: 1 × 3\n",
       "\n",
       "| rsq_all &lt;chr&gt; | .estimator &lt;chr&gt; | .estimate &lt;dbl&gt; |\n",
       "|---|---|---|\n",
       "| rsq | standard | 0.6690204 |\n",
       "\n"
      ],
      "text/plain": [
       "  rsq_all .estimator .estimate\n",
       "1 rsq     standard   0.6690204"
      ]
     },
     "metadata": {},
     "output_type": "display_data"
    },
    {
     "data": {
      "text/html": [
       "<table class=\"dataframe\">\n",
       "<caption>A tibble: 1 × 3</caption>\n",
       "<thead>\n",
       "\t<tr><th scope=col>rmse_weather</th><th scope=col>.estimator</th><th scope=col>.estimate</th></tr>\n",
       "\t<tr><th scope=col>&lt;chr&gt;</th><th scope=col>&lt;chr&gt;</th><th scope=col>&lt;dbl&gt;</th></tr>\n",
       "</thead>\n",
       "<tbody>\n",
       "\t<tr><td>rmse</td><td>standard</td><td>474.6247</td></tr>\n",
       "</tbody>\n",
       "</table>\n"
      ],
      "text/latex": [
       "A tibble: 1 × 3\n",
       "\\begin{tabular}{lll}\n",
       " rmse\\_weather & .estimator & .estimate\\\\\n",
       " <chr> & <chr> & <dbl>\\\\\n",
       "\\hline\n",
       "\t rmse & standard & 474.6247\\\\\n",
       "\\end{tabular}\n"
      ],
      "text/markdown": [
       "\n",
       "A tibble: 1 × 3\n",
       "\n",
       "| rmse_weather &lt;chr&gt; | .estimator &lt;chr&gt; | .estimate &lt;dbl&gt; |\n",
       "|---|---|---|\n",
       "| rmse | standard | 474.6247 |\n",
       "\n"
      ],
      "text/plain": [
       "  rmse_weather .estimator .estimate\n",
       "1 rmse         standard   474.6247 "
      ]
     },
     "metadata": {},
     "output_type": "display_data"
    },
    {
     "data": {
      "text/html": [
       "<table class=\"dataframe\">\n",
       "<caption>A tibble: 1 × 3</caption>\n",
       "<thead>\n",
       "\t<tr><th scope=col>rmse_all</th><th scope=col>.estimator</th><th scope=col>.estimate</th></tr>\n",
       "\t<tr><th scope=col>&lt;chr&gt;</th><th scope=col>&lt;chr&gt;</th><th scope=col>&lt;dbl&gt;</th></tr>\n",
       "</thead>\n",
       "<tbody>\n",
       "\t<tr><td>rmse</td><td>standard</td><td>364.4235</td></tr>\n",
       "</tbody>\n",
       "</table>\n"
      ],
      "text/latex": [
       "A tibble: 1 × 3\n",
       "\\begin{tabular}{lll}\n",
       " rmse\\_all & .estimator & .estimate\\\\\n",
       " <chr> & <chr> & <dbl>\\\\\n",
       "\\hline\n",
       "\t rmse & standard & 364.4235\\\\\n",
       "\\end{tabular}\n"
      ],
      "text/markdown": [
       "\n",
       "A tibble: 1 × 3\n",
       "\n",
       "| rmse_all &lt;chr&gt; | .estimator &lt;chr&gt; | .estimate &lt;dbl&gt; |\n",
       "|---|---|---|\n",
       "| rmse | standard | 364.4235 |\n",
       "\n"
      ],
      "text/plain": [
       "  rmse_all .estimator .estimate\n",
       "1 rmse     standard   364.4235 "
      ]
     },
     "metadata": {},
     "output_type": "display_data"
    }
   ],
   "source": [
    "# rsq_weather <- rsq(...)\n",
    "# rsq_all <- rsq(...)\n",
    "rsq_weather <- rsq(result_model_weather, truth = truth, estimate = .pred)\n",
    "rsq_weather %>% rename (rsq_weather = .metric)\n",
    "rsq_all <- rsq(result_model_all, truth = truth, estimate = .pred)\n",
    "rsq_all %>% rename(rsq_all = .metric)\n",
    "# rmse_weather <- rmse(...)\n",
    "# rmse_all <- rmse(...)\n",
    "rmse_weather <- rmse(result_model_weather, truth = truth, estimate = .pred)\n",
    "rmse_weather %>% rename(rmse_weather = .metric)\n",
    "rmse_all <- rmse(result_model_all, truth = truth, estimate = .pred)\n",
    "rmse_all %>% rename(rmse_all = .metric)"
   ]
  },
  {
   "cell_type": "markdown",
   "metadata": {},
   "source": [
    "From these tables, you should find that the test results from `lm_model_all` are much better. It means that using both weather and datetime variables in the model generates better prediction results.\n"
   ]
  },
  {
   "cell_type": "markdown",
   "metadata": {},
   "source": [
    "Since `lm_model_all` has many predictor variables, let's check which predictor variables have larger coefficients. Variables with larger coefficients in the model means they attribute more in the prediction of `RENTED_BIKE_COUNT`. In addition, since all predictor variables are normalized to the same scale, 0 to 1, we thus can compare their coefficients directly.\n"
   ]
  },
  {
   "cell_type": "markdown",
   "metadata": {},
   "source": [
    "You could try building another regression model using the non-normalized `seoul_bike_sharing_converted.csv` dataset, and you would find that the coefficients are much different.\n"
   ]
  },
  {
   "cell_type": "markdown",
   "metadata": {},
   "source": [
    "First let's print all coefficients:\n"
   ]
  },
  {
   "cell_type": "code",
   "execution_count": 18,
   "metadata": {},
   "outputs": [
    {
     "name": "stderr",
     "output_type": "stream",
     "text": [
      "Warning message:\n",
      "\"'tidy.numeric' is deprecated.\n",
      "See help(\"Deprecated\")\"\n"
     ]
    },
    {
     "data": {
      "text/html": [
       "<table class=\"dataframe\">\n",
       "<caption>A tibble: 39 × 2</caption>\n",
       "<thead>\n",
       "\t<tr><th scope=col>Var</th><th scope=col>Coef</th></tr>\n",
       "\t<tr><th scope=col>&lt;chr&gt;</th><th scope=col>&lt;dbl&gt;</th></tr>\n",
       "</thead>\n",
       "<tbody>\n",
       "\t<tr><td>(Intercept)          </td><td>  212.19946</td></tr>\n",
       "\t<tr><td>TEMPERATURE          </td><td>  782.65787</td></tr>\n",
       "\t<tr><td>HUMIDITY             </td><td> -886.73028</td></tr>\n",
       "\t<tr><td>WIND_SPEED           </td><td>   31.91299</td></tr>\n",
       "\t<tr><td>VISIBILITY           </td><td>   21.87164</td></tr>\n",
       "\t<tr><td>DEW_POINT_TEMPERATURE</td><td>  598.38726</td></tr>\n",
       "\t<tr><td>SOLAR_RADIATION      </td><td>  276.88165</td></tr>\n",
       "\t<tr><td>RAINFALL             </td><td>-2064.63754</td></tr>\n",
       "\t<tr><td>SNOWFALL             </td><td>  260.97330</td></tr>\n",
       "\t<tr><td>`0`                  </td><td>  -29.29834</td></tr>\n",
       "\t<tr><td>`1`                  </td><td> -116.84675</td></tr>\n",
       "\t<tr><td>`10`                 </td><td> -237.51820</td></tr>\n",
       "\t<tr><td>`11`                 </td><td> -247.38341</td></tr>\n",
       "\t<tr><td>`12`                 </td><td> -208.34133</td></tr>\n",
       "\t<tr><td>`13`                 </td><td> -191.35423</td></tr>\n",
       "\t<tr><td>`14`                 </td><td> -192.44168</td></tr>\n",
       "\t<tr><td>`15`                 </td><td> -109.73364</td></tr>\n",
       "\t<tr><td>`16`                 </td><td>   23.12816</td></tr>\n",
       "\t<tr><td>`17`                 </td><td>  305.54762</td></tr>\n",
       "\t<tr><td>`18`                 </td><td>  794.80315</td></tr>\n",
       "\t<tr><td>`19`                 </td><td>  522.98821</td></tr>\n",
       "\t<tr><td>`2`                  </td><td> -237.21166</td></tr>\n",
       "\t<tr><td>`20`                 </td><td>  431.99524</td></tr>\n",
       "\t<tr><td>`21`                 </td><td>  446.58053</td></tr>\n",
       "\t<tr><td>`22`                 </td><td>  342.64092</td></tr>\n",
       "\t<tr><td>`23`                 </td><td>  103.80841</td></tr>\n",
       "\t<tr><td>`3`                  </td><td> -319.87152</td></tr>\n",
       "\t<tr><td>`4`                  </td><td> -386.29281</td></tr>\n",
       "\t<tr><td>`5`                  </td><td> -362.72000</td></tr>\n",
       "\t<tr><td>`6`                  </td><td> -204.11873</td></tr>\n",
       "\t<tr><td>`7`                  </td><td>  106.75713</td></tr>\n",
       "\t<tr><td>`8`                  </td><td>  450.97753</td></tr>\n",
       "\t<tr><td>`9`                  </td><td>         NA</td></tr>\n",
       "\t<tr><td>AUTUMN               </td><td>  358.99944</td></tr>\n",
       "\t<tr><td>SPRING               </td><td>  191.36527</td></tr>\n",
       "\t<tr><td>SUMMER               </td><td>  198.14201</td></tr>\n",
       "\t<tr><td>WINTER               </td><td>         NA</td></tr>\n",
       "\t<tr><td>HOLIDAY              </td><td> -124.42374</td></tr>\n",
       "\t<tr><td>NO_HOLIDAY           </td><td>         NA</td></tr>\n",
       "</tbody>\n",
       "</table>\n"
      ],
      "text/latex": [
       "A tibble: 39 × 2\n",
       "\\begin{tabular}{ll}\n",
       " Var & Coef\\\\\n",
       " <chr> & <dbl>\\\\\n",
       "\\hline\n",
       "\t (Intercept)           &   212.19946\\\\\n",
       "\t TEMPERATURE           &   782.65787\\\\\n",
       "\t HUMIDITY              &  -886.73028\\\\\n",
       "\t WIND\\_SPEED            &    31.91299\\\\\n",
       "\t VISIBILITY            &    21.87164\\\\\n",
       "\t DEW\\_POINT\\_TEMPERATURE &   598.38726\\\\\n",
       "\t SOLAR\\_RADIATION       &   276.88165\\\\\n",
       "\t RAINFALL              & -2064.63754\\\\\n",
       "\t SNOWFALL              &   260.97330\\\\\n",
       "\t `0`                   &   -29.29834\\\\\n",
       "\t `1`                   &  -116.84675\\\\\n",
       "\t `10`                  &  -237.51820\\\\\n",
       "\t `11`                  &  -247.38341\\\\\n",
       "\t `12`                  &  -208.34133\\\\\n",
       "\t `13`                  &  -191.35423\\\\\n",
       "\t `14`                  &  -192.44168\\\\\n",
       "\t `15`                  &  -109.73364\\\\\n",
       "\t `16`                  &    23.12816\\\\\n",
       "\t `17`                  &   305.54762\\\\\n",
       "\t `18`                  &   794.80315\\\\\n",
       "\t `19`                  &   522.98821\\\\\n",
       "\t `2`                   &  -237.21166\\\\\n",
       "\t `20`                  &   431.99524\\\\\n",
       "\t `21`                  &   446.58053\\\\\n",
       "\t `22`                  &   342.64092\\\\\n",
       "\t `23`                  &   103.80841\\\\\n",
       "\t `3`                   &  -319.87152\\\\\n",
       "\t `4`                   &  -386.29281\\\\\n",
       "\t `5`                   &  -362.72000\\\\\n",
       "\t `6`                   &  -204.11873\\\\\n",
       "\t `7`                   &   106.75713\\\\\n",
       "\t `8`                   &   450.97753\\\\\n",
       "\t `9`                   &          NA\\\\\n",
       "\t AUTUMN                &   358.99944\\\\\n",
       "\t SPRING                &   191.36527\\\\\n",
       "\t SUMMER                &   198.14201\\\\\n",
       "\t WINTER                &          NA\\\\\n",
       "\t HOLIDAY               &  -124.42374\\\\\n",
       "\t NO\\_HOLIDAY            &          NA\\\\\n",
       "\\end{tabular}\n"
      ],
      "text/markdown": [
       "\n",
       "A tibble: 39 × 2\n",
       "\n",
       "| Var &lt;chr&gt; | Coef &lt;dbl&gt; |\n",
       "|---|---|\n",
       "| (Intercept)           |   212.19946 |\n",
       "| TEMPERATURE           |   782.65787 |\n",
       "| HUMIDITY              |  -886.73028 |\n",
       "| WIND_SPEED            |    31.91299 |\n",
       "| VISIBILITY            |    21.87164 |\n",
       "| DEW_POINT_TEMPERATURE |   598.38726 |\n",
       "| SOLAR_RADIATION       |   276.88165 |\n",
       "| RAINFALL              | -2064.63754 |\n",
       "| SNOWFALL              |   260.97330 |\n",
       "| `0`                   |   -29.29834 |\n",
       "| `1`                   |  -116.84675 |\n",
       "| `10`                  |  -237.51820 |\n",
       "| `11`                  |  -247.38341 |\n",
       "| `12`                  |  -208.34133 |\n",
       "| `13`                  |  -191.35423 |\n",
       "| `14`                  |  -192.44168 |\n",
       "| `15`                  |  -109.73364 |\n",
       "| `16`                  |    23.12816 |\n",
       "| `17`                  |   305.54762 |\n",
       "| `18`                  |   794.80315 |\n",
       "| `19`                  |   522.98821 |\n",
       "| `2`                   |  -237.21166 |\n",
       "| `20`                  |   431.99524 |\n",
       "| `21`                  |   446.58053 |\n",
       "| `22`                  |   342.64092 |\n",
       "| `23`                  |   103.80841 |\n",
       "| `3`                   |  -319.87152 |\n",
       "| `4`                   |  -386.29281 |\n",
       "| `5`                   |  -362.72000 |\n",
       "| `6`                   |  -204.11873 |\n",
       "| `7`                   |   106.75713 |\n",
       "| `8`                   |   450.97753 |\n",
       "| `9`                   |          NA |\n",
       "| AUTUMN                |   358.99944 |\n",
       "| SPRING                |   191.36527 |\n",
       "| SUMMER                |   198.14201 |\n",
       "| WINTER                |          NA |\n",
       "| HOLIDAY               |  -124.42374 |\n",
       "| NO_HOLIDAY            |          NA |\n",
       "\n"
      ],
      "text/plain": [
       "   Var                   Coef       \n",
       "1  (Intercept)             212.19946\n",
       "2  TEMPERATURE             782.65787\n",
       "3  HUMIDITY               -886.73028\n",
       "4  WIND_SPEED               31.91299\n",
       "5  VISIBILITY               21.87164\n",
       "6  DEW_POINT_TEMPERATURE   598.38726\n",
       "7  SOLAR_RADIATION         276.88165\n",
       "8  RAINFALL              -2064.63754\n",
       "9  SNOWFALL                260.97330\n",
       "10 `0`                     -29.29834\n",
       "11 `1`                    -116.84675\n",
       "12 `10`                   -237.51820\n",
       "13 `11`                   -247.38341\n",
       "14 `12`                   -208.34133\n",
       "15 `13`                   -191.35423\n",
       "16 `14`                   -192.44168\n",
       "17 `15`                   -109.73364\n",
       "18 `16`                     23.12816\n",
       "19 `17`                    305.54762\n",
       "20 `18`                    794.80315\n",
       "21 `19`                    522.98821\n",
       "22 `2`                    -237.21166\n",
       "23 `20`                    431.99524\n",
       "24 `21`                    446.58053\n",
       "25 `22`                    342.64092\n",
       "26 `23`                    103.80841\n",
       "27 `3`                    -319.87152\n",
       "28 `4`                    -386.29281\n",
       "29 `5`                    -362.72000\n",
       "30 `6`                    -204.11873\n",
       "31 `7`                     106.75713\n",
       "32 `8`                     450.97753\n",
       "33 `9`                            NA\n",
       "34 AUTUMN                  358.99944\n",
       "35 SPRING                  191.36527\n",
       "36 SUMMER                  198.14201\n",
       "37 WINTER                         NA\n",
       "38 HOLIDAY                -124.42374\n",
       "39 NO_HOLIDAY                     NA"
      ]
     },
     "metadata": {},
     "output_type": "display_data"
    }
   ],
   "source": [
    "lm_model_all$fit$coefficients %>% tidy() %>% rename(Var = names, Coef = x)"
   ]
  },
  {
   "cell_type": "markdown",
   "metadata": {},
   "source": [
    "hmm, it's not very clear to compare the coefficients from a long and unsorted list. Next, you need to sort and visualize them using a bar chart\n"
   ]
  },
  {
   "cell_type": "markdown",
   "metadata": {},
   "source": [
    "*TODO:* Sort the coefficient list in descending order and visualize the result using `ggplot` and `geom_bar`\n"
   ]
  },
  {
   "cell_type": "code",
   "execution_count": 86,
   "metadata": {},
   "outputs": [
    {
     "data": {
      "text/html": [
       "<table class=\"dataframe\">\n",
       "<caption>A data.frame: 6 × 2</caption>\n",
       "<thead>\n",
       "\t<tr><th></th><th scope=col>Variable</th><th scope=col>Coef</th></tr>\n",
       "\t<tr><th></th><th scope=col>&lt;fct&gt;</th><th scope=col>&lt;dbl&gt;</th></tr>\n",
       "</thead>\n",
       "<tbody>\n",
       "\t<tr><th scope=row>1</th><td>RAINFALL             </td><td>2064.6375</td></tr>\n",
       "\t<tr><th scope=row>2</th><td>HUMIDITY             </td><td> 886.7303</td></tr>\n",
       "\t<tr><th scope=row>3</th><td>`18`                 </td><td> 794.8032</td></tr>\n",
       "\t<tr><th scope=row>4</th><td>TEMPERATURE          </td><td> 782.6579</td></tr>\n",
       "\t<tr><th scope=row>5</th><td>DEW_POINT_TEMPERATURE</td><td> 598.3873</td></tr>\n",
       "\t<tr><th scope=row>6</th><td>`19`                 </td><td> 522.9882</td></tr>\n",
       "</tbody>\n",
       "</table>\n"
      ],
      "text/latex": [
       "A data.frame: 6 × 2\n",
       "\\begin{tabular}{r|ll}\n",
       "  & Variable & Coef\\\\\n",
       "  & <fct> & <dbl>\\\\\n",
       "\\hline\n",
       "\t1 & RAINFALL              & 2064.6375\\\\\n",
       "\t2 & HUMIDITY              &  886.7303\\\\\n",
       "\t3 & `18`                  &  794.8032\\\\\n",
       "\t4 & TEMPERATURE           &  782.6579\\\\\n",
       "\t5 & DEW\\_POINT\\_TEMPERATURE &  598.3873\\\\\n",
       "\t6 & `19`                  &  522.9882\\\\\n",
       "\\end{tabular}\n"
      ],
      "text/markdown": [
       "\n",
       "A data.frame: 6 × 2\n",
       "\n",
       "| <!--/--> | Variable &lt;fct&gt; | Coef &lt;dbl&gt; |\n",
       "|---|---|---|\n",
       "| 1 | RAINFALL              | 2064.6375 |\n",
       "| 2 | HUMIDITY              |  886.7303 |\n",
       "| 3 | `18`                  |  794.8032 |\n",
       "| 4 | TEMPERATURE           |  782.6579 |\n",
       "| 5 | DEW_POINT_TEMPERATURE |  598.3873 |\n",
       "| 6 | `19`                  |  522.9882 |\n",
       "\n"
      ],
      "text/plain": [
       "  Variable              Coef     \n",
       "1 RAINFALL              2064.6375\n",
       "2 HUMIDITY               886.7303\n",
       "3 `18`                   794.8032\n",
       "4 TEMPERATURE            782.6579\n",
       "5 DEW_POINT_TEMPERATURE  598.3873\n",
       "6 `19`                   522.9882"
      ]
     },
     "metadata": {},
     "output_type": "display_data"
    }
   ],
   "source": [
    "# Sort coefficient list\n",
    "abs_cof_df <- stack(abs(lm_model_all$fit$coefficients))\n",
    "names(abs_cof_df) <- c(\"Coef\", \"Variable\")\n",
    "abs_cof_df <- abs_cof_df %>% \n",
    "                select(Variable, Coef)\n",
    "coefs_sorted <- arrange(abs_cof_df, -Coef) \n",
    "coefs_sorted <- na.omit(coefs_sorted)\n",
    "head(coefs_sorted)"
   ]
  },
  {
   "cell_type": "code",
   "execution_count": 85,
   "metadata": {},
   "outputs": [
    {
     "data": {
      "image/png": "[encoded data removed]",
      "text/plain": [
       "plot without title"
      ]
     },
     "metadata": {
      "image/png": {
       "height": 420,
       "width": 420
      }
     },
     "output_type": "display_data"
    }
   ],
   "source": [
    "# Visualize the list using ggplot and geom_bar\n",
    "# Draw bar charts for the sorted coefficients\n",
    "ggplot(data=coefs_sorted, aes(x= reorder(Variable,Coef), Coef)) +\n",
    "  geom_bar(stat = \"identity\") +\n",
    "  coord_flip() +\n",
    "  theme_minimal()"
   ]
  },
  {
   "cell_type": "markdown",
   "metadata": {},
   "source": [
    "You should see a sorted coefficient bar chart like the following example:\n"
   ]
  },
  {
   "cell_type": "markdown",
   "metadata": {},
   "source": [
    "<a href=\"https://cognitiveclass.ai/?utm_medium=Exinfluencer&utm_source=Exinfluencer&utm_content=000026UJ&utm_term=10006555&utm_id=NA-SkillsNetwork-Channel-SkillsNetworkCoursesIBMDeveloperSkillsNetworkRP0321ENSkillsNetwork25371262-2021-01-01\">\n",
    "    <img src=\"https://cf-courses-data.s3.us.cloud-object-storage.appdomain.cloud/IBMDeveloperSkillsNetwork-RP0321EN-SkillsNetwork/labs/module_4/images/coefficient_chart.png\" width=\"600\" align=\"center\">\n",
    "</a>\n"
   ]
  },
  {
   "cell_type": "markdown",
   "metadata": {},
   "source": [
    "Mark down these 'top-ranked variables by coefficient', which will be used for model refinments in the next labs.\n"
   ]
  },
  {
   "cell_type": "markdown",
   "metadata": {},
   "source": [
    "Note that here the main reason we use absolute value is to easily identify important variables, i.e. variables with large magnitudes, no matter it's negative or positive. If we want to interprete the model then it's better to seperate the positive and negative coefficients.\n"
   ]
  },
  {
   "cell_type": "markdown",
   "metadata": {},
   "source": [
    "# Next Steps\n"
   ]
  },
  {
   "cell_type": "markdown",
   "metadata": {},
   "source": [
    "Great! Now you have built a baseline linear regression model to predict hourly bike rent count, with reasonably good performance. In the next lab, you will be refining the baseline model to improve its performance.\n"
   ]
  },
  {
   "cell_type": "markdown",
   "metadata": {},
   "source": [
    "## Authors\n",
    "\n",
    "<a href=\"https://www.linkedin.com/in/yan-luo-96288783/?utm_medium=Exinfluencer&utm_source=Exinfluencer&utm_content=000026UJ&utm_term=10006555&utm_id=NA-SkillsNetwork-Channel-SkillsNetworkCoursesIBMDeveloperSkillsNetworkRP0321ENSkillsNetwork25371262-2021-01-01\" target=\"_blank\">Yan Luo</a>\n"
   ]
  },
  {
   "cell_type": "markdown",
   "metadata": {},
   "source": [
    "### Other Contributors\n",
    "\n",
    "Jeff Grossman\n"
   ]
  },
  {
   "cell_type": "markdown",
   "metadata": {},
   "source": [
    "## Change Log\n",
    "\n",
    "| Date (YYYY-MM-DD) | Version | Changed By | Change Description      |\n",
    "| ----------------- | ------- | ---------- | ----------------------- |\n",
    "| 2021-04-08        | 1.0     | Yan        | Initial version created |\n",
    "|                   |         |            |                         |\n",
    "|                   |         |            |                         |\n",
    "\n",
    "## <h3 align=\"center\"> © IBM Corporation 2021. All rights reserved. <h3/>\n"
   ]
  }
 ],
 "metadata": {
  "kernelspec": {
   "display_name": "R 4.1.2",
   "language": "R",
   "name": "r412"
  },
  "language_info": {
   "codemirror_mode": "r",
   "file_extension": ".r",
   "mimetype": "text/x-r-source",
   "name": "R",
   "pygments_lexer": "r",
   "version": "4.1.2"
  }
 },
 "nbformat": 4,
 "nbformat_minor": 4
}
