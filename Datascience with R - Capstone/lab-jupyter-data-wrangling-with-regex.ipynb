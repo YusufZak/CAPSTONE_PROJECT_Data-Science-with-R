{
 "cells": [
  {
   "cell_type": "markdown",
   "metadata": {},
   "source": [
    "<a href=\"https://cognitiveclass.ai/?utm_medium=Exinfluencer&utm_source=Exinfluencer&utm_content=000026UJ&utm_term=10006555&utm_id=NA-SkillsNetwork-Channel-SkillsNetworkCoursesIBMDeveloperSkillsNetworkRP0321ENSkillsNetwork25371262-2021-01-01\">\n",
    "    <img src=\"https://cf-courses-data.s3.us.cloud-object-storage.appdomain.cloud/IBMDeveloperSkillsNetwork-RP0101EN-Coursera/v2/M1_R_Basics/images/IDSNlogo.png\" width=\"200\" align=\"center\">\n",
    "</a>\n"
   ]
  },
  {
   "cell_type": "markdown",
   "metadata": {},
   "source": [
    "<h1>Data Wrangling with Regular Expressions</h1>\n",
    "\n",
    "Estimated time needed: **40** minutes\n"
   ]
  },
  {
   "cell_type": "markdown",
   "metadata": {},
   "source": [
    "## Lab Overview:\n",
    "\n",
    "In the previous data collection labs, you collected some raw datasets from several different sources. In this lab, you need to perform data wrangling tasks in order to improve data quality.\n"
   ]
  },
  {
   "cell_type": "markdown",
   "metadata": {},
   "source": [
    "You will again use regular expressions, along with the `stringr` package (part of `tidyverse`), to clean up the bike-sharing systems data that you previously web scraped from the wiki page:\n",
    "\n",
    "[https://en.wikipedia.org/wiki/List_of_bicycle-sharing_systems](https://en.wikipedia.org/wiki/List_of_bicycle-sharing_systems?utm_medium=Exinfluencer&utm_source=Exinfluencer&utm_content=000026UJ&utm_term=10006555&utm_id=NA-SkillsNetwork-Channel-SkillsNetworkCoursesIBMDeveloperSkillsNetworkRP0321ENSkillsNetwork25371262-2021-01-01)\n",
    "\n",
    "<a href=\"https://cognitiveclass.ai/?utm_medium=Exinfluencer&utm_source=Exinfluencer&utm_content=000026UJ&utm_term=10006555&utm_id=NA-SkillsNetwork-Channel-SkillsNetworkCoursesIBMDeveloperSkillsNetworkRP0321ENSkillsNetwork25371262-2021-01-01\">\n",
    "    <img src=\"https://cf-courses-data.s3.us.cloud-object-storage.appdomain.cloud/IBMDeveloperSkillsNetwork-RP0321EN-SkillsNetwork/labs/module_1/images/l2-list-bike-sharing-systems.png\" width=\"800\" align=\"center\">\n",
    "</a>\n"
   ]
  },
  {
   "cell_type": "markdown",
   "metadata": {},
   "source": [
    "One typical challenge of web scraping is that data extracted from HTML pages may contain unnecessary or inconsistently fomatted information.\\\n",
    "For example:\n",
    "\n",
    "*   Textual annotations in numeric fields: `1000 (Updated with 1050)`\n",
    "*   Attached reference links: `Bike sharing system [123]`\n",
    "*   Inconsistent data formats: `Yes` and `Y` for the logical value `TRUE` or `2021-04-09` and `Apr 09, 2021` for the same date\n",
    "*   HTML style tags: `<span style=\"color:blue\">Bike sharing system</span>`\n",
    "*   Special characters: `&nbsp` for a white space\n",
    "\n",
    "Many more such examples of noise may be encountered in real-world scraped data and most of such text related noises could be handled by regular expressions.\n"
   ]
  },
  {
   "cell_type": "markdown",
   "metadata": {},
   "source": [
    "To summarize, you will be using `stringr` (part of `tidyverse`) and regular expressions to perform the following data wrangling tasks:\n",
    "\n",
    "*   TASK: Standardize column names for all collected datasets\n",
    "*   TASK: Remove undesired reference links from the scraped bike-sharing systems dataset\n",
    "*   TASK: Extract only the numeric value from undesired text annotations\n"
   ]
  },
  {
   "cell_type": "markdown",
   "metadata": {},
   "source": [
    "Let's begin by importing the libraries you will use for these data wrangling tasks.\n"
   ]
  },
  {
   "cell_type": "code",
   "execution_count": 1,
   "metadata": {},
   "outputs": [
    {
     "name": "stderr",
     "output_type": "stream",
     "text": [
      "Loading required package: tidyverse\n",
      "\n",
      "-- \u001b[1mAttaching packages\u001b[22m ------------------------------------------------------------------------------- tidyverse 1.3.1 --\n",
      "\n",
      "\u001b[32mv\u001b[39m \u001b[34mggplot2\u001b[39m 3.3.5     \u001b[32mv\u001b[39m \u001b[34mpurrr  \u001b[39m 0.3.4\n",
      "\u001b[32mv\u001b[39m \u001b[34mtibble \u001b[39m 3.1.6     \u001b[32mv\u001b[39m \u001b[34mdplyr  \u001b[39m 1.0.7\n",
      "\u001b[32mv\u001b[39m \u001b[34mtidyr  \u001b[39m 1.1.4     \u001b[32mv\u001b[39m \u001b[34mstringr\u001b[39m 1.4.0\n",
      "\u001b[32mv\u001b[39m \u001b[34mreadr  \u001b[39m 2.1.1     \u001b[32mv\u001b[39m \u001b[34mforcats\u001b[39m 0.5.1\n",
      "\n",
      "-- \u001b[1mConflicts\u001b[22m ---------------------------------------------------------------------------------- tidyverse_conflicts() --\n",
      "\u001b[31mx\u001b[39m \u001b[34mdplyr\u001b[39m::\u001b[32mfilter()\u001b[39m masks \u001b[34mstats\u001b[39m::filter()\n",
      "\u001b[31mx\u001b[39m \u001b[34mdplyr\u001b[39m::\u001b[32mlag()\u001b[39m    masks \u001b[34mstats\u001b[39m::lag()\n",
      "\n"
     ]
    }
   ],
   "source": [
    "# Check whether you need to install the `tidyverse` library\n",
    "require(\"tidyverse\")\n",
    "library(tidyverse)"
   ]
  },
  {
   "cell_type": "markdown",
   "metadata": {},
   "source": [
    "## TASK: Standardize column names for all collected datasets\n"
   ]
  },
  {
   "cell_type": "markdown",
   "metadata": {},
   "source": [
    "In the previous data collection labs, you collected four datasets in csv format:\n",
    "\n",
    "*   `raw_bike_sharing_systems.csv`:  A list of active bike-sharing systems across the world\n",
    "*   `raw_cities_weather_forecast.csv`: 5-day weather forecasts for a list of cities, from OpenWeather API\n",
    "*   `raw_worldcities.csv`: A list of major cities' info (such as name, latitude and longitude) across the world\n",
    "*   `raw_seoul_bike_sharing.csv`: Weather information (Temperature, Humidity, Windspeed, Visibility, Dewpoint, Solar radiation, Snowfall, Rainfall), the number of bikes rented per hour, and date information, from Seoul bike-sharing systems\n"
   ]
  },
  {
   "cell_type": "markdown",
   "metadata": {},
   "source": [
    "*Optional:* If you had some difficulties finishing the data collection labs, you may download the datasets directly from the following URLs:\n"
   ]
  },
  {
   "cell_type": "code",
   "execution_count": 2,
   "metadata": {},
   "outputs": [],
   "source": [
    "# Download raw_bike_sharing_systems.csv\n",
    "url <- \"https://cf-courses-data.s3.us.cloud-object-storage.appdomain.cloud/IBMDeveloperSkillsNetwork-RP0321EN-SkillsNetwork/labs/datasets/raw_bike_sharing_systems.csv\"\n",
    "download.file(url, destfile = \"raw_bike_sharing_systems.csv\")\n",
    "\n",
    "# Download raw_cities_weather_forecast.csv\n",
    "url <- \"https://cf-courses-data.s3.us.cloud-object-storage.appdomain.cloud/IBMDeveloperSkillsNetwork-RP0321EN-SkillsNetwork/labs/datasets/raw_cities_weather_forecast.csv\"\n",
    "download.file(url, destfile = \"raw_cities_weather_forecast.csv\")\n",
    "\n",
    "# Download raw_worldcities.csv\n",
    "url <- \"https://cf-courses-data.s3.us.cloud-object-storage.appdomain.cloud/IBMDeveloperSkillsNetwork-RP0321EN-SkillsNetwork/labs/datasets/raw_worldcities.csv\"\n",
    "download.file(url, destfile = \"raw_worldcities.csv\")\n",
    "\n",
    "# Download raw_seoul_bike_sharing.csv\n",
    "url <- \"https://cf-courses-data.s3.us.cloud-object-storage.appdomain.cloud/IBMDeveloperSkillsNetwork-RP0321EN-SkillsNetwork/labs/datasets/raw_seoul_bike_sharing.csv\"\n",
    "download.file(url, destfile = \"raw_seoul_bike_sharing.csv\")"
   ]
  },
  {
   "cell_type": "markdown",
   "metadata": {},
   "source": [
    "To improve dataset readbility by both human and computer systems, we first need to standardize the column names of the datasets above using the following naming convention:\n",
    "\n",
    "*   Column names need to be UPPERCASE\n",
    "*   The word separator needs to be an underscore, such as in `COLUMN_NAME`\n"
   ]
  },
  {
   "cell_type": "markdown",
   "metadata": {},
   "source": [
    "You can use the following dataset list and the `names()` function to get and set each of their column names, and convert them according to our defined naming convention.\n"
   ]
  },
  {
   "cell_type": "code",
   "execution_count": 3,
   "metadata": {},
   "outputs": [],
   "source": [
    "dataset_list <- c('raw_bike_sharing_systems.csv', 'raw_seoul_bike_sharing.csv', 'raw_cities_weather_forecast.csv', 'raw_worldcities.csv')"
   ]
  },
  {
   "cell_type": "markdown",
   "metadata": {},
   "source": [
    "*TODO*: Write a `for` loop to iterate over the above datasets and convert their column names\n"
   ]
  },
  {
   "cell_type": "code",
   "execution_count": 5,
   "metadata": {},
   "outputs": [
    {
     "name": "stderr",
     "output_type": "stream",
     "text": [
      "\u001b[1mRows: \u001b[22m\u001b[34m480\u001b[39m \u001b[1mColumns: \u001b[22m\u001b[34m10\u001b[39m\n",
      "\n",
      "\u001b[36m--\u001b[39m \u001b[1mColumn specification\u001b[22m \u001b[36m------------------------------------------------------------------------------------------------\u001b[39m\n",
      "\u001b[1mDelimiter:\u001b[22m \",\"\n",
      "\u001b[31mchr\u001b[39m (10): COUNTRY, CITY, NAME, SYSTEM, OPERATOR, LAUNCHED, DISCONTINUED, STA...\n",
      "\n",
      "\n",
      "\u001b[36mi\u001b[39m Use \u001b[30m\u001b[47m\u001b[30m\u001b[47m`spec()`\u001b[47m\u001b[30m\u001b[49m\u001b[39m to retrieve the full column specification for this data.\n",
      "\u001b[36mi\u001b[39m Specify the column types or set \u001b[30m\u001b[47m\u001b[30m\u001b[47m`show_col_types = FALSE`\u001b[47m\u001b[30m\u001b[49m\u001b[39m to quiet this message.\n",
      "\n",
      "\u001b[1mRows: \u001b[22m\u001b[34m8760\u001b[39m \u001b[1mColumns: \u001b[22m\u001b[34m14\u001b[39m\n",
      "\n",
      "\u001b[36m--\u001b[39m \u001b[1mColumn specification\u001b[22m \u001b[36m------------------------------------------------------------------------------------------------\u001b[39m\n",
      "\u001b[1mDelimiter:\u001b[22m \",\"\n",
      "\u001b[31mchr\u001b[39m  (4): DATE, SEASONS, HOLIDAY, FUNCTIONING_DAY\n",
      "\u001b[32mdbl\u001b[39m (10): RENTED_BIKE_COUNT, HOUR, TEMPERATURE, HUMIDITY, WIND_SPEED, VISIBI...\n",
      "\n",
      "\n",
      "\u001b[36mi\u001b[39m Use \u001b[30m\u001b[47m\u001b[30m\u001b[47m`spec()`\u001b[47m\u001b[30m\u001b[49m\u001b[39m to retrieve the full column specification for this data.\n",
      "\u001b[36mi\u001b[39m Specify the column types or set \u001b[30m\u001b[47m\u001b[30m\u001b[47m`show_col_types = FALSE`\u001b[47m\u001b[30m\u001b[49m\u001b[39m to quiet this message.\n",
      "\n",
      "\u001b[1mRows: \u001b[22m\u001b[34m160\u001b[39m \u001b[1mColumns: \u001b[22m\u001b[34m12\u001b[39m\n",
      "\n",
      "\u001b[36m--\u001b[39m \u001b[1mColumn specification\u001b[22m \u001b[36m------------------------------------------------------------------------------------------------\u001b[39m\n",
      "\u001b[1mDelimiter:\u001b[22m \",\"\n",
      "\u001b[31mchr\u001b[39m  (3): CITY, WEATHER, SEASON\n",
      "\u001b[32mdbl\u001b[39m  (8): VISIBILITY, TEMP, TEMP_MIN, TEMP_MAX, PRESSURE, HUMIDITY, WIND_SPE...\n",
      "\u001b[34mdttm\u001b[39m (1): FORECAST_DATETIME\n",
      "\n",
      "\n",
      "\u001b[36mi\u001b[39m Use \u001b[30m\u001b[47m\u001b[30m\u001b[47m`spec()`\u001b[47m\u001b[30m\u001b[49m\u001b[39m to retrieve the full column specification for this data.\n",
      "\u001b[36mi\u001b[39m Specify the column types or set \u001b[30m\u001b[47m\u001b[30m\u001b[47m`show_col_types = FALSE`\u001b[47m\u001b[30m\u001b[49m\u001b[39m to quiet this message.\n",
      "\n",
      "\u001b[1mRows: \u001b[22m\u001b[34m26569\u001b[39m \u001b[1mColumns: \u001b[22m\u001b[34m11\u001b[39m\n",
      "\n",
      "\u001b[36m--\u001b[39m \u001b[1mColumn specification\u001b[22m \u001b[36m------------------------------------------------------------------------------------------------\u001b[39m\n",
      "\u001b[1mDelimiter:\u001b[22m \",\"\n",
      "\u001b[31mchr\u001b[39m (7): CITY, CITY_ASCII, COUNTRY, ISO2, ISO3, ADMIN_NAME, CAPITAL\n",
      "\u001b[32mdbl\u001b[39m (4): LAT, LNG, POPULATION, ID\n",
      "\n",
      "\n",
      "\u001b[36mi\u001b[39m Use \u001b[30m\u001b[47m\u001b[30m\u001b[47m`spec()`\u001b[47m\u001b[30m\u001b[49m\u001b[39m to retrieve the full column specification for this data.\n",
      "\u001b[36mi\u001b[39m Specify the column types or set \u001b[30m\u001b[47m\u001b[30m\u001b[47m`show_col_types = FALSE`\u001b[47m\u001b[30m\u001b[49m\u001b[39m to quiet this message.\n",
      "\n"
     ]
    }
   ],
   "source": [
    "for (dataset_name in dataset_list){\n",
    "    # Read dataset\n",
    "    \n",
    "    # 'show_col_types = FALSE' needs to part of the read_csv argument but encoding errors will occur with some of the data sets\n",
    "    dataset <- read_csv(dataset_name)\n",
    "    # Standardized its columns:\n",
    "      names(dataset) <- as.character(names(dataset))\n",
    "    # Convert all column names to uppercase\n",
    "     names(dataset) <- toupper(names(dataset))\n",
    "    # Replace any white space separators by underscores, using the str_replace_all function\n",
    "     names(dataset) <- str_replace_all(names(dataset), \" \", \"_\")\n",
    "    # Save the dataset \n",
    "        write.csv(dataset, dataset_name, row.names=FALSE)\n",
    "\n",
    "    }\n"
   ]
  },
  {
   "cell_type": "markdown",
   "metadata": {},
   "source": [
    "*TODO*: Read the resulting datasets back and check whether their column names follow the naming convention\n"
   ]
  },
  {
   "cell_type": "code",
   "execution_count": 23,
   "metadata": {},
   "outputs": [
    {
     "name": "stdout",
     "output_type": "stream",
     "text": [
      "[1] \"raw_bike_sharing_systems.csv\"\n",
      "     CITY            CITY_ASCII             LAT              LNG           \n",
      " Length:26569       Length:26569       Min.   :-54.93   Min.   :-179.5900  \n",
      " Class :character   Class :character   1st Qu.: 27.92   1st Qu.: -78.7794  \n",
      " Mode  :character   Mode  :character   Median : 40.22   Median :  -0.7689  \n",
      "                                       Mean   : 33.10   Mean   : -11.3639  \n",
      "                                       3rd Qu.: 47.99   3rd Qu.:  29.6833  \n",
      "                                       Max.   : 81.72   Max.   : 179.3667  \n",
      "                                                                           \n",
      "   COUNTRY              ISO2               ISO3            ADMIN_NAME       \n",
      " Length:26569       Length:26569       Length:26569       Length:26569      \n",
      " Class :character   Class :character   Class :character   Class :character  \n",
      " Mode  :character   Mode  :character   Mode  :character   Mode  :character  \n",
      "                                                                            \n",
      "                                                                            \n",
      "                                                                            \n",
      "                                                                            \n",
      "   CAPITAL            POPULATION             ID           \n",
      " Length:26569       Min.   :       0   Min.   :1.004e+09  \n",
      " Class :character   1st Qu.:    9246   1st Qu.:1.277e+09  \n",
      " Mode  :character   Median :   20080   Median :1.643e+09  \n",
      "                    Mean   :  162346   Mean   :1.556e+09  \n",
      "                    3rd Qu.:   59369   3rd Qu.:1.840e+09  \n",
      "                    Max.   :37977000   Max.   :1.934e+09  \n",
      "                    NA's   :973                           \n",
      "[1] \"raw_seoul_bike_sharing.csv\"\n",
      "     CITY            CITY_ASCII             LAT              LNG           \n",
      " Length:26569       Length:26569       Min.   :-54.93   Min.   :-179.5900  \n",
      " Class :character   Class :character   1st Qu.: 27.92   1st Qu.: -78.7794  \n",
      " Mode  :character   Mode  :character   Median : 40.22   Median :  -0.7689  \n",
      "                                       Mean   : 33.10   Mean   : -11.3639  \n",
      "                                       3rd Qu.: 47.99   3rd Qu.:  29.6833  \n",
      "                                       Max.   : 81.72   Max.   : 179.3667  \n",
      "                                                                           \n",
      "   COUNTRY              ISO2               ISO3            ADMIN_NAME       \n",
      " Length:26569       Length:26569       Length:26569       Length:26569      \n",
      " Class :character   Class :character   Class :character   Class :character  \n",
      " Mode  :character   Mode  :character   Mode  :character   Mode  :character  \n",
      "                                                                            \n",
      "                                                                            \n",
      "                                                                            \n",
      "                                                                            \n",
      "   CAPITAL            POPULATION             ID           \n",
      " Length:26569       Min.   :       0   Min.   :1.004e+09  \n",
      " Class :character   1st Qu.:    9246   1st Qu.:1.277e+09  \n",
      " Mode  :character   Median :   20080   Median :1.643e+09  \n",
      "                    Mean   :  162346   Mean   :1.556e+09  \n",
      "                    3rd Qu.:   59369   3rd Qu.:1.840e+09  \n",
      "                    Max.   :37977000   Max.   :1.934e+09  \n",
      "                    NA's   :973                           \n",
      "[1] \"raw_cities_weather_forecast.csv\"\n",
      "     CITY            CITY_ASCII             LAT              LNG           \n",
      " Length:26569       Length:26569       Min.   :-54.93   Min.   :-179.5900  \n",
      " Class :character   Class :character   1st Qu.: 27.92   1st Qu.: -78.7794  \n",
      " Mode  :character   Mode  :character   Median : 40.22   Median :  -0.7689  \n",
      "                                       Mean   : 33.10   Mean   : -11.3639  \n",
      "                                       3rd Qu.: 47.99   3rd Qu.:  29.6833  \n",
      "                                       Max.   : 81.72   Max.   : 179.3667  \n",
      "                                                                           \n",
      "   COUNTRY              ISO2               ISO3            ADMIN_NAME       \n",
      " Length:26569       Length:26569       Length:26569       Length:26569      \n",
      " Class :character   Class :character   Class :character   Class :character  \n",
      " Mode  :character   Mode  :character   Mode  :character   Mode  :character  \n",
      "                                                                            \n",
      "                                                                            \n",
      "                                                                            \n",
      "                                                                            \n",
      "   CAPITAL            POPULATION             ID           \n",
      " Length:26569       Min.   :       0   Min.   :1.004e+09  \n",
      " Class :character   1st Qu.:    9246   1st Qu.:1.277e+09  \n",
      " Mode  :character   Median :   20080   Median :1.643e+09  \n",
      "                    Mean   :  162346   Mean   :1.556e+09  \n",
      "                    3rd Qu.:   59369   3rd Qu.:1.840e+09  \n",
      "                    Max.   :37977000   Max.   :1.934e+09  \n",
      "                    NA's   :973                           \n",
      "[1] \"raw_worldcities.csv\"\n",
      "     CITY            CITY_ASCII             LAT              LNG           \n",
      " Length:26569       Length:26569       Min.   :-54.93   Min.   :-179.5900  \n",
      " Class :character   Class :character   1st Qu.: 27.92   1st Qu.: -78.7794  \n",
      " Mode  :character   Mode  :character   Median : 40.22   Median :  -0.7689  \n",
      "                                       Mean   : 33.10   Mean   : -11.3639  \n",
      "                                       3rd Qu.: 47.99   3rd Qu.:  29.6833  \n",
      "                                       Max.   : 81.72   Max.   : 179.3667  \n",
      "                                                                           \n",
      "   COUNTRY              ISO2               ISO3            ADMIN_NAME       \n",
      " Length:26569       Length:26569       Length:26569       Length:26569      \n",
      " Class :character   Class :character   Class :character   Class :character  \n",
      " Mode  :character   Mode  :character   Mode  :character   Mode  :character  \n",
      "                                                                            \n",
      "                                                                            \n",
      "                                                                            \n",
      "                                                                            \n",
      "   CAPITAL            POPULATION             ID           \n",
      " Length:26569       Min.   :       0   Min.   :1.004e+09  \n",
      " Class :character   1st Qu.:    9246   1st Qu.:1.277e+09  \n",
      " Mode  :character   Median :   20080   Median :1.643e+09  \n",
      "                    Mean   :  162346   Mean   :1.556e+09  \n",
      "                    3rd Qu.:   59369   3rd Qu.:1.840e+09  \n",
      "                    Max.   :37977000   Max.   :1.934e+09  \n",
      "                    NA's   :973                           \n"
     ]
    }
   ],
   "source": [
    "for (dataset_name in dataset_list){\n",
    "    # Print a summary for each data set to check whether the column names were correctly converted\n",
    "    print(dataset_name)\n",
    "    print(summary(dataset))\n",
    "}"
   ]
  },
  {
   "cell_type": "markdown",
   "metadata": {},
   "source": [
    "## Process the web-scraped bike sharing system dataset\n"
   ]
  },
  {
   "cell_type": "markdown",
   "metadata": {},
   "source": [
    "By now we have standardized all column names. Next, we will focus on cleaning up the values in the web-scraped bike sharing systems dataset.\n"
   ]
  },
  {
   "cell_type": "code",
   "execution_count": 24,
   "metadata": {},
   "outputs": [
    {
     "name": "stderr",
     "output_type": "stream",
     "text": [
      "\u001b[1mRows: \u001b[22m\u001b[34m480\u001b[39m \u001b[1mColumns: \u001b[22m\u001b[34m10\u001b[39m\n",
      "\n",
      "\u001b[36m--\u001b[39m \u001b[1mColumn specification\u001b[22m \u001b[36m------------------------------------------------------------------------------------------------\u001b[39m\n",
      "\u001b[1mDelimiter:\u001b[22m \",\"\n",
      "\u001b[31mchr\u001b[39m (10): COUNTRY, CITY, NAME, SYSTEM, OPERATOR, LAUNCHED, DISCONTINUED, STA...\n",
      "\n",
      "\n",
      "\u001b[36mi\u001b[39m Use \u001b[30m\u001b[47m\u001b[30m\u001b[47m`spec()`\u001b[47m\u001b[30m\u001b[49m\u001b[39m to retrieve the full column specification for this data.\n",
      "\u001b[36mi\u001b[39m Specify the column types or set \u001b[30m\u001b[47m\u001b[30m\u001b[47m`show_col_types = FALSE`\u001b[47m\u001b[30m\u001b[49m\u001b[39m to quiet this message.\n",
      "\n"
     ]
    }
   ],
   "source": [
    "# First load the dataset\n",
    "bike_sharing_df <- read_csv(\"raw_bike_sharing_systems.csv\")"
   ]
  },
  {
   "cell_type": "code",
   "execution_count": 87,
   "metadata": {},
   "outputs": [
    {
     "data": {
      "text/html": [
       "<table class=\"dataframe\">\n",
       "<caption>A tibble: 6 × 10</caption>\n",
       "<thead>\n",
       "\t<tr><th scope=col>COUNTRY</th><th scope=col>CITY</th><th scope=col>NAME</th><th scope=col>SYSTEM</th><th scope=col>OPERATOR</th><th scope=col>LAUNCHED</th><th scope=col>DISCONTINUED</th><th scope=col>STATIONS</th><th scope=col>BICYCLES</th><th scope=col>DAILY_RIDERSHIP</th></tr>\n",
       "\t<tr><th scope=col>&lt;chr&gt;</th><th scope=col>&lt;chr&gt;</th><th scope=col>&lt;chr&gt;</th><th scope=col>&lt;chr&gt;</th><th scope=col>&lt;chr&gt;</th><th scope=col>&lt;chr&gt;</th><th scope=col>&lt;chr&gt;</th><th scope=col>&lt;chr&gt;</th><th scope=col>&lt;chr&gt;</th><th scope=col>&lt;chr&gt;</th></tr>\n",
       "</thead>\n",
       "<tbody>\n",
       "\t<tr><td>Albania  </td><td>Tirana               </td><td>Ecovolis            </td><td>NA            </td><td>NA                            </td><td>March 2011      </td><td>NA                  </td><td>8  </td><td>200 </td><td>NA   </td></tr>\n",
       "\t<tr><td>Argentina</td><td>Mendoza              </td><td>Metrobici           </td><td>NA            </td><td>NA                            </td><td>2014            </td><td>NA                  </td><td>2  </td><td>40  </td><td>NA   </td></tr>\n",
       "\t<tr><td>Argentina</td><td>San Lorenzo, Santa Fe</td><td>Biciudad            </td><td>Biciudad      </td><td>NA                            </td><td>27 November 2016</td><td>NA                  </td><td>8  </td><td>80  </td><td>NA   </td></tr>\n",
       "\t<tr><td>Argentina</td><td>Buenos Aires         </td><td>Ecobici             </td><td>Serttel Brasil</td><td>Bike In Baires Consortium.[10]</td><td>2010            </td><td>NA                  </td><td>400</td><td>4000</td><td>21917</td></tr>\n",
       "\t<tr><td>Argentina</td><td>Rosario              </td><td>Mi Bici Tu Bici[11] </td><td>NA            </td><td>NA                            </td><td>2 December 2015 </td><td>NA                  </td><td>47 </td><td>480 </td><td>NA   </td></tr>\n",
       "\t<tr><td>Australia</td><td><span style=white-space:pre-wrap>Melbourne[12]        </span></td><td>Melbourne Bike Share</td><td><span style=white-space:pre-wrap>PBSC &amp; 8D     </span></td><td><span style=white-space:pre-wrap>Motivate                      </span></td><td><span style=white-space:pre-wrap>June 2010       </span></td><td>30 November 2019[13]</td><td>53 </td><td>676 </td><td><span style=white-space:pre-wrap>NA   </span></td></tr>\n",
       "</tbody>\n",
       "</table>\n"
      ],
      "text/latex": [
       "A tibble: 6 × 10\n",
       "\\begin{tabular}{llllllllll}\n",
       " COUNTRY & CITY & NAME & SYSTEM & OPERATOR & LAUNCHED & DISCONTINUED & STATIONS & BICYCLES & DAILY\\_RIDERSHIP\\\\\n",
       " <chr> & <chr> & <chr> & <chr> & <chr> & <chr> & <chr> & <chr> & <chr> & <chr>\\\\\n",
       "\\hline\n",
       "\t Albania   & Tirana                & Ecovolis             & NA             & NA                             & March 2011       & NA                   & 8   & 200  & NA   \\\\\n",
       "\t Argentina & Mendoza               & Metrobici            & NA             & NA                             & 2014             & NA                   & 2   & 40   & NA   \\\\\n",
       "\t Argentina & San Lorenzo, Santa Fe & Biciudad             & Biciudad       & NA                             & 27 November 2016 & NA                   & 8   & 80   & NA   \\\\\n",
       "\t Argentina & Buenos Aires          & Ecobici              & Serttel Brasil & Bike In Baires Consortium.{[}10{]} & 2010             & NA                   & 400 & 4000 & 21917\\\\\n",
       "\t Argentina & Rosario               & Mi Bici Tu Bici{[}11{]}  & NA             & NA                             & 2 December 2015  & NA                   & 47  & 480  & NA   \\\\\n",
       "\t Australia & Melbourne{[}12{]}         & Melbourne Bike Share & PBSC \\& 8D      & Motivate                       & June 2010        & 30 November 2019{[}13{]} & 53  & 676  & NA   \\\\\n",
       "\\end{tabular}\n"
      ],
      "text/markdown": [
       "\n",
       "A tibble: 6 × 10\n",
       "\n",
       "| COUNTRY &lt;chr&gt; | CITY &lt;chr&gt; | NAME &lt;chr&gt; | SYSTEM &lt;chr&gt; | OPERATOR &lt;chr&gt; | LAUNCHED &lt;chr&gt; | DISCONTINUED &lt;chr&gt; | STATIONS &lt;chr&gt; | BICYCLES &lt;chr&gt; | DAILY_RIDERSHIP &lt;chr&gt; |\n",
       "|---|---|---|---|---|---|---|---|---|---|\n",
       "| Albania   | Tirana                | Ecovolis             | NA             | NA                             | March 2011       | NA                   | 8   | 200  | NA    |\n",
       "| Argentina | Mendoza               | Metrobici            | NA             | NA                             | 2014             | NA                   | 2   | 40   | NA    |\n",
       "| Argentina | San Lorenzo, Santa Fe | Biciudad             | Biciudad       | NA                             | 27 November 2016 | NA                   | 8   | 80   | NA    |\n",
       "| Argentina | Buenos Aires          | Ecobici              | Serttel Brasil | Bike In Baires Consortium.[10] | 2010             | NA                   | 400 | 4000 | 21917 |\n",
       "| Argentina | Rosario               | Mi Bici Tu Bici[11]  | NA             | NA                             | 2 December 2015  | NA                   | 47  | 480  | NA    |\n",
       "| Australia | Melbourne[12]         | Melbourne Bike Share | PBSC &amp; 8D      | Motivate                       | June 2010        | 30 November 2019[13] | 53  | 676  | NA    |\n",
       "\n"
      ],
      "text/plain": [
       "  COUNTRY   CITY                  NAME                 SYSTEM        \n",
       "1 Albania   Tirana                Ecovolis             NA            \n",
       "2 Argentina Mendoza               Metrobici            NA            \n",
       "3 Argentina San Lorenzo, Santa Fe Biciudad             Biciudad      \n",
       "4 Argentina Buenos Aires          Ecobici              Serttel Brasil\n",
       "5 Argentina Rosario               Mi Bici Tu Bici[11]  NA            \n",
       "6 Australia Melbourne[12]         Melbourne Bike Share PBSC & 8D     \n",
       "  OPERATOR                       LAUNCHED         DISCONTINUED         STATIONS\n",
       "1 NA                             March 2011       NA                   8       \n",
       "2 NA                             2014             NA                   2       \n",
       "3 NA                             27 November 2016 NA                   8       \n",
       "4 Bike In Baires Consortium.[10] 2010             NA                   400     \n",
       "5 NA                             2 December 2015  NA                   47      \n",
       "6 Motivate                       June 2010        30 November 2019[13] 53      \n",
       "  BICYCLES DAILY_RIDERSHIP\n",
       "1 200      NA             \n",
       "2 40       NA             \n",
       "3 80       NA             \n",
       "4 4000     21917          \n",
       "5 480      NA             \n",
       "6 676      NA             "
      ]
     },
     "metadata": {},
     "output_type": "display_data"
    }
   ],
   "source": [
    "# Print its head\n",
    "head(bike_sharing_df)"
   ]
  },
  {
   "cell_type": "markdown",
   "metadata": {},
   "source": [
    "Even from the first few rows, you can see there is plenty of undesireable embedded textual content, such as the reference link included in `Melbourne[12]`.\n"
   ]
  },
  {
   "cell_type": "markdown",
   "metadata": {},
   "source": [
    "In this project, let's only focus on processing the following revelant columns (feel free to process the other columns for more practice):\n",
    "\n",
    "*   `COUNTRY`: Country name\n",
    "*   `CITY`: City name\n",
    "*   `SYSTEM`: Bike-sharing system name\n",
    "*   `BICYCLES`: Total number of bikes in the system\n"
   ]
  },
  {
   "cell_type": "code",
   "execution_count": 26,
   "metadata": {},
   "outputs": [],
   "source": [
    "# Select the four columns\n",
    "sub_bike_sharing_df <- bike_sharing_df %>% select(COUNTRY, CITY, SYSTEM, BICYCLES)"
   ]
  },
  {
   "cell_type": "markdown",
   "metadata": {},
   "source": [
    "Let's see the types of the selected columns\n"
   ]
  },
  {
   "cell_type": "code",
   "execution_count": 31,
   "metadata": {},
   "outputs": [
    {
     "data": {
      "text/html": [
       "<table class=\"dataframe\">\n",
       "<caption>A tibble: 4 × 2</caption>\n",
       "<thead>\n",
       "\t<tr><th scope=col>variable</th><th scope=col>class</th></tr>\n",
       "\t<tr><th scope=col>&lt;chr&gt;</th><th scope=col>&lt;chr&gt;</th></tr>\n",
       "</thead>\n",
       "<tbody>\n",
       "\t<tr><td>COUNTRY </td><td>character</td></tr>\n",
       "\t<tr><td>CITY    </td><td>character</td></tr>\n",
       "\t<tr><td>SYSTEM  </td><td>character</td></tr>\n",
       "\t<tr><td>BICYCLES</td><td>character</td></tr>\n",
       "</tbody>\n",
       "</table>\n"
      ],
      "text/latex": [
       "A tibble: 4 × 2\n",
       "\\begin{tabular}{ll}\n",
       " variable & class\\\\\n",
       " <chr> & <chr>\\\\\n",
       "\\hline\n",
       "\t COUNTRY  & character\\\\\n",
       "\t CITY     & character\\\\\n",
       "\t SYSTEM   & character\\\\\n",
       "\t BICYCLES & character\\\\\n",
       "\\end{tabular}\n"
      ],
      "text/markdown": [
       "\n",
       "A tibble: 4 × 2\n",
       "\n",
       "| variable &lt;chr&gt; | class &lt;chr&gt; |\n",
       "|---|---|\n",
       "| COUNTRY  | character |\n",
       "| CITY     | character |\n",
       "| SYSTEM   | character |\n",
       "| BICYCLES | character |\n",
       "\n"
      ],
      "text/plain": [
       "  variable class    \n",
       "1 COUNTRY  character\n",
       "2 CITY     character\n",
       "3 SYSTEM   character\n",
       "4 BICYCLES character"
      ]
     },
     "metadata": {},
     "output_type": "display_data"
    }
   ],
   "source": [
    "sub_bike_sharing_df %>% \n",
    "    summarize_all(class) %>%\n",
    "    gather(variable, class)"
   ]
  },
  {
   "cell_type": "markdown",
   "metadata": {},
   "source": [
    "They are all interpreted as character columns, but we expect the `BICYCLES` column to be of numeric type. Let's see why it wasn't loaded as a numeric column - possibly some entries contain characters. Let's create a simple function called `find_character` to check that.\n"
   ]
  },
  {
   "cell_type": "code",
   "execution_count": 42,
   "metadata": {},
   "outputs": [],
   "source": [
    "# grepl searches a string for non-digital characters, and returns TRUE or FALSE\n",
    "# if it finds any non-digital characters, then the bicyle column is not purely numeric\n",
    "find_character <- function(strings) grepl(\"[^0-9]\", strings)"
   ]
  },
  {
   "cell_type": "markdown",
   "metadata": {},
   "source": [
    "Let's try to find any elements in the `Bicycles` column containing non-numeric characters.\n"
   ]
  },
  {
   "cell_type": "code",
   "execution_count": 41,
   "metadata": {},
   "outputs": [
    {
     "data": {
      "text/html": [
       "<table class=\"dataframe\">\n",
       "<caption>A tibble: 10 × 1</caption>\n",
       "<thead>\n",
       "\t<tr><th scope=col>BICYCLES</th></tr>\n",
       "\t<tr><th scope=col>&lt;chr&gt;</th></tr>\n",
       "</thead>\n",
       "<tbody>\n",
       "\t<tr><td>4115[22]                  </td></tr>\n",
       "\t<tr><td>310[59]                   </td></tr>\n",
       "\t<tr><td>500[72]                   </td></tr>\n",
       "\t<tr><td>[75]                      </td></tr>\n",
       "\t<tr><td>180[76]                   </td></tr>\n",
       "\t<tr><td>600[77]                   </td></tr>\n",
       "\t<tr><td>[78]                      </td></tr>\n",
       "\t<tr><td>initially 800 (later 2500)</td></tr>\n",
       "\t<tr><td>100 (220)                 </td></tr>\n",
       "\t<tr><td>370[114]                  </td></tr>\n",
       "</tbody>\n",
       "</table>\n"
      ],
      "text/latex": [
       "A tibble: 10 × 1\n",
       "\\begin{tabular}{l}\n",
       " BICYCLES\\\\\n",
       " <chr>\\\\\n",
       "\\hline\n",
       "\t 4115{[}22{]}                  \\\\\n",
       "\t 310{[}59{]}                   \\\\\n",
       "\t 500{[}72{]}                   \\\\\n",
       "\t {[}75{]}                      \\\\\n",
       "\t 180{[}76{]}                   \\\\\n",
       "\t 600{[}77{]}                   \\\\\n",
       "\t {[}78{]}                      \\\\\n",
       "\t initially 800 (later 2500)\\\\\n",
       "\t 100 (220)                 \\\\\n",
       "\t 370{[}114{]}                  \\\\\n",
       "\\end{tabular}\n"
      ],
      "text/markdown": [
       "\n",
       "A tibble: 10 × 1\n",
       "\n",
       "| BICYCLES &lt;chr&gt; |\n",
       "|---|\n",
       "| 4115[22]                   |\n",
       "| 310[59]                    |\n",
       "| 500[72]                    |\n",
       "| [75]                       |\n",
       "| 180[76]                    |\n",
       "| 600[77]                    |\n",
       "| [78]                       |\n",
       "| initially 800 (later 2500) |\n",
       "| 100 (220)                  |\n",
       "| 370[114]                   |\n",
       "\n"
      ],
      "text/plain": [
       "   BICYCLES                  \n",
       "1  4115[22]                  \n",
       "2  310[59]                   \n",
       "3  500[72]                   \n",
       "4  [75]                      \n",
       "5  180[76]                   \n",
       "6  600[77]                   \n",
       "7  [78]                      \n",
       "8  initially 800 (later 2500)\n",
       "9  100 (220)                 \n",
       "10 370[114]                  "
      ]
     },
     "metadata": {},
     "output_type": "display_data"
    }
   ],
   "source": [
    "sub_bike_sharing_df %>% \n",
    "    select(BICYCLES) %>% \n",
    "    filter(find_character(BICYCLES)) %>%\n",
    "    slice(0:10)"
   ]
  },
  {
   "cell_type": "markdown",
   "metadata": {},
   "source": [
    "As you can see, many rows have non-numeric characters, such as `32 (including 6 rollers) [162]` and `1000[253]`. This is actually very common for a table scraped from Wiki when no input validation is enforced.\n",
    "\n",
    "Later, you will use regular expressions to clean them up.\n"
   ]
  },
  {
   "cell_type": "markdown",
   "metadata": {},
   "source": [
    "Next, let's take a look at the other columns, namely `COUNTRY`, `CITY`, and `SYSTEM`, to see if they contain any undesired reference links, such as in `Melbourne[12]`.\n"
   ]
  },
  {
   "cell_type": "code",
   "execution_count": 43,
   "metadata": {},
   "outputs": [],
   "source": [
    "# Define a 'reference link' character class, \n",
    "# `[A-z0-9]` means at least one character \n",
    "# `\\\\[` and `\\\\]` means the character is wrapped by [], such as for [12] or [abc]\n",
    "ref_pattern <- \"\\\\[[A-z0-9]+\\\\]\" # or \"\\\\[[\\\\w]+\\\\]\"\n",
    "find_reference_pattern <- function(strings) grepl(ref_pattern, strings)"
   ]
  },
  {
   "cell_type": "code",
   "execution_count": 45,
   "metadata": {},
   "outputs": [
    {
     "data": {
      "text/html": [
       "<table class=\"dataframe\">\n",
       "<caption>A tibble: 0 × 1</caption>\n",
       "<thead>\n",
       "\t<tr><th scope=col>COUNTRY</th></tr>\n",
       "\t<tr><th scope=col>&lt;chr&gt;</th></tr>\n",
       "</thead>\n",
       "<tbody>\n",
       "</tbody>\n",
       "</table>\n"
      ],
      "text/latex": [
       "A tibble: 0 × 1\n",
       "\\begin{tabular}{l}\n",
       " COUNTRY\\\\\n",
       " <chr>\\\\\n",
       "\\hline\n",
       "\\end{tabular}\n"
      ],
      "text/markdown": [
       "\n",
       "A tibble: 0 × 1\n",
       "\n",
       "| COUNTRY &lt;chr&gt; |\n",
       "|---|\n",
       "\n"
      ],
      "text/plain": [
       "     COUNTRY"
      ]
     },
     "metadata": {},
     "output_type": "display_data"
    }
   ],
   "source": [
    "# Check whether the COUNTRY column has any reference links\n",
    "sub_bike_sharing_df %>% \n",
    "    select(COUNTRY) %>% \n",
    "    filter(find_reference_pattern(COUNTRY)) %>%\n",
    "    slice(0:10)"
   ]
  },
  {
   "cell_type": "markdown",
   "metadata": {},
   "source": [
    "Ok, looks like the `COUNTRY` column is clean. Let's check the `CITY` column.\n"
   ]
  },
  {
   "cell_type": "code",
   "execution_count": 46,
   "metadata": {},
   "outputs": [
    {
     "data": {
      "text/html": [
       "<table class=\"dataframe\">\n",
       "<caption>A tibble: 10 × 1</caption>\n",
       "<thead>\n",
       "\t<tr><th scope=col>CITY</th></tr>\n",
       "\t<tr><th scope=col>&lt;chr&gt;</th></tr>\n",
       "</thead>\n",
       "<tbody>\n",
       "\t<tr><td>Melbourne[12]        </td></tr>\n",
       "\t<tr><td>Brisbane[14][15]     </td></tr>\n",
       "\t<tr><td>Lower Austria[18]    </td></tr>\n",
       "\t<tr><td>Namur[19]            </td></tr>\n",
       "\t<tr><td>Brussels[21]         </td></tr>\n",
       "\t<tr><td>Salvador[23]         </td></tr>\n",
       "\t<tr><td>Belo Horizonte[24]   </td></tr>\n",
       "\t<tr><td><span style=white-space:pre-wrap>Jo&lt;e3&gt;o Pessoa[25]   </span></td></tr>\n",
       "\t<tr><td>(Pedro de) Toledo[26]</td></tr>\n",
       "\t<tr><td>Rio de Janeiro[27]   </td></tr>\n",
       "</tbody>\n",
       "</table>\n"
      ],
      "text/latex": [
       "A tibble: 10 × 1\n",
       "\\begin{tabular}{l}\n",
       " CITY\\\\\n",
       " <chr>\\\\\n",
       "\\hline\n",
       "\t Melbourne{[}12{]}        \\\\\n",
       "\t Brisbane{[}14{]}{[}15{]}     \\\\\n",
       "\t Lower Austria{[}18{]}    \\\\\n",
       "\t Namur{[}19{]}            \\\\\n",
       "\t Brussels{[}21{]}         \\\\\n",
       "\t Salvador{[}23{]}         \\\\\n",
       "\t Belo Horizonte{[}24{]}   \\\\\n",
       "\t Jo<e3>o Pessoa{[}25{]}   \\\\\n",
       "\t (Pedro de) Toledo{[}26{]}\\\\\n",
       "\t Rio de Janeiro{[}27{]}   \\\\\n",
       "\\end{tabular}\n"
      ],
      "text/markdown": [
       "\n",
       "A tibble: 10 × 1\n",
       "\n",
       "| CITY &lt;chr&gt; |\n",
       "|---|\n",
       "| Melbourne[12]         |\n",
       "| Brisbane[14][15]      |\n",
       "| Lower Austria[18]     |\n",
       "| Namur[19]             |\n",
       "| Brussels[21]          |\n",
       "| Salvador[23]          |\n",
       "| Belo Horizonte[24]    |\n",
       "| Jo&lt;e3&gt;o Pessoa[25]    |\n",
       "| (Pedro de) Toledo[26] |\n",
       "| Rio de Janeiro[27]    |\n",
       "\n"
      ],
      "text/plain": [
       "   CITY                 \n",
       "1  Melbourne[12]        \n",
       "2  Brisbane[14][15]     \n",
       "3  Lower Austria[18]    \n",
       "4  Namur[19]            \n",
       "5  Brussels[21]         \n",
       "6  Salvador[23]         \n",
       "7  Belo Horizonte[24]   \n",
       "8  Jo<e3>o Pessoa[25]   \n",
       "9  (Pedro de) Toledo[26]\n",
       "10 Rio de Janeiro[27]   "
      ]
     },
     "metadata": {},
     "output_type": "display_data"
    }
   ],
   "source": [
    "# Check whether the CITY column has any reference links\n",
    "sub_bike_sharing_df %>% \n",
    "    select(CITY) %>% \n",
    "    filter(find_reference_pattern(CITY)) %>%\n",
    "    slice(0:10)"
   ]
  },
  {
   "cell_type": "markdown",
   "metadata": {},
   "source": [
    "Hmm, looks like the `CITY` column has some reference links to be removed. Next, let's check the `SYSTEM` column.\n"
   ]
  },
  {
   "cell_type": "code",
   "execution_count": 63,
   "metadata": {},
   "outputs": [
    {
     "data": {
      "text/html": [
       "<table class=\"dataframe\">\n",
       "<caption>A tibble: 7 × 1</caption>\n",
       "<thead>\n",
       "\t<tr><th scope=col>SYSTEM</th></tr>\n",
       "\t<tr><th scope=col>&lt;chr&gt;</th></tr>\n",
       "</thead>\n",
       "<tbody>\n",
       "\t<tr><td>EasyBike[58]                     </td></tr>\n",
       "\t<tr><td>4 Gen.[61]                       </td></tr>\n",
       "\t<tr><td>3 Gen. SmooveKey[113]            </td></tr>\n",
       "\t<tr><td>3 Gen. Smoove[141][142][143][139]</td></tr>\n",
       "\t<tr><td>3 Gen. Smoove[179]               </td></tr>\n",
       "\t<tr><td>3 Gen. Smoove[181]               </td></tr>\n",
       "\t<tr><td>3 Gen. Smoove[183]               </td></tr>\n",
       "</tbody>\n",
       "</table>\n"
      ],
      "text/latex": [
       "A tibble: 7 × 1\n",
       "\\begin{tabular}{l}\n",
       " SYSTEM\\\\\n",
       " <chr>\\\\\n",
       "\\hline\n",
       "\t EasyBike{[}58{]}                     \\\\\n",
       "\t 4 Gen.{[}61{]}                       \\\\\n",
       "\t 3 Gen. SmooveKey{[}113{]}            \\\\\n",
       "\t 3 Gen. Smoove{[}141{]}{[}142{]}{[}143{]}{[}139{]}\\\\\n",
       "\t 3 Gen. Smoove{[}179{]}               \\\\\n",
       "\t 3 Gen. Smoove{[}181{]}               \\\\\n",
       "\t 3 Gen. Smoove{[}183{]}               \\\\\n",
       "\\end{tabular}\n"
      ],
      "text/markdown": [
       "\n",
       "A tibble: 7 × 1\n",
       "\n",
       "| SYSTEM &lt;chr&gt; |\n",
       "|---|\n",
       "| EasyBike[58]                      |\n",
       "| 4 Gen.[61]                        |\n",
       "| 3 Gen. SmooveKey[113]             |\n",
       "| 3 Gen. Smoove[141][142][143][139] |\n",
       "| 3 Gen. Smoove[179]                |\n",
       "| 3 Gen. Smoove[181]                |\n",
       "| 3 Gen. Smoove[183]                |\n",
       "\n"
      ],
      "text/plain": [
       "  SYSTEM                           \n",
       "1 EasyBike[58]                     \n",
       "2 4 Gen.[61]                       \n",
       "3 3 Gen. SmooveKey[113]            \n",
       "4 3 Gen. Smoove[141][142][143][139]\n",
       "5 3 Gen. Smoove[179]               \n",
       "6 3 Gen. Smoove[181]               \n",
       "7 3 Gen. Smoove[183]               "
      ]
     },
     "metadata": {},
     "output_type": "display_data"
    }
   ],
   "source": [
    "# Check whether the System column has any reference links\n",
    "sub_bike_sharing_df %>% \n",
    "    select(SYSTEM) %>% \n",
    "    filter(find_reference_pattern(SYSTEM))"
   ]
  },
  {
   "cell_type": "markdown",
   "metadata": {},
   "source": [
    "So the `SYSTEM` column also has some reference links.\n"
   ]
  },
  {
   "cell_type": "markdown",
   "metadata": {},
   "source": [
    "After some preliminary investigations, we identified that the `CITY` and `SYSTEM` columns have some undesired reference links, and the `BICYCLES` column has both reference links and some\n",
    "textual annotations.\n",
    "\n",
    "Next, you need to use regular expressions to clean up the unexpected reference links and text annotations in numeric values.\n"
   ]
  },
  {
   "cell_type": "markdown",
   "metadata": {},
   "source": [
    "# TASK: Remove undesired reference links using regular expressions\n"
   ]
  },
  {
   "cell_type": "markdown",
   "metadata": {},
   "source": [
    "*TODO:* Write a custom function using `stringr::str_replace_all` to replace all reference links with an empty character for columns `CITY` and `SYSTEM`\n"
   ]
  },
  {
   "cell_type": "code",
   "execution_count": 79,
   "metadata": {},
   "outputs": [],
   "source": [
    "# remove reference link\n",
    "remove_ref <- function(strings) {\n",
    "    ref_pattern <- \"\\\\[[A-z0-9]+\\\\]\"\n",
    "    # Replace all matched substrings with a white space using str_replace_all()\n",
    "    result <- str_replace_all(strings, ref_pattern, \" \")\n",
    "    # Trim the reslt if you want\n",
    "    trimws(result)\n",
    "    # return(result)\n",
    "    return(result)\n",
    "}"
   ]
  },
  {
   "cell_type": "markdown",
   "metadata": {},
   "source": [
    "*TODO:* Use the `dplyr::mutate()` function to apply the `remove_ref` function to the `CITY` and `SYSTEM` columns\n"
   ]
  },
  {
   "cell_type": "code",
   "execution_count": 80,
   "metadata": {},
   "outputs": [],
   "source": [
    "# sub_bike_sharing_df %>% mutate(column1=remove_ref(column1), ... )\n",
    "\n",
    "result <- sub_bike_sharing_df %>% mutate(CITY = remove_ref(CITY), SYSTEM = remove_ref(SYSTEM))"
   ]
  },
  {
   "cell_type": "markdown",
   "metadata": {},
   "source": [
    "*TODO:* Use the following code to check whether all reference links are removed:\n"
   ]
  },
  {
   "cell_type": "code",
   "execution_count": 81,
   "metadata": {},
   "outputs": [
    {
     "data": {
      "text/html": [
       "<table class=\"dataframe\">\n",
       "<caption>A tibble: 25 × 3</caption>\n",
       "<thead>\n",
       "\t<tr><th scope=col>CITY</th><th scope=col>SYSTEM</th><th scope=col>BICYCLES</th></tr>\n",
       "\t<tr><th scope=col>&lt;chr&gt;</th><th scope=col>&lt;chr&gt;</th><th scope=col>&lt;chr&gt;</th></tr>\n",
       "</thead>\n",
       "<tbody>\n",
       "\t<tr><td>Brussels                                                                               </td><td>3 Gen. Cyclocity               </td><td>4115[22]                       </td></tr>\n",
       "\t<tr><td>Limassol (&amp; Agios Dometios, Aglandjia, Dali, Engomi, Latsia, Pallouriotissa, Strovolos)</td><td><span style=white-space:pre-wrap>3 Gen. Smoove                  </span></td><td><span style=white-space:pre-wrap>310[59]                        </span></td></tr>\n",
       "\t<tr><td>Prague                                                                                 </td><td>NA                             </td><td>500[72]                        </td></tr>\n",
       "\t<tr><td>Prague 7                                                                               </td><td>4 Gen. Ofo                     </td><td>[75]                           </td></tr>\n",
       "\t<tr><td>Prostejov                                                                              </td><td>3 Gen. nextbike                </td><td>180[76]                        </td></tr>\n",
       "\t<tr><td>Ostrava                                                                                </td><td>3 Gen. nextbike                </td><td>600[77]                        </td></tr>\n",
       "\t<tr><td><span style=white-space:pre-wrap>Fars&lt;f8&gt;                                                                               </span></td><td><span style=white-space:pre-wrap>2 Gen                          </span></td><td><span style=white-space:pre-wrap>[78]                           </span></td></tr>\n",
       "\t<tr><td>Batumi                                                                                 </td><td>3 Gen. SmooveKey               </td><td>370[114]                       </td></tr>\n",
       "\t<tr><td><span style=white-space:pre-wrap>Darmstadt                                                                              </span></td><td><span style=white-space:pre-wrap>3 &amp; 4 Gen. Call a Bike flex    </span></td><td><span style=white-space:pre-wrap>350 [125]                      </span></td></tr>\n",
       "\t<tr><td>Corfu                                                                                  </td><td>3 Gen. Smoove                  </td><td>100[58]                        </td></tr>\n",
       "\t<tr><td>Budapest                                                                               </td><td>3 Gen.                         </td><td>1526[159]                      </td></tr>\n",
       "\t<tr><td>Gyor                                                                                   </td><td>NA                             </td><td>180[161]                       </td></tr>\n",
       "\t<tr><td><span style=white-space:pre-wrap>Kaposv&lt;e1&gt;r                                                                            </span></td><td><span style=white-space:pre-wrap>NA                             </span></td><td><span style=white-space:pre-wrap>32 (including 6 rollers)  [162]</span></td></tr>\n",
       "\t<tr><td>Milan                                                                                  </td><td>3 Gen. Clear CC                </td><td>4650 (1000 E)[174]             </td></tr>\n",
       "\t<tr><td>Towns and cities in the Netherlands: all over the country, mainly at railway stations  </td><td>OV-Fiets/Nederlandse Spoorwegen</td><td>21700 [187]                    </td></tr>\n",
       "\t<tr><td>Kazan                                                                                  </td><td>3 Gen. Cyclocity               </td><td>120[206]                       </td></tr>\n",
       "\t<tr><td>Bratislava                                                                             </td><td>NA                             </td><td>400[208]                       </td></tr>\n",
       "\t<tr><td><span style=white-space:pre-wrap>Ko&lt;U+009A&gt;ice                                                                          </span></td><td><span style=white-space:pre-wrap>NA                             </span></td><td><span style=white-space:pre-wrap>200[212]                       </span></td></tr>\n",
       "\t<tr><td>Moldava nad Bodvou                                                                     </td><td>NA                             </td><td>25[214]                        </td></tr>\n",
       "\t<tr><td>Poprad                                                                                 </td><td>NA                             </td><td>85[217]                        </td></tr>\n",
       "\t<tr><td><span style=white-space:pre-wrap>&lt;U+008E&gt;ilina                                                                          </span></td><td><span style=white-space:pre-wrap>nextbike                       </span></td><td><span style=white-space:pre-wrap>120[221]                       </span></td></tr>\n",
       "\t<tr><td>Changwon                                                                               </td><td>NA                             </td><td>2348[230]                      </td></tr>\n",
       "\t<tr><td>Glasgow (Scotland)                                                                     </td><td>3 Gen. nextbike                </td><td>400[251]                       </td></tr>\n",
       "\t<tr><td>Edinburgh (Scotland)                                                                   </td><td>Urban Sharing                  </td><td>500[252]                       </td></tr>\n",
       "\t<tr><td>Liverpool (England)                                                                    </td><td>NA                             </td><td>1000[253]                      </td></tr>\n",
       "</tbody>\n",
       "</table>\n"
      ],
      "text/latex": [
       "A tibble: 25 × 3\n",
       "\\begin{tabular}{lll}\n",
       " CITY & SYSTEM & BICYCLES\\\\\n",
       " <chr> & <chr> & <chr>\\\\\n",
       "\\hline\n",
       "\t Brussels                                                                                & 3 Gen. Cyclocity                & 4115{[}22{]}                       \\\\\n",
       "\t Limassol (\\& Agios Dometios, Aglandjia, Dali, Engomi, Latsia, Pallouriotissa, Strovolos) & 3 Gen. Smoove                   & 310{[}59{]}                        \\\\\n",
       "\t Prague                                                                                  & NA                              & 500{[}72{]}                        \\\\\n",
       "\t Prague 7                                                                                & 4 Gen. Ofo                      & {[}75{]}                           \\\\\n",
       "\t Prostejov                                                                               & 3 Gen. nextbike                 & 180{[}76{]}                        \\\\\n",
       "\t Ostrava                                                                                 & 3 Gen. nextbike                 & 600{[}77{]}                        \\\\\n",
       "\t Fars<f8>                                                                                & 2 Gen                           & {[}78{]}                           \\\\\n",
       "\t Batumi                                                                                  & 3 Gen. SmooveKey                & 370{[}114{]}                       \\\\\n",
       "\t Darmstadt                                                                               & 3 \\& 4 Gen. Call a Bike flex     & 350 {[}125{]}                      \\\\\n",
       "\t Corfu                                                                                   & 3 Gen. Smoove                   & 100{[}58{]}                        \\\\\n",
       "\t Budapest                                                                                & 3 Gen.                          & 1526{[}159{]}                      \\\\\n",
       "\t Gyor                                                                                    & NA                              & 180{[}161{]}                       \\\\\n",
       "\t Kaposv<e1>r                                                                             & NA                              & 32 (including 6 rollers)  {[}162{]}\\\\\n",
       "\t Milan                                                                                   & 3 Gen. Clear CC                 & 4650 (1000 E){[}174{]}             \\\\\n",
       "\t Towns and cities in the Netherlands: all over the country, mainly at railway stations   & OV-Fiets/Nederlandse Spoorwegen & 21700 {[}187{]}                    \\\\\n",
       "\t Kazan                                                                                   & 3 Gen. Cyclocity                & 120{[}206{]}                       \\\\\n",
       "\t Bratislava                                                                              & NA                              & 400{[}208{]}                       \\\\\n",
       "\t Ko<U+009A>ice                                                                           & NA                              & 200{[}212{]}                       \\\\\n",
       "\t Moldava nad Bodvou                                                                      & NA                              & 25{[}214{]}                        \\\\\n",
       "\t Poprad                                                                                  & NA                              & 85{[}217{]}                        \\\\\n",
       "\t <U+008E>ilina                                                                           & nextbike                        & 120{[}221{]}                       \\\\\n",
       "\t Changwon                                                                                & NA                              & 2348{[}230{]}                      \\\\\n",
       "\t Glasgow (Scotland)                                                                      & 3 Gen. nextbike                 & 400{[}251{]}                       \\\\\n",
       "\t Edinburgh (Scotland)                                                                    & Urban Sharing                   & 500{[}252{]}                       \\\\\n",
       "\t Liverpool (England)                                                                     & NA                              & 1000{[}253{]}                      \\\\\n",
       "\\end{tabular}\n"
      ],
      "text/markdown": [
       "\n",
       "A tibble: 25 × 3\n",
       "\n",
       "| CITY &lt;chr&gt; | SYSTEM &lt;chr&gt; | BICYCLES &lt;chr&gt; |\n",
       "|---|---|---|\n",
       "| Brussels                                                                                | 3 Gen. Cyclocity                | 4115[22]                        |\n",
       "| Limassol (&amp; Agios Dometios, Aglandjia, Dali, Engomi, Latsia, Pallouriotissa, Strovolos) | 3 Gen. Smoove                   | 310[59]                         |\n",
       "| Prague                                                                                  | NA                              | 500[72]                         |\n",
       "| Prague 7                                                                                | 4 Gen. Ofo                      | [75]                            |\n",
       "| Prostejov                                                                               | 3 Gen. nextbike                 | 180[76]                         |\n",
       "| Ostrava                                                                                 | 3 Gen. nextbike                 | 600[77]                         |\n",
       "| Fars&lt;f8&gt;                                                                                | 2 Gen                           | [78]                            |\n",
       "| Batumi                                                                                  | 3 Gen. SmooveKey                | 370[114]                        |\n",
       "| Darmstadt                                                                               | 3 &amp; 4 Gen. Call a Bike flex     | 350 [125]                       |\n",
       "| Corfu                                                                                   | 3 Gen. Smoove                   | 100[58]                         |\n",
       "| Budapest                                                                                | 3 Gen.                          | 1526[159]                       |\n",
       "| Gyor                                                                                    | NA                              | 180[161]                        |\n",
       "| Kaposv&lt;e1&gt;r                                                                             | NA                              | 32 (including 6 rollers)  [162] |\n",
       "| Milan                                                                                   | 3 Gen. Clear CC                 | 4650 (1000 E)[174]              |\n",
       "| Towns and cities in the Netherlands: all over the country, mainly at railway stations   | OV-Fiets/Nederlandse Spoorwegen | 21700 [187]                     |\n",
       "| Kazan                                                                                   | 3 Gen. Cyclocity                | 120[206]                        |\n",
       "| Bratislava                                                                              | NA                              | 400[208]                        |\n",
       "| Ko&lt;U+009A&gt;ice                                                                           | NA                              | 200[212]                        |\n",
       "| Moldava nad Bodvou                                                                      | NA                              | 25[214]                         |\n",
       "| Poprad                                                                                  | NA                              | 85[217]                         |\n",
       "| &lt;U+008E&gt;ilina                                                                           | nextbike                        | 120[221]                        |\n",
       "| Changwon                                                                                | NA                              | 2348[230]                       |\n",
       "| Glasgow (Scotland)                                                                      | 3 Gen. nextbike                 | 400[251]                        |\n",
       "| Edinburgh (Scotland)                                                                    | Urban Sharing                   | 500[252]                        |\n",
       "| Liverpool (England)                                                                     | NA                              | 1000[253]                       |\n",
       "\n"
      ],
      "text/plain": [
       "   CITY                                                                                   \n",
       "1  Brussels                                                                               \n",
       "2  Limassol (& Agios Dometios, Aglandjia, Dali, Engomi, Latsia, Pallouriotissa, Strovolos)\n",
       "3  Prague                                                                                 \n",
       "4  Prague 7                                                                               \n",
       "5  Prostejov                                                                              \n",
       "6  Ostrava                                                                                \n",
       "7  Fars<f8>                                                                               \n",
       "8  Batumi                                                                                 \n",
       "9  Darmstadt                                                                              \n",
       "10 Corfu                                                                                  \n",
       "11 Budapest                                                                               \n",
       "12 Gyor                                                                                   \n",
       "13 Kaposv<e1>r                                                                            \n",
       "14 Milan                                                                                  \n",
       "15 Towns and cities in the Netherlands: all over the country, mainly at railway stations  \n",
       "16 Kazan                                                                                  \n",
       "17 Bratislava                                                                             \n",
       "18 Ko<U+009A>ice                                                                          \n",
       "19 Moldava nad Bodvou                                                                     \n",
       "20 Poprad                                                                                 \n",
       "21 <U+008E>ilina                                                                          \n",
       "22 Changwon                                                                               \n",
       "23 Glasgow (Scotland)                                                                     \n",
       "24 Edinburgh (Scotland)                                                                   \n",
       "25 Liverpool (England)                                                                    \n",
       "   SYSTEM                          BICYCLES                       \n",
       "1  3 Gen. Cyclocity                4115[22]                       \n",
       "2  3 Gen. Smoove                   310[59]                        \n",
       "3  NA                              500[72]                        \n",
       "4  4 Gen. Ofo                      [75]                           \n",
       "5  3 Gen. nextbike                 180[76]                        \n",
       "6  3 Gen. nextbike                 600[77]                        \n",
       "7  2 Gen                           [78]                           \n",
       "8  3 Gen. SmooveKey                370[114]                       \n",
       "9  3 & 4 Gen. Call a Bike flex     350 [125]                      \n",
       "10 3 Gen. Smoove                   100[58]                        \n",
       "11 3 Gen.                          1526[159]                      \n",
       "12 NA                              180[161]                       \n",
       "13 NA                              32 (including 6 rollers)  [162]\n",
       "14 3 Gen. Clear CC                 4650 (1000 E)[174]             \n",
       "15 OV-Fiets/Nederlandse Spoorwegen 21700 [187]                    \n",
       "16 3 Gen. Cyclocity                120[206]                       \n",
       "17 NA                              400[208]                       \n",
       "18 NA                              200[212]                       \n",
       "19 NA                              25[214]                        \n",
       "20 NA                              85[217]                        \n",
       "21 nextbike                        120[221]                       \n",
       "22 NA                              2348[230]                      \n",
       "23 3 Gen. nextbike                 400[251]                       \n",
       "24 Urban Sharing                   500[252]                       \n",
       "25 NA                              1000[253]                      "
      ]
     },
     "metadata": {},
     "output_type": "display_data"
    }
   ],
   "source": [
    "result %>% \n",
    "    select(CITY, SYSTEM, BICYCLES) %>% \n",
    "    filter(find_reference_pattern(CITY) | find_reference_pattern(SYSTEM) | find_reference_pattern(BICYCLES))"
   ]
  },
  {
   "cell_type": "markdown",
   "metadata": {},
   "source": [
    "# TASK: Extract the numeric value using regular expressions\n"
   ]
  },
  {
   "cell_type": "markdown",
   "metadata": {},
   "source": [
    "*TODO:* Write a custom function using `stringr::str_extract` to extract the first digital substring match and convert it into numeric type For example, extract the value '32' from `32 (including 6 rollers) [162]`.\n"
   ]
  },
  {
   "cell_type": "code",
   "execution_count": 82,
   "metadata": {},
   "outputs": [],
   "source": [
    "# Extract the first number\n",
    "extract_num <- function(columns){\n",
    "    # Define a digital pattern\n",
    "    digitals_pattern <- \"[0-9]+\"\n",
    "    # Find the first match using str_extract\n",
    "    num_string <- str_extract(columns, digitals_pattern)\n",
    "    # Convert the result to numeric using the as.numeric() function\n",
    "    as.numeric(num_string)\n",
    "}"
   ]
  },
  {
   "cell_type": "markdown",
   "metadata": {},
   "source": [
    "*TODO:* Use the `dplyr::mutate()` function to apply `extract_num` on the `BICYCLES` column\n"
   ]
  },
  {
   "cell_type": "code",
   "execution_count": 83,
   "metadata": {},
   "outputs": [],
   "source": [
    "# Use the mutate() function on the BICYCLES column\n",
    "result <- result %>% mutate(BICYCLES = extract_num(BICYCLES))"
   ]
  },
  {
   "cell_type": "markdown",
   "metadata": {},
   "source": [
    "*TODO:* Use the summary function to check the descriptive statistics of the numeric `BICYCLES` column\n"
   ]
  },
  {
   "cell_type": "code",
   "execution_count": 84,
   "metadata": {},
   "outputs": [
    {
     "data": {
      "text/plain": [
       "   Min. 1st Qu.  Median    Mean 3rd Qu.    Max.    NA's \n",
       "      5     100     343    2012    1400   78000      76 "
      ]
     },
     "metadata": {},
     "output_type": "display_data"
    }
   ],
   "source": [
    "summary(result$BICYCLES)"
   ]
  },
  {
   "cell_type": "markdown",
   "metadata": {},
   "source": [
    "*TODO:* Write the cleaned bike-sharing systems dataset into a csv file called `bike_sharing_systems.csv`\n"
   ]
  },
  {
   "cell_type": "code",
   "execution_count": 85,
   "metadata": {},
   "outputs": [],
   "source": [
    "# Write dataset to `bike_sharing_systems.csv`\n",
    "write_csv(result,\"bike_sharing_systems.csv\")"
   ]
  },
  {
   "cell_type": "code",
   "execution_count": 3,
   "metadata": {},
   "outputs": [
    {
     "data": {
      "text/html": [
       "<table class=\"dataframe\">\n",
       "<caption>A data.frame: 6 × 4</caption>\n",
       "<thead>\n",
       "\t<tr><th></th><th scope=col>COUNTRY</th><th scope=col>CITY</th><th scope=col>SYSTEM</th><th scope=col>BICYCLES</th></tr>\n",
       "\t<tr><th></th><th scope=col>&lt;chr&gt;</th><th scope=col>&lt;chr&gt;</th><th scope=col>&lt;chr&gt;</th><th scope=col>&lt;int&gt;</th></tr>\n",
       "</thead>\n",
       "<tbody>\n",
       "\t<tr><th scope=row>475</th><td>United States</td><td>San Francisco Bay Area      </td><td>8D                                 </td><td>7000</td></tr>\n",
       "\t<tr><th scope=row>476</th><td>United States</td><td>Santa Monica, California    </td><td>3 Gen. CycleHop and Social Bicycles</td><td> 500</td></tr>\n",
       "\t<tr><th scope=row>477</th><td>United States</td><td>Savannah, Georgia           </td><td>3 Gen. B-Cycle                     </td><td>  16</td></tr>\n",
       "\t<tr><th scope=row>478</th><td>United States</td><td>Seattle, Washington         </td><td>8D                                 </td><td> 500</td></tr>\n",
       "\t<tr><th scope=row>479</th><td>United States</td><td>Spartanburg, South Carolina </td><td>3 Gen. B-Cycle                     </td><td>  40</td></tr>\n",
       "\t<tr><th scope=row>480</th><td>United States</td><td>St. Paul                    </td><td>1 Gen. w/ BikeCard                 </td><td>  NA</td></tr>\n",
       "</tbody>\n",
       "</table>\n"
      ],
      "text/latex": [
       "A data.frame: 6 × 4\n",
       "\\begin{tabular}{r|llll}\n",
       "  & COUNTRY & CITY & SYSTEM & BICYCLES\\\\\n",
       "  & <chr> & <chr> & <chr> & <int>\\\\\n",
       "\\hline\n",
       "\t475 & United States & San Francisco Bay Area       & 8D                                  & 7000\\\\\n",
       "\t476 & United States & Santa Monica, California     & 3 Gen. CycleHop and Social Bicycles &  500\\\\\n",
       "\t477 & United States & Savannah, Georgia            & 3 Gen. B-Cycle                      &   16\\\\\n",
       "\t478 & United States & Seattle, Washington          & 8D                                  &  500\\\\\n",
       "\t479 & United States & Spartanburg, South Carolina  & 3 Gen. B-Cycle                      &   40\\\\\n",
       "\t480 & United States & St. Paul                     & 1 Gen. w/ BikeCard                  &   NA\\\\\n",
       "\\end{tabular}\n"
      ],
      "text/markdown": [
       "\n",
       "A data.frame: 6 × 4\n",
       "\n",
       "| <!--/--> | COUNTRY &lt;chr&gt; | CITY &lt;chr&gt; | SYSTEM &lt;chr&gt; | BICYCLES &lt;int&gt; |\n",
       "|---|---|---|---|---|\n",
       "| 475 | United States | San Francisco Bay Area       | 8D                                  | 7000 |\n",
       "| 476 | United States | Santa Monica, California     | 3 Gen. CycleHop and Social Bicycles |  500 |\n",
       "| 477 | United States | Savannah, Georgia            | 3 Gen. B-Cycle                      |   16 |\n",
       "| 478 | United States | Seattle, Washington          | 8D                                  |  500 |\n",
       "| 479 | United States | Spartanburg, South Carolina  | 3 Gen. B-Cycle                      |   40 |\n",
       "| 480 | United States | St. Paul                     | 1 Gen. w/ BikeCard                  |   NA |\n",
       "\n"
      ],
      "text/plain": [
       "    COUNTRY       CITY                        \n",
       "475 United States San Francisco Bay Area      \n",
       "476 United States Santa Monica, California    \n",
       "477 United States Savannah, Georgia           \n",
       "478 United States Seattle, Washington         \n",
       "479 United States Spartanburg, South Carolina \n",
       "480 United States St. Paul                    \n",
       "    SYSTEM                              BICYCLES\n",
       "475 8D                                  7000    \n",
       "476 3 Gen. CycleHop and Social Bicycles  500    \n",
       "477 3 Gen. B-Cycle                        16    \n",
       "478 8D                                   500    \n",
       "479 3 Gen. B-Cycle                        40    \n",
       "480 1 Gen. w/ BikeCard                    NA    "
      ]
     },
     "metadata": {},
     "output_type": "display_data"
    }
   ],
   "source": [
    "final_bsharing <- read.csv(\"bike_sharing_systems.csv\")\n",
    "tail(final_bsharing)"
   ]
  },
  {
   "cell_type": "markdown",
   "metadata": {},
   "source": [
    "# References:\n"
   ]
  },
  {
   "cell_type": "markdown",
   "metadata": {},
   "source": [
    "If you need to refresh your memory about regular expressions, please refer to this good Regular Expression cheat sheet:\n",
    "\n",
    "<a href=\"https://www.rstudio.com/wp-content/uploads/2016/09/RegExCheatsheet.pdf?utm_medium=Exinfluencer&utm_source=Exinfluencer&utm_content=000026UJ&utm_term=10006555&utm_id=NA-SkillsNetwork-Channel-SkillsNetworkCoursesIBMDeveloperSkillsNetworkRP0321ENSkillsNetwork25371262-2021-01-01\" target=\"_blank\">Basic Regular Expressions in R</a>\n"
   ]
  },
  {
   "cell_type": "markdown",
   "metadata": {},
   "source": [
    "# Next Steps\n"
   ]
  },
  {
   "cell_type": "markdown",
   "metadata": {},
   "source": [
    "Great! Now you have cleaned up the bike-sharing system dataset using regular expressions. Next, you will use other `tidyverse` functions to perform data wrangling on the bike-sharing demand dataset.\n"
   ]
  },
  {
   "cell_type": "markdown",
   "metadata": {},
   "source": [
    "## Authors\n",
    "\n",
    "<a href=\"https://www.linkedin.com/in/yan-luo-96288783/?utm_medium=Exinfluencer&utm_source=Exinfluencer&utm_content=000026UJ&utm_term=10006555&utm_id=NA-SkillsNetwork-Channel-SkillsNetworkCoursesIBMDeveloperSkillsNetworkRP0321ENSkillsNetwork25371262-2021-01-01\" target=\"_blank\">Yan Luo</a>\n"
   ]
  },
  {
   "cell_type": "markdown",
   "metadata": {},
   "source": [
    "### Other Contributors\n",
    "\n",
    "Jeff Grossman\n"
   ]
  },
  {
   "cell_type": "markdown",
   "metadata": {},
   "source": [
    "## Change Log\n",
    "\n",
    "| Date (YYYY-MM-DD) | Version | Changed By | Change Description      |\n",
    "| ----------------- | ------- | ---------- | ----------------------- |\n",
    "| 2021-04-08        | 1.0     | Yan        | Initial version created |\n",
    "|                   |         |            |                         |\n",
    "|                   |         |            |                         |\n",
    "\n",
    "## <h3 align=\"center\"> © IBM Corporation 2021. All rights reserved. <h3/>\n"
   ]
  }
 ],
 "metadata": {
  "kernelspec": {
   "display_name": "R 4.1.2",
   "language": "R",
   "name": "r412"
  },
  "language_info": {
   "codemirror_mode": "r",
   "file_extension": ".r",
   "mimetype": "text/x-r-source",
   "name": "R",
   "pygments_lexer": "r",
   "version": "4.1.2"
  }
 },
 "nbformat": 4,
 "nbformat_minor": 4
}
